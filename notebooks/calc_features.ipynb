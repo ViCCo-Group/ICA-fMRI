{
 "cells": [
  {
   "cell_type": "markdown",
   "id": "dd33fa9a",
   "metadata": {},
   "source": [
    "## Calculate features from ICs\n",
    "\n",
    "- Edge fraction\n",
    "- High frequency content\n",
    "- ...\n",
    "- (features from paper)"
   ]
  },
  {
   "cell_type": "code",
   "execution_count": null,
   "id": "03a49cf1",
   "metadata": {},
   "outputs": [],
   "source": [
    "import os\n",
    "import sys\n",
    "import numpy as np\n",
    "import pandas as pd\n",
    "from nilearn.image import load_img, threshold_img, math_img, resample_to_img\n",
    "from scipy.ndimage.morphology import binary_erosion\n",
    "from scipy.signal import periodogram\n",
    "from os.path import join, pardir\n",
    "sys.path.append(pardir)\n",
    "from bids import BIDSLayout\n",
    "from tqdm import tqdm\n",
    "\n",
    "# plotting\n",
    "import matplotlib.pyplot as plt\n",
    "import seaborn as sb\n",
    "from nilearn.plotting import plot_img\n",
    "from nilearn.masking import intersect_masks, apply_mask"
   ]
  },
  {
   "cell_type": "code",
   "execution_count": null,
   "id": "c24ccbd1",
   "metadata": {},
   "outputs": [],
   "source": [
    "# Helper function\n",
    "def get_comps(metainfo_dict): # runinfo = bids layout?? think it's only needed to retrieve files\n",
    "    \"\"\"\n",
    "    ...\n",
    "    \"\"\"\n",
    "    # retrieve files\n",
    "    mixmat = np.loadtxt(join(metainfo_dict['fullpath'], 'melodic_mix'))\n",
    "    ica_nii_f = join(metainfo_dict['fullpath'], 'melodic_IC.nii.gz')\n",
    "    comps_arr = load_img(ica_nii_f).get_fdata()\n",
    "    return mixmat, comps_arr\n",
    "\n",
    "# Helper function\n",
    "def get_edge_mask(metainfo_dict, ds_layout): # runinfo = bids layout?? think it's only needed to retrieve files\n",
    "    \"\"\"\n",
    "    ...\n",
    "    \"\"\"\n",
    "    # retrieve fmriprep/func brainmask file\n",
    "    brainmask_f_temp = ds_layout.get(\n",
    "        scope='derivatives',\n",
    "        return_type='filename',\n",
    "        subject=metainfo_dict['subject'],\n",
    "        session=metainfo_dict['session'],\n",
    "        run=metainfo_dict['run'],\n",
    "        task=metainfo_dict['task'],\n",
    "        space=metainfo_dict['space'],\n",
    "        desc='brain',\n",
    "        suffix='mask',\n",
    "        extension='nii.gz'\n",
    "    )\n",
    "    #print(\"brainmask_f_temp\", brainmask_f_temp)\n",
    "    #sys.exit()\n",
    "    brainmask_f = brainmask_f_temp[0]\n",
    "    # Not sure if I have correct file here, file from Oli's script is:\n",
    "    # 'fmriprep/../sub-XX_acq-prescannormalized_rec-pydeface_label-CSF_probseg.nii.gz'\n",
    "    if metainfo_dict['space'] == 'T1w':\n",
    "        csf_anat_f_temp = ds_layout.get(\n",
    "                #scope='fmriprep', -> seems not to work, don't know why\n",
    "                return_type='filename',\n",
    "                subject=metainfo_dict['subject'],\n",
    "                #space=metainfo_dict['space'],\n",
    "                label='CSF',\n",
    "                suffix='probseg',\n",
    "                extension='nii.gz'\n",
    "        )\n",
    "        csf_anat_f = csf_anat_f_temp[0]\n",
    "    else:\n",
    "        csf_anat_f_temp = ds_layout.get(\n",
    "                #scope='fmriprep', -> seems not to work, don't know why\n",
    "                return_type='filename',\n",
    "                subject=metainfo_dict['subject'],\n",
    "                space=metainfo_dict['space'],\n",
    "                label='CSF',\n",
    "                suffix='probseg',\n",
    "                extension='nii.gz'\n",
    "        )\n",
    "        csf_anat_f = csf_anat_f_temp[0]\n",
    "    csf_func = threshold_img(\n",
    "        resample_to_img(csf_anat_f, brainmask_f, interpolation='linear'),\n",
    "        threshold=1.\n",
    "    )\n",
    "    brainmask = load_img(brainmask_f).get_fdata()\n",
    "    mask_img = math_img('img1 - img2', img1=brainmask_f, img2=csf_func)\n",
    "    mask_arr = mask_img.get_fdata()\n",
    "    # worked okayish with erosion iterations=2\n",
    "    # -> what is erosion?\n",
    "    edgefrac_thickness = int(2)\n",
    "    ero_mask = binary_erosion(mask_arr, iterations=edgefrac_thickness).astype(int)\n",
    "    edgemask = mask_arr - ero_mask\n",
    "    return edgemask.astype(bool), brainmask.astype(bool)\n",
    "\n",
    "# Edge fraction\n",
    "def calc_edgefrac(comp_arr, edgemask, brainmask):\n",
    "    return np.absolute(comp_arr[edgemask]).sum() / np.absolute(comp_arr[brainmask]).sum()\n",
    "\n",
    "# High frequency content\n",
    "def calc_hfc(timeseries, tr=1.5):\n",
    "    \"\"\"Calculate high frequency content for time series data. Tr can generally mean sampling rate in seconds.\"\"\"\n",
    "    nf = (1. / tr) * .5  # nyquist\n",
    "    freqs, power = periodogram(timeseries, fs=1. / tr)\n",
    "    relcumsum = np.cumsum(power) / power.sum()\n",
    "    freqind = np.argmin(np.absolute(relcumsum - .5))\n",
    "    hfc = freqs[freqind] / nf\n",
    "    return hfc"
   ]
  },
  {
   "cell_type": "code",
   "execution_count": null,
   "id": "c8f5061b",
   "metadata": {},
   "outputs": [],
   "source": [
    "# Hardcoded paths 1/2\n",
    "#'/LOCAL/jzerbe/faces_vs_houses/ds002938' #'/LOCAL/jzerbe/emotion_category/ds003548'\n",
    "bidsdata_dir = '/LOCAL/jzerbe/auditory_vs_visual/ds003717' \n",
    "base_dir = '/LOCAL/jzerbe/auditory_vs_visual' #'/LOCAL/jzerbe/emotion_category/' # not needed?"
   ]
  },
  {
   "cell_type": "code",
   "execution_count": null,
   "id": "f1bae2a6",
   "metadata": {},
   "outputs": [],
   "source": [
    "# Run\n",
    "calculate_features(bidsdata_dir)"
   ]
  },
  {
   "cell_type": "code",
   "execution_count": null,
   "id": "e16e8122",
   "metadata": {},
   "outputs": [],
   "source": []
  },
  {
   "cell_type": "code",
   "execution_count": null,
   "id": "2df905e6",
   "metadata": {
    "scrolled": true
   },
   "outputs": [],
   "source": [
    "# Main function\n",
    "def calculate_features(bidsdata_dir):\n",
    "    \"\"\"Get dict with calculated features for each melodic run.\"\"\"\n",
    "    melodic_base_dir = join(bidsdata_dir, 'derivatives', 'melodic')\n",
    "    print(\"creating BIDS layout ...\")\n",
    "    ds_layout = BIDSLayout(bidsdata_dir, derivatives=True)\n",
    "    # TODO: 'melodic' needs dataset_description.json or melodic_entities is empty\n",
    "    print(\"get melodic directory names ...\")\n",
    "    melodic_entities = ds_layout.get(scope='melodic', return_type='filename', suffix='IC', extension='nii.gz')\n",
    "    # Sanity check\n",
    "    print(\"[Sanity check] melodic_entities length: \", len(melodic_entities))\n",
    "    results_dicts = []\n",
    "    #i = 1 # iteration counter\n",
    "    for entity in tqdm(melodic_entities, desc=f'iterating over runs'):\n",
    "        # Cumbersome workaround to get correct filenames (TODO: better filenaming with DataSink!)\n",
    "        #print(\"**ITERATION** \", i)\n",
    "        #j = 1 # iteration counter\n",
    "        melodic_dir_split = entity.split('/')\n",
    "        dir_name = melodic_dir_split[-2]\n",
    "        metainfo_split = dir_name.split('_')\n",
    "        # Get substring if present\n",
    "        subject = [s[4:] for s in metainfo_split if \"sub-\" in s]\n",
    "        session = [s[4:] for s in metainfo_split if \"ses-\" in s]\n",
    "        task = [s[5:] for s in metainfo_split if \"task-\" in s]\n",
    "        run = [s[4:] for s in metainfo_split if \"run-\" in s]\n",
    "        space = [s[6:] for s in metainfo_split if \"space-\" in s]\n",
    "        # Put substring in dict\n",
    "        metainfo_dict = {\n",
    "            'subject': None if subject in ([], ['None']) else subject[0],\n",
    "            'session': None if session in ([], ['None']) else session[0],\n",
    "            'task': None if task in ([], ['None']) else task[0],\n",
    "            'run': None if run in ([], ['None']) else run[0],\n",
    "            'space': None if space in ([], ['None']) else space[0],\n",
    "            'directory': dir_name,\n",
    "            'fullpath':'/'.join(melodic_dir_split[:-1])\n",
    "        }\n",
    "        #print(\"metainfo_dict\", metainfo_dict)\n",
    "        #sys.exit()\n",
    "        #i += 1\n",
    "        #print(\"metainfo_dict\", metainfo_dict)\n",
    "        #print(\"metainfo_dict_type\", type(metainfo_dict[\"run\"]))\n",
    "        #sys.exit()\n",
    "        #if metainfo_dict['subject'] in ['01', '02', '03', '04', '05', '06', '07', '08']:\n",
    "        #    continue    \n",
    "        #else:\n",
    "        mixmat, comps_arr = get_comps(metainfo_dict)\n",
    "        edgemask, brainmask = get_edge_mask(metainfo_dict, ds_layout)\n",
    "            \n",
    "        for comp_i in range(mixmat.shape[-1]):\n",
    "            #print(\"***INSIDE ITERATION*** \", j)\n",
    "            #results_dict = {'subject': metainfo_dict['subject'], # obsolete? same as metainfo_dict\n",
    "            #                'session': metainfo_dict['session'],\n",
    "            #                'run': metainfo_dict['run'],\n",
    "            #                'task': metainfo_dict['task'],\n",
    "            #                'space': metainfo_dict['space'],\n",
    "            #                'directory': metainfo_dict['directory'],\n",
    "            #                'fullpath': metainfo_dict['fullpath']}\n",
    "            #print(\"results_dict\", results_dict)\n",
    "            #sys.exit()\n",
    "            #print(results_dict)\n",
    "            comp_arr = comps_arr[:, :, :, comp_i]\n",
    "            comp_ts = mixmat[:, comp_i]\n",
    "            #print(\"comp_arr: \", comp_arr.shape)\n",
    "            #print(\"edgemask: \", edgemask.shape)\n",
    "            #print(\"brainmask: \", brainmask.shape)\n",
    "            # Calculate edge fraction\n",
    "            metainfo_dict['edgefrac'] = calc_edgefrac(comp_arr, edgemask, brainmask)\n",
    "            # Calculate high frequency content\n",
    "            metainfo_dict['hfc'] = calc_hfc(comp_ts)\n",
    "            results_dicts.append(metainfo_dict)\n",
    "            #j += 1\n",
    "    return results_dicts\n",
    "    "
   ]
  },
  {
   "cell_type": "code",
   "execution_count": null,
   "id": "3686f1ac",
   "metadata": {
    "scrolled": true
   },
   "outputs": [],
   "source": [
    "# Put results in dataframe\n",
    "# sort after sapces (T1w, MNI)\n",
    "results_df_all = pd.DataFrame(results_dicts)\n",
    "# exclude resting from dataset\n",
    "results_df = results_df_all[results_df_all['task'] != 'rest']\n",
    "results_df"
   ]
  },
  {
   "cell_type": "code",
   "execution_count": null,
   "id": "ce9507e5",
   "metadata": {},
   "outputs": [],
   "source": [
    "results_df_all.to_csv('/LOCAL/jzerbe/code/ICA-fMRI/results/df_features_faces-vs-houses.csv')"
   ]
  },
  {
   "cell_type": "code",
   "execution_count": null,
   "id": "9f82c4e1",
   "metadata": {},
   "outputs": [],
   "source": [
    "df_test = pd.read_csv(r'/LOCAL/jzerbe/code/ICA-fMRI/results/df_features_faces-vs-houses.csv')\n",
    "df_test"
   ]
  },
  {
   "cell_type": "code",
   "execution_count": null,
   "id": "af40433e",
   "metadata": {
    "scrolled": true
   },
   "outputs": [],
   "source": [
    "results_df['space'].unique()"
   ]
  },
  {
   "cell_type": "code",
   "execution_count": null,
   "id": "64f0c61b",
   "metadata": {},
   "outputs": [],
   "source": [
    "# Hardcoded paths 2/2\n",
    "fig_path = '/LOCAL/jzerbe/code/ICA-fMRI/figures/'\n",
    "fig_ds = 'faces-vs-houses' #'emotion-category' # 'faces-vs-houses'\n",
    "fig_space = 'T1w'\n",
    "subplot_spaces = results_df[results_df['space'] == fig_space]"
   ]
  },
  {
   "cell_type": "code",
   "execution_count": null,
   "id": "ab465188",
   "metadata": {},
   "outputs": [],
   "source": [
    "# Visualize hfc\n",
    "hfc_plt = plt.hist(subplot_spaces['hfc'], bins=70)\n",
    "plt.title(f'HFC | {fig_ds} | {fig_space}')\n",
    "plt.savefig(fig_path + f'{fig_ds}_hfc_{fig_space}' + '.jpg')"
   ]
  },
  {
   "cell_type": "code",
   "execution_count": null,
   "id": "6eb65077",
   "metadata": {},
   "outputs": [],
   "source": [
    "# Seaborn density plot\n",
    "sb.kdeplot(subplot_spaces['hfc'], color='skyblue', fill=True, alpha=.5, linewidth=1.5)\n",
    "plt.title(f'HFC | {fig_ds} | {fig_space}')\n",
    "plt.savefig(fig_path + f'{fig_ds}_hfc_{fig_space}_density' + '.jpg')"
   ]
  },
  {
   "cell_type": "code",
   "execution_count": null,
   "id": "9807e812",
   "metadata": {},
   "outputs": [],
   "source": [
    "# Visualize edge fraction\n",
    "edgefrac_plt = plt.hist(subplot_spaces['edgefrac'], bins=100)\n",
    "plt.title(f'Edge Fraction | {fig_ds} | {fig_space}')\n",
    "plt.savefig(fig_path + f'{fig_ds}_edgefrac_{fig_space}' + '.jpg')"
   ]
  },
  {
   "cell_type": "code",
   "execution_count": null,
   "id": "436f351d",
   "metadata": {},
   "outputs": [],
   "source": [
    "# Seaborn density plot\n",
    "sb.kdeplot(subplot_spaces['edgefrac'], color='skyblue', fill=True, alpha=.5, linewidth=1.5)\n",
    "plt.title(f'Edge Fraction | {fig_ds} | {fig_space}')\n",
    "plt.savefig(fig_path + f'{fig_ds}_edgefrac_{fig_space}_density' + '.jpg')"
   ]
  },
  {
   "cell_type": "markdown",
   "id": "6757b8d3",
   "metadata": {},
   "source": [
    "# Oli explores calculating ALT features"
   ]
  },
  {
   "cell_type": "code",
   "execution_count": null,
   "id": "10363e6f",
   "metadata": {},
   "outputs": [],
   "source": []
  },
  {
   "cell_type": "code",
   "execution_count": null,
   "id": "a7226af5",
   "metadata": {},
   "outputs": [],
   "source": [
    "comp_f = \"/LOCAL/jzerbe/faces_vs_houses/ds002938/derivatives/melodic/sub-03/sub-03_ses-None_task-effort_run-None_space-T1w-melodic/stats/thresh_zstat100.nii.gz\"\n",
    "aseg_f = '/LOCAL/jzerbe/faces_vs_houses/ds002938/derivatives/fmriprep/sub-03/func/sub-03_task-effort_space-T1w_desc-aseg_dseg.nii.gz'\n",
    "bmask_f = '/LOCAL/jzerbe/faces_vs_houses/ds002938/derivatives/fmriprep/sub-03/func/sub-03_task-effort_space-T1w_desc-brain_mask.nii.gz'"
   ]
  },
  {
   "cell_type": "code",
   "execution_count": null,
   "id": "92539000",
   "metadata": {},
   "outputs": [],
   "source": [
    "def aseg2gm(aseg_f):\n",
    "    gm_left = math_img('img == 3', img=aseg_f)\n",
    "    gm_right = math_img('img == 42', img=aseg_f)\n",
    "    gm = intersect_masks([gm_left, gm_right], threshold=0, connected=False)\n",
    "    return gm\n",
    "gm = aseg2gm(aseg_f)"
   ]
  },
  {
   "cell_type": "code",
   "execution_count": null,
   "id": "299fa841",
   "metadata": {},
   "outputs": [],
   "source": [
    "def calc_gm_prop(comp_f, aseg_f, bmask_f):\n",
    "    # get gm mask\n",
    "    gm = aseg2gm(aseg_f)\n",
    "    # count significant voxels in grey matter\n",
    "    comp_gm = apply_mask(comp_f, gm)\n",
    "    nsig_gm = np.sum(comp_gm > 0.)\n",
    "    # counts ignificant voxels in whole brain\n",
    "    comp_brain = apply_mask(comp_f, bmask_f)\n",
    "    nsig_brain = np.sum(comp_brain > 0.)\n",
    "    #return ratio\n",
    "    gm_prop = nsig_gm / nsig_brain\n",
    "    return gm_prop"
   ]
  },
  {
   "cell_type": "code",
   "execution_count": null,
   "id": "bd9c921c",
   "metadata": {},
   "outputs": [],
   "source": []
  },
  {
   "cell_type": "code",
   "execution_count": null,
   "id": "58994e0f",
   "metadata": {},
   "outputs": [],
   "source": []
  },
  {
   "cell_type": "code",
   "execution_count": null,
   "id": "d2882eb7",
   "metadata": {},
   "outputs": [],
   "source": []
  },
  {
   "cell_type": "code",
   "execution_count": null,
   "id": "a8cd2445",
   "metadata": {},
   "outputs": [],
   "source": [
    "gm_prop"
   ]
  },
  {
   "cell_type": "code",
   "execution_count": null,
   "id": "8ea7a97e",
   "metadata": {},
   "outputs": [],
   "source": [
    "# "
   ]
  }
 ],
 "metadata": {
  "kernelspec": {
   "display_name": "Python 3",
   "language": "python",
   "name": "python3"
  },
  "language_info": {
   "codemirror_mode": {
    "name": "ipython",
    "version": 3
   },
   "file_extension": ".py",
   "mimetype": "text/x-python",
   "name": "python",
   "nbconvert_exporter": "python",
   "pygments_lexer": "ipython3",
   "version": "3.6.9"
  }
 },
 "nbformat": 4,
 "nbformat_minor": 5
}
