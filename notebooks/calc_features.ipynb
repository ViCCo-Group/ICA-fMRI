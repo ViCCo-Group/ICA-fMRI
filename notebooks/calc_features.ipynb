{
 "cells": [
  {
   "cell_type": "markdown",
   "id": "dd33fa9a",
   "metadata": {},
   "source": [
    "## Calculate features from ICs\n",
    "\n",
    "- Edge fraction\n",
    "- High frequency content\n",
    "- ...\n",
    "- (features from paper)"
   ]
  },
  {
   "cell_type": "code",
   "execution_count": 1,
   "id": "03a49cf1",
   "metadata": {},
   "outputs": [
    {
     "name": "stderr",
     "output_type": "stream",
     "text": [
      "/LOCAL/jzerbe/testenv/lib/python3.6/site-packages/nilearn/__init__.py:69: FutureWarning: Python 3.6 support is deprecated and will be removed in release 0.10 of Nilearn. Consider switching to Python 3.8 or 3.9.\n",
      "  _python_deprecation_warnings()\n"
     ]
    }
   ],
   "source": [
    "import os\n",
    "import sys\n",
    "import numpy as np\n",
    "from nilearn.image import load_img, threshold_img, math_img, resample_to_img\n",
    "from os.path import join, pardir\n",
    "sys.path.append(pardir)\n",
    "from bids import BIDSLayout\n",
    "#from tqdm import tqdm"
   ]
  },
  {
   "cell_type": "code",
   "execution_count": 10,
   "id": "c24ccbd1",
   "metadata": {},
   "outputs": [],
   "source": [
    "# Helper functions\n",
    "def get_comps(metainfo_dict): # runinfo = bids layout?? think it's only needed to retrieve files\n",
    "    \"\"\"\n",
    "    ...\n",
    "    \"\"\"\n",
    "    # retrieve files\n",
    "    mixmat = np.loadtxt(join(metainfo_dict['fullpath'], 'melodic_mix'))\n",
    "    ica_nii_f = join(metainfo_dict['fullpath'], 'melodic_IC.nii.gz')\n",
    "    comps_arr = load_img(ica_nii_f).get_fdata()\n",
    "    return mixmat, comps_arr\n",
    "\n",
    "def get_edge_mask(metainfo_dict, ds_layout): # runinfo = bids layout?? think it's only needed to retrieve files\n",
    "    \"\"\"\n",
    "    ...\n",
    "    \"\"\"\n",
    "    # retrieve files\n",
    "    brainmask_f = ds_layout.get(scope='fmriprep', return_type='filename',\n",
    "                                subject=metainfo_dict['subject'],\n",
    "                                session=metainfo_dict['session'],\n",
    "                                run=metainfo_dict['run'],\n",
    "                                task=metainfo_dict['task'],\n",
    "                                space=metainfo_dict['space'],\n",
    "                                desc='brain_mask',\n",
    "                                extension='nii.gz')\n",
    "    csf_anat_f = ds_layout.get(scope='fmriprep', return_type='filename',\n",
    "                                subject=metainfo_dict['subject'],\n",
    "                                session=metainfo_dict['session'],\n",
    "                                run=metainfo_dict['run'],\n",
    "                                task=metainfo_dict['task'],\n",
    "                                space=metainfo_dict['space'],\n",
    "                                acq='brain_mask',\n",
    "                                extension='nii.gz')\n",
    "    #pjoin(\n",
    "    #    self.bidsroot, 'derivatives', 'fmriprep', f\"sub-{runinfo['subject']}\", 'anat',\n",
    "    #    f\"sub-{runinfo['subject']}_acq-prescannormalized_rec-pydeface_label-CSF_probseg.nii.gz\"\n",
    "    #)\n",
    "    csf_func = threshold_img(\n",
    "        resample_to_img(csf_anat_f, brainmask_f, interpolation='linear'),\n",
    "        threshold=1.\n",
    "    )\n",
    "    # load image?\n",
    "    brainmask = load_img(brainmask_f).get_fdata()\n",
    "    mask_img = math_img('img1 - img2', img1=brainmask_f, img2=csf_func)\n",
    "    mask_arr = mask_img.get_fdata()\n",
    "    # worked okayish with erosion iterations=2\n",
    "    # what is ero mask?\n",
    "    ero_mask = binary_erosion(mask_arr, iterations=self.edgefrac_thickness).astype(int)\n",
    "    edgemask = mask_arr - ero_mask\n",
    "    return edgemask.astype(bool), brainmask.astype(bool)\n"
   ]
  },
  {
   "cell_type": "code",
   "execution_count": 3,
   "id": "c44668f8",
   "metadata": {},
   "outputs": [],
   "source": [
    "# Edge fraction\n",
    "def calc_edgefrac(comp_arr, edgemask, brainmask):\n",
    "    return np.absolute(comp_arr[edgemask]).sum() / np.absolute(comp_arr[brainmask]).sum()"
   ]
  },
  {
   "cell_type": "code",
   "execution_count": 4,
   "id": "128cdb2c",
   "metadata": {},
   "outputs": [],
   "source": [
    "# High frequency content\n",
    "def calc_hfc(timeseries, tr=1.5):\n",
    "    \"\"\"Calculate high frequency content for time series data. Tr can generally mean sampling rate in seconds.\"\"\"\n",
    "    nf = (1. / tr) * .5  # nyquist\n",
    "    freqs, power = periodogram(timeseries, fs=1. / tr)\n",
    "    relcumsum = np.cumsum(power) / power.sum()\n",
    "    freqind = np.argmin(np.absolute(relcumsum - .5))\n",
    "    hfc = freqs[freqind] / nf\n",
    "    return hfc"
   ]
  },
  {
   "cell_type": "code",
   "execution_count": 5,
   "id": "c8f5061b",
   "metadata": {},
   "outputs": [],
   "source": [
    "# paths\n",
    "bidsdata_dir = '/LOCAL/jzerbe/faces_vs_houses/ds002938'\n",
    "base_dir = '/LOCAL/jzerbe/temp_results'\n",
    "melodic_base_dir = join(bidsdata_dir, 'derivatives', 'melodic')"
   ]
  },
  {
   "cell_type": "code",
   "execution_count": 6,
   "id": "f3e49b70",
   "metadata": {},
   "outputs": [],
   "source": [
    "# create layout\n",
    "ds_layout = BIDSLayout(bidsdata_dir, derivatives=True)"
   ]
  },
  {
   "cell_type": "code",
   "execution_count": 15,
   "id": "2df905e6",
   "metadata": {},
   "outputs": [],
   "source": [
    "# main\n",
    "results_dicts = []\n",
    "melodic_entities = ds_layout.get(scope='melodic', return_type='filename', suffix='IC', extension='nii.gz')\n",
    "\n",
    "for entity in melodic_entities:\n",
    "    # cumbersome workaround to get correct filenames (TODO: better filenaming!)\n",
    "    melodic_dir_split = entity.split('/')\n",
    "    dir_name = melodic_dir_split[-2]\n",
    "    metainfo_split = dir_name.split('_')\n",
    "    metainfo_dict = {'subject':(metainfo_split[0])[4:], 'session':(metainfo_split[1])[4:],\n",
    "                     'task':(metainfo_split[2])[5:], 'run':(metainfo_split[3])[4:],\n",
    "                     'space':(metainfo_split[4])[6:-8], 'directory':melodic_dir_split[-2],\n",
    "                     'fullpath':'/'.join(melodic_dir_split[:-1])}\n",
    "    metainfo_dict['session'] = None if metainfo_dict['session'] == 'None' else metainfo_dict['session']\n",
    "    metainfo_dict['run'] = None if metainfo_dict['run'] == 'None' else metainfo_dict['run']\n",
    "    \n",
    "    mixmat, comps_arr = get_comps(metainfo_dict)\n",
    "    edgemask, brainmask = self.get_edge_mask(metainfo_dict, ds_layout)\n",
    "    "
   ]
  },
  {
   "cell_type": "code",
   "execution_count": 17,
   "id": "90609f35",
   "metadata": {},
   "outputs": [
    {
     "name": "stdout",
     "output_type": "stream",
     "text": [
      "None\n"
     ]
    }
   ],
   "source": [
    "print(metainfo_dict['session'])"
   ]
  },
  {
   "cell_type": "code",
   "execution_count": null,
   "id": "ab465188",
   "metadata": {},
   "outputs": [],
   "source": [
    "edgemask, brainmask = self.get_edge_mask(runinfo)\n",
    "\n",
    "for bo in tqdm(bidsobs, desc='iterating over runs'): # what if there are no runs i.e. run = ''?\n",
    "    # get_entities() rint all the entities associated with this file, and their values\n",
    "    # ex: {'datatype': 'func',\n",
    "    #      'extension': 'nii.gz',\n",
    "    #      'session': 'test',\n",
    "    #      'subject': '01',\n",
    "    #      'suffix': 'bold',\n",
    "    #      'task': 'fingerfootlips'}\n",
    "    runinfo = bo.get_entities() # gives back names of files?\n",
    "    \n",
    "    for comp_i in range(mixmat.shape[-1]):\n",
    "        results_dict = {'subject': runinfo['subject'], 'session': runinfo['session'], 'task': runinfo['task'],\n",
    "                                'run': runinfo['run']}\n",
    "        comp_arr = comps_arr[:, :, :, comp_i]\n",
    "        comp_ts = mixmat[:, comp_i]\n",
    "        # Calculate edge fraction\n",
    "        results_dict['edgefrac'] = calc_edgefrac(comp_arr, edgemask, brainmask)\n",
    "        # Calculate high frequency content\n",
    "        results_dict['hfc'] = calc_hfc(comp_ts)\n",
    "        results_dicts.append(results_dict)\n",
    "\n"
   ]
  }
 ],
 "metadata": {
  "kernelspec": {
   "display_name": "Python 3",
   "language": "python",
   "name": "python3"
  },
  "language_info": {
   "codemirror_mode": {
    "name": "ipython",
    "version": 3
   },
   "file_extension": ".py",
   "mimetype": "text/x-python",
   "name": "python",
   "nbconvert_exporter": "python",
   "pygments_lexer": "ipython3",
   "version": "3.6.9"
  }
 },
 "nbformat": 4,
 "nbformat_minor": 5
}
