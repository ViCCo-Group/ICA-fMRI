{
 "cells": [
  {
   "cell_type": "markdown",
   "id": "dd33fa9a",
   "metadata": {},
   "source": [
    "## Calculate features from ICs\n",
    "\n",
    "- Edge fraction\n",
    "- High frequency content\n",
    "- ...\n",
    "- (features from paper)"
   ]
  },
  {
   "cell_type": "code",
   "execution_count": 1,
   "id": "03a49cf1",
   "metadata": {},
   "outputs": [
    {
     "name": "stderr",
     "output_type": "stream",
     "text": [
      "/LOCAL/jzerbe/testenv/lib/python3.6/site-packages/nilearn/__init__.py:69: FutureWarning: Python 3.6 support is deprecated and will be removed in release 0.10 of Nilearn. Consider switching to Python 3.8 or 3.9.\n",
      "  _python_deprecation_warnings()\n"
     ]
    }
   ],
   "source": [
    "import os, psutil\n",
    "import sys\n",
    "from datetime import datetime\n",
    "\n",
    "import numpy as np\n",
    "import pandas as pd\n",
    "from nilearn.image import load_img, threshold_img, math_img, resample_to_img\n",
    "from scipy.ndimage.morphology import binary_erosion\n",
    "from scipy.signal import periodogram\n",
    "from os.path import join, pardir\n",
    "sys.path.append(pardir)\n",
    "from bids import BIDSLayout\n",
    "from tqdm import tqdm\n",
    "import humanize\n",
    "\n",
    "# plotting\n",
    "import matplotlib.pyplot as plt\n",
    "import seaborn as sb\n",
    "from nilearn.plotting import plot_img\n",
    "from nilearn.masking import intersect_masks, apply_mask"
   ]
  },
  {
   "cell_type": "code",
   "execution_count": 2,
   "id": "c24ccbd1",
   "metadata": {},
   "outputs": [],
   "source": [
    "# Helper function\n",
    "def get_comps(metainfo_dict):\n",
    "    \"\"\"\n",
    "    ...\n",
    "    \"\"\"\n",
    "    # retrieve files\n",
    "    mixmat = np.loadtxt(join(metainfo_dict['fullpath'], 'melodic_mix'))\n",
    "    ica_nii_f = join(metainfo_dict['fullpath'], 'melodic_IC.nii.gz')\n",
    "    comps_arr = load_img(ica_nii_f).get_fdata()\n",
    "    return mixmat, comps_arr\n",
    "\n",
    "# Helper function\n",
    "def get_masks(metainfo_dict, ds_layout):\n",
    "    \"\"\"\n",
    "    ...\n",
    "    \"\"\"\n",
    "    # retrieve fmriprep/func brainmask file\n",
    "    brainmask_f_temp = ds_layout.get(\n",
    "        scope='derivatives',\n",
    "        return_type='filename',\n",
    "        subject=metainfo_dict['subject'],\n",
    "        session=metainfo_dict['session'],\n",
    "        run=metainfo_dict['run'],\n",
    "        task=metainfo_dict['task'],\n",
    "        space=metainfo_dict['space'],\n",
    "        desc='brain',\n",
    "        suffix='mask',\n",
    "        extension='nii.gz'\n",
    "    )\n",
    "    #print(\"brainmask_f_temp\", brainmask_f_temp)\n",
    "    #sys.exit()\n",
    "    brainmask_f = brainmask_f_temp[0]\n",
    "    # Not sure if I have correct file here, file from Oli's script is:\n",
    "    # 'fmriprep/../sub-XX_acq-prescannormalized_rec-pydeface_label-CSF_probseg.nii.gz'\n",
    "    if metainfo_dict['space'] == 'T1w':\n",
    "        csf_anat_f_temp = ds_layout.get(\n",
    "                #scope='fmriprep', -> seems not to work, don't know why\n",
    "                return_type='filename',\n",
    "                subject=metainfo_dict['subject'],\n",
    "                #space=metainfo_dict['space'],\n",
    "                label='CSF',\n",
    "                suffix='probseg',\n",
    "                extension='nii.gz'\n",
    "        )\n",
    "        csf_anat_f = csf_anat_f_temp[0]\n",
    "    else:\n",
    "        csf_anat_f_temp = ds_layout.get(\n",
    "                #scope='fmriprep', -> seems not to work, don't know why\n",
    "                return_type='filename',\n",
    "                subject=metainfo_dict['subject'],\n",
    "                space=metainfo_dict['space'],\n",
    "                label='CSF',\n",
    "                suffix='probseg',\n",
    "                extension='nii.gz'\n",
    "        )\n",
    "        csf_anat_f = csf_anat_f_temp[0]\n",
    "    csf_func = threshold_img(\n",
    "        resample_to_img(csf_anat_f, brainmask_f, interpolation='linear'),\n",
    "        threshold=1.\n",
    "    )\n",
    "    brainmask = load_img(brainmask_f).get_fdata()\n",
    "    mask_img = math_img('img1 - img2', img1=brainmask_f, img2=csf_func)\n",
    "    mask_arr = mask_img.get_fdata()\n",
    "    # worked okayish with erosion iterations=2\n",
    "    edgefrac_thickness = int(2)\n",
    "    ero_mask = binary_erosion(mask_arr, iterations=edgefrac_thickness).astype(int)\n",
    "    edgemask = mask_arr - ero_mask\n",
    "    return edgemask.astype(bool), brainmask.astype(bool)\n",
    "\n",
    "# Helper function\n",
    "def get_gmfiles(metainfo_dict, ds_layout):\n",
    "    bmask_f = ds_layout.get(\n",
    "        scope='derivatives',\n",
    "        return_type='filename',\n",
    "        subject=metainfo_dict['subject'],\n",
    "        session=metainfo_dict['session'],\n",
    "        run=metainfo_dict['run'],\n",
    "        task=metainfo_dict['task'],\n",
    "        space=metainfo_dict['space'],\n",
    "        desc='brain',\n",
    "        suffix='mask',\n",
    "        extension='nii.gz'\n",
    "    )\n",
    "    aseg_f = ds_layout.get(\n",
    "        scope='derivatives',\n",
    "        return_type='filename',\n",
    "        subject=metainfo_dict['subject'],\n",
    "        session=metainfo_dict['session'],\n",
    "        run=metainfo_dict['run'],\n",
    "        task=metainfo_dict['task'],\n",
    "        space=metainfo_dict['space'],\n",
    "        desc='aseg',\n",
    "        suffix='dseg',\n",
    "        extension='nii.gz'\n",
    "    )\n",
    "    # aseg2gm\n",
    "    gm_left = math_img('img == 3', img=aseg_f)\n",
    "    gm_right = math_img('img == 42', img=aseg_f)\n",
    "    gm = intersect_masks([gm_left, gm_right], threshold=0, connected=False)\n",
    "    return comp_f, bmask_f, gm\n",
    "\n",
    "# Edge fraction\n",
    "def calc_edgefrac(comp_arr, edgemask, brainmask):\n",
    "    return np.absolute(comp_arr[edgemask]).sum() / np.absolute(comp_arr[brainmask]).sum()\n",
    "\n",
    "# High frequency content\n",
    "def calc_hfc(timeseries, tr=1.5):\n",
    "    \"\"\"\n",
    "    Calculate high frequency content for time series data.\n",
    "    Tr can generally mean sampling rate in seconds.\n",
    "    \"\"\"\n",
    "    nf = (1. / tr) * .5  # nyquist\n",
    "    freqs, power = periodogram(timeseries, fs=1. / tr)\n",
    "    relcumsum = np.cumsum(power) / power.sum()\n",
    "    freqind = np.argmin(np.absolute(relcumsum - .5))\n",
    "    hfc = freqs[freqind] / nf\n",
    "    return hfc\n",
    "\n",
    "# Gray matter proportion\n",
    "def calc_gm_prop(comp_i, bmask_f, gm):\n",
    "    \"\"\"\n",
    "    Calculate the proportion of the (active) gray matter voxels of a volume\n",
    "    compared to the whole number of gray voxels in the brain.\n",
    "    \"\"\"\n",
    "    comp_f = ds_layout.get(\n",
    "        scope='melodic',\n",
    "        return_type='filename',\n",
    "        suffix=f'zstat{comp_i}',\n",
    "        extension='nii.gz'\n",
    "    )\n",
    "    # count significant voxels in gray matter\n",
    "    comp_gm = apply_mask(comp_f, gm)\n",
    "    nsig_gm = np.sum(comp_gm > 0.)\n",
    "    # count significant voxels in whole brain\n",
    "    comp_brain = apply_mask(comp_f, bmask_f)\n",
    "    nsig_brain = np.sum(comp_brain > 0.)\n",
    "    # return ratio\n",
    "    gm_prop = nsig_gm / nsig_brain\n",
    "    return gm_prop"
   ]
  },
  {
   "cell_type": "code",
   "execution_count": null,
   "id": "ca03158d",
   "metadata": {},
   "outputs": [],
   "source": [
    "comp_f = \"/LOCAL/jzerbe/faces_vs_houses/ds002938/derivatives/melodic/sub-03/sub-03_ses-None_task-effort_run-None_space-T1w-melodic/stats/thresh_zstat100.nii.gz\"\n",
    "aseg_f = '/LOCAL/jzerbe/faces_vs_houses/ds002938/derivatives/fmriprep/sub-03/func/sub-03_task-effort_space-T1w_desc-aseg_dseg.nii.gz'\n",
    "bmask_f = '/LOCAL/jzerbe/faces_vs_houses/ds002938/derivatives/fmriprep/sub-03/func/sub-03_task-effort_space-T1w_desc-brain_mask.nii.gz'"
   ]
  },
  {
   "cell_type": "code",
   "execution_count": null,
   "id": "11de300a",
   "metadata": {},
   "outputs": [],
   "source": []
  },
  {
   "cell_type": "code",
   "execution_count": 3,
   "id": "2df905e6",
   "metadata": {
    "scrolled": true
   },
   "outputs": [],
   "source": [
    "# Main function\n",
    "def calculate_features(bidsdata_dir):\n",
    "    \"\"\"Get dict with calculated features for each melodic run.\"\"\"\n",
    "    melodic_base_dir = join(bidsdata_dir, 'derivatives', 'melodic')\n",
    "    print(\"creating BIDS layout ...\")\n",
    "    ds_layout = BIDSLayout(bidsdata_dir, derivatives=True)\n",
    "    # TODO: 'melodic' needs dataset_description.json or melodic_entities is empty\n",
    "    print(\"get melodic directory names ...\")\n",
    "    melodic_entities = ds_layout.get(scope='melodic', return_type='filename', suffix='IC', extension='nii.gz')\n",
    "    # Sanity check\n",
    "    print(\"[Sanity check] melodic_entities length: \", len(melodic_entities))\n",
    "    results_dicts = []\n",
    "    #i = 1 # iteration counter\n",
    "    for entity in tqdm(melodic_entities, desc=f'iterating over runs'):\n",
    "        # Cumbersome workaround to get correct filenames (TODO: better filenaming with DataSink!)\n",
    "        #print(\"**ITERATION** \", i)\n",
    "        #j = 1 # iteration counter\n",
    "        melodic_dir_split = entity.split('/')\n",
    "        dir_name = melodic_dir_split[-2]\n",
    "        metainfo_split = dir_name.split('_')\n",
    "        # Get substring if present\n",
    "        subject = [s[4:] for s in metainfo_split if \"sub-\" in s]\n",
    "        session = [s[4:] for s in metainfo_split if \"ses-\" in s]\n",
    "        task = [s[5:] for s in metainfo_split if \"task-\" in s]\n",
    "        run = [s[4:] for s in metainfo_split if \"run-\" in s]\n",
    "        space = [s[6:] for s in metainfo_split if \"space-\" in s]\n",
    "        # Put substring in dict\n",
    "        metainfo_dict = {\n",
    "            'subject': None if subject in ([], ['None']) else subject[0],\n",
    "            'session': None if session in ([], ['None']) else session[0],\n",
    "            'task': None if task in ([], ['None']) else task[0],\n",
    "            'run': None if run in ([], ['None']) else run[0],\n",
    "            'space': None if space in ([], ['None']) else space[0],\n",
    "            'directory': dir_name,\n",
    "            'fullpath':'/'.join(melodic_dir_split[:-1])\n",
    "        }\n",
    "        #i += 1\n",
    "        mixmat, comps_arr = get_comps(metainfo_dict)\n",
    "        edgemask, brainmask = get_masks(metainfo_dict, ds_layout)\n",
    "        #bmask_f, gm = get_gmfiles(metainfo_dict, ds_layout)\n",
    "\n",
    "        #print(\"comp_f\", comp_f)\n",
    "        #print(\"gm\", gm)\n",
    "        #print(\"bmask_f\", bmask_f)\n",
    "        #print(\"--------------------------\")\n",
    "            \n",
    "        for comp_i in range(mixmat.shape[-1]):\n",
    "            results_dict = metainfo_dict\n",
    "            #print(\"***INSIDE ITERATION*** \", j)\n",
    "            #sys.exit()\n",
    "            comp_arr = comps_arr[:, :, :, comp_i]\n",
    "            comp_ts = mixmat[:, comp_i]\n",
    "            # get IC stat file for gm prop\n",
    "            #comp_f = get_zstat(comp_i)\n",
    "            #print(\"comp_arr: \", comp_arr.shape)\n",
    "            #print(\"edgemask: \", edgemask.shape)\n",
    "            #print(\"brainmask: \", brainmask.shape)\n",
    "            # Calculate edge fraction\n",
    "            results_dict['edgefrac'] = calc_edgefrac(comp_arr, edgemask, brainmask)\n",
    "            # Calculate high frequency content\n",
    "            results_dict['hfc'] = calc_hfc(comp_ts)\n",
    "            # Calculate gray matter proportion\n",
    "            #results_dict['gmp'] = calc_gm_prop(comp_f, bmask_f, gm)\n",
    "            results_dicts.append(results_dict)\n",
    "            #j += 1\n",
    "    return results_dicts\n",
    "    "
   ]
  },
  {
   "cell_type": "code",
   "execution_count": 4,
   "id": "024c6878",
   "metadata": {},
   "outputs": [],
   "source": [
    "# Hardcoded paths 1/2\n",
    "#'/LOCAL/jzerbe/faces_vs_houses/ds002938' #'/LOCAL/jzerbe/emotion_category/ds003548'\n",
    "bidsdata_dir = '/LOCAL/jzerbe/auditory_vs_visual/ds003717' \n",
    "base_dir = '/LOCAL/jzerbe/auditory_vs_visual' #'/LOCAL/jzerbe/emotion_category/' # not needed?"
   ]
  },
  {
   "cell_type": "code",
   "execution_count": 5,
   "id": "41d062d5",
   "metadata": {},
   "outputs": [
    {
     "name": "stdout",
     "output_type": "stream",
     "text": [
      "creating BIDS layout ...\n",
      "get melodic directory names ...\n",
      "[Sanity check] melodic_entities length:  288\n"
     ]
    },
    {
     "name": "stderr",
     "output_type": "stream",
     "text": [
      "iterating over runs: 100%|██████████| 288/288 [51:38<00:00, 10.76s/it]"
     ]
    },
    {
     "name": "stdout",
     "output_type": "stream",
     "text": [
      "Done\n",
      "Estimated Memory Usage:  1.4 GB\n",
      "Estimated Time:  0:54:47.887626\n"
     ]
    },
    {
     "name": "stderr",
     "output_type": "stream",
     "text": [
      "\n"
     ]
    }
   ],
   "source": [
    "# Start\n",
    "start=datetime.now()\n",
    "process = psutil.Process()\n",
    "\n",
    "# Run\n",
    "feature_results = calculate_features(bidsdata_dir)\n",
    "\n",
    "# End\n",
    "print(\"Done\")\n",
    "print(\"Estimated Memory Usage: \", humanize.naturalsize(process.memory_info().rss))  # in bytes \n",
    "print (\"Estimated Time: \", datetime.now()-start)"
   ]
  },
  {
   "cell_type": "code",
   "execution_count": null,
   "id": "8b56c7af",
   "metadata": {},
   "outputs": [],
   "source": [
    "import os, psutil\n",
    "from datetime import datetime\n",
    "start=datetime.now()\n",
    "\n",
    "process = psutil.Process()\n",
    "melodic_base_dir = join(bidsdata_dir, 'derivatives', 'melodic')\n",
    "print(\"creating BIDS layout ...\")\n",
    "layout_test = BIDSLayout(bidsdata_dir, derivatives=True)\n",
    "print(\"Done\")\n",
    "print(\"Estimated Memory Usage: \", humanize.naturalsize(process.memory_info().rss))  # in bytes \n",
    "print (\"Estimated Time: \", datetime.now()-start)"
   ]
  },
  {
   "cell_type": "markdown",
   "id": "4316943c",
   "metadata": {},
   "source": [
    "todo:\n",
    "- df für auditory neu berechnen -> separates results dict jedes mal neu machen und werte anfügen\n",
    "- gm prop auch über ICs laufen lassen (inner loop), dabei z..100 files nehmen zum loopen (muss in der einen helper function auch angepasst werden, dass da immer die neueste ausgegeben wird)\n",
    "- plots sind so ok (muss keine scatter plots haben)\n",
    "- anderes feature noch berechnen und mit einbauen"
   ]
  },
  {
   "cell_type": "markdown",
   "id": "519b1437",
   "metadata": {},
   "source": [
    "## Ideen für features\n",
    "- scanner noise (rekonstruieren)\n",
    "- augenbewegung/blinzeln?\n",
    "- explore more masking options (csf mask, ..)\n",
    "- explore hfc variations (1/3, median, certain frequencies) -> maybe find info in hand-labeling paper\n",
    "- check out sub-01_task-1back_desc-confounds_timeseries.tsv"
   ]
  },
  {
   "cell_type": "markdown",
   "id": "522d22c1",
   "metadata": {},
   "source": [
    "## Visualization"
   ]
  },
  {
   "cell_type": "code",
   "execution_count": 7,
   "id": "535d484d",
   "metadata": {
    "scrolled": true
   },
   "outputs": [],
   "source": [
    "# Put results in dataframe\n",
    "# sort after sapces (T1w, MNI)\n",
    "results_df_all = pd.DataFrame(feature_results)\n",
    "# exclude resting from dataset\n",
    "#results_df = results_df_all[results_df_all['task'] != 'rest']\n",
    "#results_df"
   ]
  },
  {
   "cell_type": "code",
   "execution_count": 8,
   "id": "f5aedc32",
   "metadata": {},
   "outputs": [],
   "source": [
    "results_df_all.to_csv('/LOCAL/jzerbe/code/ICA-fMRI/results/df_features_auditory-vs-visual.csv')"
   ]
  },
  {
   "cell_type": "code",
   "execution_count": null,
   "id": "118d8e7f",
   "metadata": {},
   "outputs": [],
   "source": [
    "df_test = pd.read_csv(r'/LOCAL/jzerbe/code/ICA-fMRI/results/df_features_faces-vs-houses.csv')\n",
    "df_test"
   ]
  },
  {
   "cell_type": "code",
   "execution_count": null,
   "id": "6ec6843b",
   "metadata": {
    "scrolled": true
   },
   "outputs": [],
   "source": [
    "results_df['space'].unique()"
   ]
  },
  {
   "cell_type": "code",
   "execution_count": null,
   "id": "4fb8280f",
   "metadata": {},
   "outputs": [],
   "source": [
    "# Hardcoded paths 2/2\n",
    "fig_path = '/LOCAL/jzerbe/code/ICA-fMRI/figures/'\n",
    "fig_ds = 'faces-vs-houses' #'emotion-category' # 'faces-vs-houses'\n",
    "fig_space = 'T1w'\n",
    "subplot_spaces = results_df[results_df['space'] == fig_space]"
   ]
  },
  {
   "cell_type": "code",
   "execution_count": null,
   "id": "a8964e00",
   "metadata": {},
   "outputs": [],
   "source": [
    "# Visualize hfc\n",
    "hfc_plt = plt.hist(subplot_spaces['hfc'], bins=70)\n",
    "plt.title(f'HFC | {fig_ds} | {fig_space}')\n",
    "plt.savefig(fig_path + f'{fig_ds}_hfc_{fig_space}' + '.jpg')"
   ]
  },
  {
   "cell_type": "code",
   "execution_count": null,
   "id": "b7a44632",
   "metadata": {},
   "outputs": [],
   "source": [
    "# Seaborn density plot\n",
    "sb.kdeplot(subplot_spaces['hfc'], color='skyblue', fill=True, alpha=.5, linewidth=1.5)\n",
    "plt.title(f'HFC | {fig_ds} | {fig_space}')\n",
    "plt.savefig(fig_path + f'{fig_ds}_hfc_{fig_space}_density' + '.jpg')"
   ]
  },
  {
   "cell_type": "code",
   "execution_count": null,
   "id": "00ef1d6f",
   "metadata": {},
   "outputs": [],
   "source": [
    "# Visualize edge fraction\n",
    "edgefrac_plt = plt.hist(subplot_spaces['edgefrac'], bins=100)\n",
    "plt.title(f'Edge Fraction | {fig_ds} | {fig_space}')\n",
    "plt.savefig(fig_path + f'{fig_ds}_edgefrac_{fig_space}' + '.jpg')"
   ]
  },
  {
   "cell_type": "code",
   "execution_count": null,
   "id": "73ff457e",
   "metadata": {},
   "outputs": [],
   "source": [
    "# Seaborn density plot\n",
    "sb.kdeplot(subplot_spaces['edgefrac'], color='skyblue', fill=True, alpha=.5, linewidth=1.5)\n",
    "plt.title(f'Edge Fraction | {fig_ds} | {fig_space}')\n",
    "plt.savefig(fig_path + f'{fig_ds}_edgefrac_{fig_space}_density' + '.jpg')"
   ]
  }
 ],
 "metadata": {
  "kernelspec": {
   "display_name": "Python 3",
   "language": "python",
   "name": "python3"
  },
  "language_info": {
   "codemirror_mode": {
    "name": "ipython",
    "version": 3
   },
   "file_extension": ".py",
   "mimetype": "text/x-python",
   "name": "python",
   "nbconvert_exporter": "python",
   "pygments_lexer": "ipython3",
   "version": "3.6.9"
  }
 },
 "nbformat": 4,
 "nbformat_minor": 5
}
