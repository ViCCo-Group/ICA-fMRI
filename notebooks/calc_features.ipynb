{
 "cells": [
  {
   "cell_type": "markdown",
   "id": "dd33fa9a",
   "metadata": {},
   "source": [
    "## Calculate features from ICs\n",
    "\n",
    "- Edge fraction\n",
    "- High frequency content\n",
    "- ...\n",
    "- (features from paper)"
   ]
  },
  {
   "cell_type": "code",
   "execution_count": 1,
   "id": "03a49cf1",
   "metadata": {},
   "outputs": [
    {
     "name": "stderr",
     "output_type": "stream",
     "text": [
      "/LOCAL/jzerbe/testenv/lib/python3.6/site-packages/nilearn/__init__.py:69: FutureWarning: Python 3.6 support is deprecated and will be removed in release 0.10 of Nilearn. Consider switching to Python 3.8 or 3.9.\n",
      "  _python_deprecation_warnings()\n"
     ]
    }
   ],
   "source": [
    "import os\n",
    "import sys\n",
    "import numpy as np\n",
    "import pandas as pd\n",
    "from nilearn.image import load_img, threshold_img, math_img, resample_to_img\n",
    "from scipy.ndimage.morphology import binary_erosion\n",
    "from scipy.signal import periodogram\n",
    "from os.path import join, pardir\n",
    "sys.path.append(pardir)\n",
    "from bids import BIDSLayout\n",
    "from tqdm import tqdm\n",
    "\n",
    "# plotting\n",
    "import matplotlib.pyplot as plt\n",
    "import seaborn as sb\n",
    "from nilearn.plotting import plot_img\n",
    "from nilearn.masking import intersect_masks, apply_mask"
   ]
  },
  {
   "cell_type": "code",
   "execution_count": 2,
   "id": "c24ccbd1",
   "metadata": {},
   "outputs": [],
   "source": [
    "# Helper function\n",
    "def get_comps(metainfo_dict): # runinfo = bids layout?? think it's only needed to retrieve files\n",
    "    \"\"\"\n",
    "    ...\n",
    "    \"\"\"\n",
    "    # retrieve files\n",
    "    mixmat = np.loadtxt(join(metainfo_dict['fullpath'], 'melodic_mix'))\n",
    "    ica_nii_f = join(metainfo_dict['fullpath'], 'melodic_IC.nii.gz')\n",
    "    comps_arr = load_img(ica_nii_f).get_fdata()\n",
    "    return mixmat, comps_arr\n",
    "\n",
    "# Helper function\n",
    "def get_edge_mask(metainfo_dict, ds_layout): # runinfo = bids layout?? think it's only needed to retrieve files\n",
    "    \"\"\"\n",
    "    ...\n",
    "    \"\"\"\n",
    "    # retrieve fmriprep/func brainmask file\n",
    "    brainmask_f_temp = ds_layout.get(\n",
    "        scope='derivatives',\n",
    "        return_type='filename',\n",
    "        subject=metainfo_dict['subject'],\n",
    "        session=metainfo_dict['session'],\n",
    "        run=metainfo_dict['run'],\n",
    "        task=metainfo_dict['task'],\n",
    "        space=metainfo_dict['space'],\n",
    "        desc='brain',\n",
    "        suffix='mask',\n",
    "        extension='nii.gz'\n",
    "    )\n",
    "    #print(\"brainmask_f_temp\", brainmask_f_temp)\n",
    "    #sys.exit()\n",
    "    brainmask_f = brainmask_f_temp[0]\n",
    "    # Not sure if I have correct file here, file from Oli's script is:\n",
    "    # 'fmriprep/../sub-XX_acq-prescannormalized_rec-pydeface_label-CSF_probseg.nii.gz'\n",
    "    if metainfo_dict['space'] == 'T1w':\n",
    "        csf_anat_f_temp = ds_layout.get(\n",
    "                #scope='fmriprep', -> seems not to work, don't know why\n",
    "                return_type='filename',\n",
    "                subject=metainfo_dict['subject'],\n",
    "                #space=metainfo_dict['space'],\n",
    "                label='CSF',\n",
    "                suffix='probseg',\n",
    "                extension='nii.gz'\n",
    "        )\n",
    "        csf_anat_f = csf_anat_f_temp[0]\n",
    "    else:\n",
    "        csf_anat_f_temp = ds_layout.get(\n",
    "                #scope='fmriprep', -> seems not to work, don't know why\n",
    "                return_type='filename',\n",
    "                subject=metainfo_dict['subject'],\n",
    "                space=metainfo_dict['space'],\n",
    "                label='CSF',\n",
    "                suffix='probseg',\n",
    "                extension='nii.gz'\n",
    "        )\n",
    "        csf_anat_f = csf_anat_f_temp[0]\n",
    "    csf_func = threshold_img(\n",
    "        resample_to_img(csf_anat_f, brainmask_f, interpolation='linear'),\n",
    "        threshold=1.\n",
    "    )\n",
    "    brainmask = load_img(brainmask_f).get_fdata()\n",
    "    mask_img = math_img('img1 - img2', img1=brainmask_f, img2=csf_func)\n",
    "    mask_arr = mask_img.get_fdata()\n",
    "    # worked okayish with erosion iterations=2\n",
    "    # -> what is erosion?\n",
    "    edgefrac_thickness = int(2)\n",
    "    ero_mask = binary_erosion(mask_arr, iterations=edgefrac_thickness).astype(int)\n",
    "    edgemask = mask_arr - ero_mask\n",
    "    return edgemask.astype(bool), brainmask.astype(bool)\n",
    "\n",
    "# Edge fraction\n",
    "def calc_edgefrac(comp_arr, edgemask, brainmask):\n",
    "    return np.absolute(comp_arr[edgemask]).sum() / np.absolute(comp_arr[brainmask]).sum()\n",
    "\n",
    "# High frequency content\n",
    "def calc_hfc(timeseries, tr=1.5):\n",
    "    \"\"\"Calculate high frequency content for time series data. Tr can generally mean sampling rate in seconds.\"\"\"\n",
    "    nf = (1. / tr) * .5  # nyquist\n",
    "    freqs, power = periodogram(timeseries, fs=1. / tr)\n",
    "    relcumsum = np.cumsum(power) / power.sum()\n",
    "    freqind = np.argmin(np.absolute(relcumsum - .5))\n",
    "    hfc = freqs[freqind] / nf\n",
    "    return hfc"
   ]
  },
  {
   "cell_type": "code",
   "execution_count": 3,
   "id": "c8f5061b",
   "metadata": {},
   "outputs": [],
   "source": [
    "# Hardcoded paths 1/2\n",
    "#'/LOCAL/jzerbe/faces_vs_houses/ds002938' #'/LOCAL/jzerbe/emotion_category/ds003548'\n",
    "bidsdata_dir = '/LOCAL/jzerbe/auditory_vs_visual/ds003717' \n",
    "base_dir = '/LOCAL/jzerbe/auditory_vs_visual' #'/LOCAL/jzerbe/emotion_category/' # not needed?"
   ]
  },
  {
   "cell_type": "code",
   "execution_count": 9,
   "id": "f1bae2a6",
   "metadata": {},
   "outputs": [
    {
     "name": "stdout",
     "output_type": "stream",
     "text": [
      "creating BIDS layout ...\n",
      "get melodic directory names ...\n",
      "[Sanity check] melodic_entities length:  288\n"
     ]
    },
    {
     "name": "stderr",
     "output_type": "stream",
     "text": [
      "iterating over runs:   2%|▏         | 7/288 [01:35<1:04:06, 13.69s/it]\n"
     ]
    },
    {
     "ename": "KeyboardInterrupt",
     "evalue": "",
     "output_type": "error",
     "traceback": [
      "\u001b[0;31m---------------------------------------------------------------\u001b[0m",
      "\u001b[0;31mKeyboardInterrupt\u001b[0m             Traceback (most recent call last)",
      "\u001b[0;32m<ipython-input-9-b65105863822>\u001b[0m in \u001b[0;36m<module>\u001b[0;34m\u001b[0m\n\u001b[1;32m      1\u001b[0m \u001b[0;31m# Run\u001b[0m\u001b[0;34m\u001b[0m\u001b[0;34m\u001b[0m\u001b[0;34m\u001b[0m\u001b[0m\n\u001b[0;32m----> 2\u001b[0;31m \u001b[0mcalculate_features\u001b[0m\u001b[0;34m(\u001b[0m\u001b[0mbidsdata_dir\u001b[0m\u001b[0;34m)\u001b[0m\u001b[0;34m\u001b[0m\u001b[0;34m\u001b[0m\u001b[0m\n\u001b[0m",
      "\u001b[0;32m<ipython-input-8-c8e4081472f9>\u001b[0m in \u001b[0;36mcalculate_features\u001b[0;34m(bidsdata_dir)\u001b[0m\n\u001b[1;32m     44\u001b[0m         \u001b[0;31m#    continue\u001b[0m\u001b[0;34m\u001b[0m\u001b[0;34m\u001b[0m\u001b[0;34m\u001b[0m\u001b[0m\n\u001b[1;32m     45\u001b[0m         \u001b[0;31m#else:\u001b[0m\u001b[0;34m\u001b[0m\u001b[0;34m\u001b[0m\u001b[0;34m\u001b[0m\u001b[0m\n\u001b[0;32m---> 46\u001b[0;31m         \u001b[0mmixmat\u001b[0m\u001b[0;34m,\u001b[0m \u001b[0mcomps_arr\u001b[0m \u001b[0;34m=\u001b[0m \u001b[0mget_comps\u001b[0m\u001b[0;34m(\u001b[0m\u001b[0mmetainfo_dict\u001b[0m\u001b[0;34m)\u001b[0m\u001b[0;34m\u001b[0m\u001b[0;34m\u001b[0m\u001b[0m\n\u001b[0m\u001b[1;32m     47\u001b[0m         \u001b[0medgemask\u001b[0m\u001b[0;34m,\u001b[0m \u001b[0mbrainmask\u001b[0m \u001b[0;34m=\u001b[0m \u001b[0mget_edge_mask\u001b[0m\u001b[0;34m(\u001b[0m\u001b[0mmetainfo_dict\u001b[0m\u001b[0;34m,\u001b[0m \u001b[0mds_layout\u001b[0m\u001b[0;34m)\u001b[0m\u001b[0;34m\u001b[0m\u001b[0;34m\u001b[0m\u001b[0m\n\u001b[1;32m     48\u001b[0m \u001b[0;34m\u001b[0m\u001b[0m\n",
      "\u001b[0;32m<ipython-input-2-704f648f5ad6>\u001b[0m in \u001b[0;36mget_comps\u001b[0;34m(metainfo_dict)\u001b[0m\n\u001b[1;32m      7\u001b[0m     \u001b[0mmixmat\u001b[0m \u001b[0;34m=\u001b[0m \u001b[0mnp\u001b[0m\u001b[0;34m.\u001b[0m\u001b[0mloadtxt\u001b[0m\u001b[0;34m(\u001b[0m\u001b[0mjoin\u001b[0m\u001b[0;34m(\u001b[0m\u001b[0mmetainfo_dict\u001b[0m\u001b[0;34m[\u001b[0m\u001b[0;34m'fullpath'\u001b[0m\u001b[0;34m]\u001b[0m\u001b[0;34m,\u001b[0m \u001b[0;34m'melodic_mix'\u001b[0m\u001b[0;34m)\u001b[0m\u001b[0;34m)\u001b[0m\u001b[0;34m\u001b[0m\u001b[0;34m\u001b[0m\u001b[0m\n\u001b[1;32m      8\u001b[0m     \u001b[0mica_nii_f\u001b[0m \u001b[0;34m=\u001b[0m \u001b[0mjoin\u001b[0m\u001b[0;34m(\u001b[0m\u001b[0mmetainfo_dict\u001b[0m\u001b[0;34m[\u001b[0m\u001b[0;34m'fullpath'\u001b[0m\u001b[0;34m]\u001b[0m\u001b[0;34m,\u001b[0m \u001b[0;34m'melodic_IC.nii.gz'\u001b[0m\u001b[0;34m)\u001b[0m\u001b[0;34m\u001b[0m\u001b[0;34m\u001b[0m\u001b[0m\n\u001b[0;32m----> 9\u001b[0;31m     \u001b[0mcomps_arr\u001b[0m \u001b[0;34m=\u001b[0m \u001b[0mload_img\u001b[0m\u001b[0;34m(\u001b[0m\u001b[0mica_nii_f\u001b[0m\u001b[0;34m)\u001b[0m\u001b[0;34m.\u001b[0m\u001b[0mget_fdata\u001b[0m\u001b[0;34m(\u001b[0m\u001b[0;34m)\u001b[0m\u001b[0;34m\u001b[0m\u001b[0;34m\u001b[0m\u001b[0m\n\u001b[0m\u001b[1;32m     10\u001b[0m     \u001b[0;32mreturn\u001b[0m \u001b[0mmixmat\u001b[0m\u001b[0;34m,\u001b[0m \u001b[0mcomps_arr\u001b[0m\u001b[0;34m\u001b[0m\u001b[0;34m\u001b[0m\u001b[0m\n\u001b[1;32m     11\u001b[0m \u001b[0;34m\u001b[0m\u001b[0m\n",
      "\u001b[0;32m/LOCAL/jzerbe/testenv/lib/python3.6/site-packages/nilearn/image/image.py\u001b[0m in \u001b[0;36mload_img\u001b[0;34m(img, wildcards, dtype)\u001b[0m\n\u001b[1;32m   1244\u001b[0m \u001b[0;34m\u001b[0m\u001b[0m\n\u001b[1;32m   1245\u001b[0m     \"\"\"\n\u001b[0;32m-> 1246\u001b[0;31m     \u001b[0;32mreturn\u001b[0m \u001b[0mcheck_niimg\u001b[0m\u001b[0;34m(\u001b[0m\u001b[0mimg\u001b[0m\u001b[0;34m,\u001b[0m \u001b[0mwildcards\u001b[0m\u001b[0;34m=\u001b[0m\u001b[0mwildcards\u001b[0m\u001b[0;34m,\u001b[0m \u001b[0mdtype\u001b[0m\u001b[0;34m=\u001b[0m\u001b[0mdtype\u001b[0m\u001b[0;34m)\u001b[0m\u001b[0;34m\u001b[0m\u001b[0;34m\u001b[0m\u001b[0m\n\u001b[0m\u001b[1;32m   1247\u001b[0m \u001b[0;34m\u001b[0m\u001b[0m\n\u001b[1;32m   1248\u001b[0m \u001b[0;34m\u001b[0m\u001b[0m\n",
      "\u001b[0;32m/LOCAL/jzerbe/testenv/lib/python3.6/site-packages/nilearn/_utils/niimg_conversions.py\u001b[0m in \u001b[0;36mcheck_niimg\u001b[0;34m(niimg, ensure_ndim, atleast_4d, dtype, return_iterator, wildcards)\u001b[0m\n\u001b[1;32m    281\u001b[0m \u001b[0;34m\u001b[0m\u001b[0m\n\u001b[1;32m    282\u001b[0m     \u001b[0;31m# Otherwise, it should be a filename or a SpatialImage, we load it\u001b[0m\u001b[0;34m\u001b[0m\u001b[0;34m\u001b[0m\u001b[0;34m\u001b[0m\u001b[0m\n\u001b[0;32m--> 283\u001b[0;31m     \u001b[0mniimg\u001b[0m \u001b[0;34m=\u001b[0m \u001b[0mload_niimg\u001b[0m\u001b[0;34m(\u001b[0m\u001b[0mniimg\u001b[0m\u001b[0;34m,\u001b[0m \u001b[0mdtype\u001b[0m\u001b[0;34m=\u001b[0m\u001b[0mdtype\u001b[0m\u001b[0;34m)\u001b[0m\u001b[0;34m\u001b[0m\u001b[0;34m\u001b[0m\u001b[0m\n\u001b[0m\u001b[1;32m    284\u001b[0m \u001b[0;34m\u001b[0m\u001b[0m\n\u001b[1;32m    285\u001b[0m     \u001b[0;32mif\u001b[0m \u001b[0mensure_ndim\u001b[0m \u001b[0;34m==\u001b[0m \u001b[0;36m3\u001b[0m \u001b[0;32mand\u001b[0m \u001b[0mlen\u001b[0m\u001b[0;34m(\u001b[0m\u001b[0mniimg\u001b[0m\u001b[0;34m.\u001b[0m\u001b[0mshape\u001b[0m\u001b[0;34m)\u001b[0m \u001b[0;34m==\u001b[0m \u001b[0;36m4\u001b[0m \u001b[0;32mand\u001b[0m \u001b[0mniimg\u001b[0m\u001b[0;34m.\u001b[0m\u001b[0mshape\u001b[0m\u001b[0;34m[\u001b[0m\u001b[0;36m3\u001b[0m\u001b[0;34m]\u001b[0m \u001b[0;34m==\u001b[0m \u001b[0;36m1\u001b[0m\u001b[0;34m:\u001b[0m\u001b[0;34m\u001b[0m\u001b[0;34m\u001b[0m\u001b[0m\n",
      "\u001b[0;32m/LOCAL/jzerbe/testenv/lib/python3.6/site-packages/nilearn/_utils/niimg.py\u001b[0m in \u001b[0;36mload_niimg\u001b[0;34m(niimg, dtype)\u001b[0m\n\u001b[1;32m    132\u001b[0m                         + _repr_niimgs(niimg, shorten=True))\n\u001b[1;32m    133\u001b[0m \u001b[0;34m\u001b[0m\u001b[0m\n\u001b[0;32m--> 134\u001b[0;31m     \u001b[0mdtype\u001b[0m \u001b[0;34m=\u001b[0m \u001b[0m_get_target_dtype\u001b[0m\u001b[0;34m(\u001b[0m\u001b[0m_get_data\u001b[0m\u001b[0;34m(\u001b[0m\u001b[0mniimg\u001b[0m\u001b[0;34m)\u001b[0m\u001b[0;34m.\u001b[0m\u001b[0mdtype\u001b[0m\u001b[0;34m,\u001b[0m \u001b[0mdtype\u001b[0m\u001b[0;34m)\u001b[0m\u001b[0;34m\u001b[0m\u001b[0;34m\u001b[0m\u001b[0m\n\u001b[0m\u001b[1;32m    135\u001b[0m \u001b[0;34m\u001b[0m\u001b[0m\n\u001b[1;32m    136\u001b[0m     \u001b[0;32mif\u001b[0m \u001b[0mdtype\u001b[0m \u001b[0;32mis\u001b[0m \u001b[0;32mnot\u001b[0m \u001b[0;32mNone\u001b[0m\u001b[0;34m:\u001b[0m\u001b[0;34m\u001b[0m\u001b[0;34m\u001b[0m\u001b[0m\n",
      "\u001b[0;32m/LOCAL/jzerbe/testenv/lib/python3.6/site-packages/nilearn/_utils/niimg.py\u001b[0m in \u001b[0;36m_get_data\u001b[0;34m(img)\u001b[0m\n\u001b[1;32m     22\u001b[0m     \u001b[0;32mif\u001b[0m \u001b[0mimg\u001b[0m\u001b[0;34m.\u001b[0m\u001b[0m_data_cache\u001b[0m \u001b[0;32mis\u001b[0m \u001b[0;32mnot\u001b[0m \u001b[0;32mNone\u001b[0m\u001b[0;34m:\u001b[0m\u001b[0;34m\u001b[0m\u001b[0;34m\u001b[0m\u001b[0m\n\u001b[1;32m     23\u001b[0m         \u001b[0;32mreturn\u001b[0m \u001b[0mimg\u001b[0m\u001b[0;34m.\u001b[0m\u001b[0m_data_cache\u001b[0m\u001b[0;34m\u001b[0m\u001b[0;34m\u001b[0m\u001b[0m\n\u001b[0;32m---> 24\u001b[0;31m     \u001b[0mdata\u001b[0m \u001b[0;34m=\u001b[0m \u001b[0mnp\u001b[0m\u001b[0;34m.\u001b[0m\u001b[0masanyarray\u001b[0m\u001b[0;34m(\u001b[0m\u001b[0mimg\u001b[0m\u001b[0;34m.\u001b[0m\u001b[0m_dataobj\u001b[0m\u001b[0;34m)\u001b[0m\u001b[0;34m\u001b[0m\u001b[0;34m\u001b[0m\u001b[0m\n\u001b[0m\u001b[1;32m     25\u001b[0m     \u001b[0mimg\u001b[0m\u001b[0;34m.\u001b[0m\u001b[0m_data_cache\u001b[0m \u001b[0;34m=\u001b[0m \u001b[0mdata\u001b[0m\u001b[0;34m\u001b[0m\u001b[0;34m\u001b[0m\u001b[0m\n\u001b[1;32m     26\u001b[0m     \u001b[0;32mreturn\u001b[0m \u001b[0mdata\u001b[0m\u001b[0;34m\u001b[0m\u001b[0;34m\u001b[0m\u001b[0m\n",
      "\u001b[0;32m/LOCAL/jzerbe/testenv/lib/python3.6/site-packages/numpy/core/_asarray.py\u001b[0m in \u001b[0;36masanyarray\u001b[0;34m(a, dtype, order)\u001b[0m\n\u001b[1;32m    134\u001b[0m \u001b[0;34m\u001b[0m\u001b[0m\n\u001b[1;32m    135\u001b[0m     \"\"\"\n\u001b[0;32m--> 136\u001b[0;31m     \u001b[0;32mreturn\u001b[0m \u001b[0marray\u001b[0m\u001b[0;34m(\u001b[0m\u001b[0ma\u001b[0m\u001b[0;34m,\u001b[0m \u001b[0mdtype\u001b[0m\u001b[0;34m,\u001b[0m \u001b[0mcopy\u001b[0m\u001b[0;34m=\u001b[0m\u001b[0;32mFalse\u001b[0m\u001b[0;34m,\u001b[0m \u001b[0morder\u001b[0m\u001b[0;34m=\u001b[0m\u001b[0morder\u001b[0m\u001b[0;34m,\u001b[0m \u001b[0msubok\u001b[0m\u001b[0;34m=\u001b[0m\u001b[0;32mTrue\u001b[0m\u001b[0;34m)\u001b[0m\u001b[0;34m\u001b[0m\u001b[0;34m\u001b[0m\u001b[0m\n\u001b[0m\u001b[1;32m    137\u001b[0m \u001b[0;34m\u001b[0m\u001b[0m\n\u001b[1;32m    138\u001b[0m \u001b[0;34m\u001b[0m\u001b[0m\n",
      "\u001b[0;32m/LOCAL/jzerbe/testenv/lib/python3.6/site-packages/nibabel/arrayproxy.py\u001b[0m in \u001b[0;36m__array__\u001b[0;34m(self, dtype)\u001b[0m\n\u001b[1;32m    389\u001b[0m             \u001b[0mScaled\u001b[0m \u001b[0mimage\u001b[0m \u001b[0mdata\u001b[0m \u001b[0;32mwith\u001b[0m \u001b[0mtype\u001b[0m\u001b[0;31m \u001b[0m\u001b[0;31m`\u001b[0m\u001b[0mdtype\u001b[0m\u001b[0;31m`\u001b[0m\u001b[0;34m.\u001b[0m\u001b[0;34m\u001b[0m\u001b[0;34m\u001b[0m\u001b[0m\n\u001b[1;32m    390\u001b[0m         \"\"\"\n\u001b[0;32m--> 391\u001b[0;31m         \u001b[0marr\u001b[0m \u001b[0;34m=\u001b[0m \u001b[0mself\u001b[0m\u001b[0;34m.\u001b[0m\u001b[0m_get_scaled\u001b[0m\u001b[0;34m(\u001b[0m\u001b[0mdtype\u001b[0m\u001b[0;34m=\u001b[0m\u001b[0mdtype\u001b[0m\u001b[0;34m,\u001b[0m \u001b[0mslicer\u001b[0m\u001b[0;34m=\u001b[0m\u001b[0;34m(\u001b[0m\u001b[0;34m)\u001b[0m\u001b[0;34m)\u001b[0m\u001b[0;34m\u001b[0m\u001b[0;34m\u001b[0m\u001b[0m\n\u001b[0m\u001b[1;32m    392\u001b[0m         \u001b[0;32mif\u001b[0m \u001b[0mdtype\u001b[0m \u001b[0;32mis\u001b[0m \u001b[0;32mnot\u001b[0m \u001b[0;32mNone\u001b[0m\u001b[0;34m:\u001b[0m\u001b[0;34m\u001b[0m\u001b[0;34m\u001b[0m\u001b[0m\n\u001b[1;32m    393\u001b[0m             \u001b[0marr\u001b[0m \u001b[0;34m=\u001b[0m \u001b[0marr\u001b[0m\u001b[0;34m.\u001b[0m\u001b[0mastype\u001b[0m\u001b[0;34m(\u001b[0m\u001b[0mdtype\u001b[0m\u001b[0;34m,\u001b[0m \u001b[0mcopy\u001b[0m\u001b[0;34m=\u001b[0m\u001b[0;32mFalse\u001b[0m\u001b[0;34m)\u001b[0m\u001b[0;34m\u001b[0m\u001b[0;34m\u001b[0m\u001b[0m\n",
      "\u001b[0;32m/LOCAL/jzerbe/testenv/lib/python3.6/site-packages/nibabel/arrayproxy.py\u001b[0m in \u001b[0;36m_get_scaled\u001b[0;34m(self, dtype, slicer)\u001b[0m\n\u001b[1;32m    356\u001b[0m             \u001b[0mscl_inter\u001b[0m \u001b[0;34m=\u001b[0m \u001b[0mscl_inter\u001b[0m\u001b[0;34m.\u001b[0m\u001b[0mastype\u001b[0m\u001b[0;34m(\u001b[0m\u001b[0muse_dtype\u001b[0m\u001b[0;34m)\u001b[0m\u001b[0;34m\u001b[0m\u001b[0;34m\u001b[0m\u001b[0m\n\u001b[1;32m    357\u001b[0m         \u001b[0;31m# Read array and upcast as necessary for big slopes, intercepts\u001b[0m\u001b[0;34m\u001b[0m\u001b[0;34m\u001b[0m\u001b[0;34m\u001b[0m\u001b[0m\n\u001b[0;32m--> 358\u001b[0;31m         \u001b[0mscaled\u001b[0m \u001b[0;34m=\u001b[0m \u001b[0mapply_read_scaling\u001b[0m\u001b[0;34m(\u001b[0m\u001b[0mself\u001b[0m\u001b[0;34m.\u001b[0m\u001b[0m_get_unscaled\u001b[0m\u001b[0;34m(\u001b[0m\u001b[0mslicer\u001b[0m\u001b[0;34m=\u001b[0m\u001b[0mslicer\u001b[0m\u001b[0;34m)\u001b[0m\u001b[0;34m,\u001b[0m \u001b[0mscl_slope\u001b[0m\u001b[0;34m,\u001b[0m \u001b[0mscl_inter\u001b[0m\u001b[0;34m)\u001b[0m\u001b[0;34m\u001b[0m\u001b[0;34m\u001b[0m\u001b[0m\n\u001b[0m\u001b[1;32m    359\u001b[0m         \u001b[0;32mif\u001b[0m \u001b[0mdtype\u001b[0m \u001b[0;32mis\u001b[0m \u001b[0;32mnot\u001b[0m \u001b[0;32mNone\u001b[0m\u001b[0;34m:\u001b[0m\u001b[0;34m\u001b[0m\u001b[0;34m\u001b[0m\u001b[0m\n\u001b[1;32m    360\u001b[0m             \u001b[0mscaled\u001b[0m \u001b[0;34m=\u001b[0m \u001b[0mscaled\u001b[0m\u001b[0;34m.\u001b[0m\u001b[0mastype\u001b[0m\u001b[0;34m(\u001b[0m\u001b[0mnp\u001b[0m\u001b[0;34m.\u001b[0m\u001b[0mpromote_types\u001b[0m\u001b[0;34m(\u001b[0m\u001b[0mscaled\u001b[0m\u001b[0;34m.\u001b[0m\u001b[0mdtype\u001b[0m\u001b[0;34m,\u001b[0m \u001b[0mdtype\u001b[0m\u001b[0;34m)\u001b[0m\u001b[0;34m,\u001b[0m \u001b[0mcopy\u001b[0m\u001b[0;34m=\u001b[0m\u001b[0;32mFalse\u001b[0m\u001b[0;34m)\u001b[0m\u001b[0;34m\u001b[0m\u001b[0;34m\u001b[0m\u001b[0m\n",
      "\u001b[0;32m/LOCAL/jzerbe/testenv/lib/python3.6/site-packages/nibabel/arrayproxy.py\u001b[0m in \u001b[0;36m_get_unscaled\u001b[0;34m(self, slicer)\u001b[0m\n\u001b[1;32m    335\u001b[0m                                        \u001b[0moffset\u001b[0m\u001b[0;34m=\u001b[0m\u001b[0mself\u001b[0m\u001b[0;34m.\u001b[0m\u001b[0m_offset\u001b[0m\u001b[0;34m,\u001b[0m\u001b[0;34m\u001b[0m\u001b[0;34m\u001b[0m\u001b[0m\n\u001b[1;32m    336\u001b[0m                                        \u001b[0morder\u001b[0m\u001b[0;34m=\u001b[0m\u001b[0mself\u001b[0m\u001b[0;34m.\u001b[0m\u001b[0morder\u001b[0m\u001b[0;34m,\u001b[0m\u001b[0;34m\u001b[0m\u001b[0;34m\u001b[0m\u001b[0m\n\u001b[0;32m--> 337\u001b[0;31m                                        mmap=self._mmap)\n\u001b[0m\u001b[1;32m    338\u001b[0m         \u001b[0;32mwith\u001b[0m \u001b[0mself\u001b[0m\u001b[0;34m.\u001b[0m\u001b[0m_get_fileobj\u001b[0m\u001b[0;34m(\u001b[0m\u001b[0;34m)\u001b[0m \u001b[0;32mas\u001b[0m \u001b[0mfileobj\u001b[0m\u001b[0;34m:\u001b[0m\u001b[0;34m\u001b[0m\u001b[0;34m\u001b[0m\u001b[0m\n\u001b[1;32m    339\u001b[0m             return fileslice(fileobj,\n",
      "\u001b[0;32m/LOCAL/jzerbe/testenv/lib/python3.6/site-packages/nibabel/volumeutils.py\u001b[0m in \u001b[0;36marray_from_file\u001b[0;34m(shape, in_dtype, infile, offset, order, mmap)\u001b[0m\n\u001b[1;32m    520\u001b[0m     \u001b[0;32mif\u001b[0m \u001b[0mhasattr\u001b[0m\u001b[0;34m(\u001b[0m\u001b[0minfile\u001b[0m\u001b[0;34m,\u001b[0m \u001b[0;34m'readinto'\u001b[0m\u001b[0;34m)\u001b[0m\u001b[0;34m:\u001b[0m\u001b[0;34m\u001b[0m\u001b[0;34m\u001b[0m\u001b[0m\n\u001b[1;32m    521\u001b[0m         \u001b[0mdata_bytes\u001b[0m \u001b[0;34m=\u001b[0m \u001b[0mbytearray\u001b[0m\u001b[0;34m(\u001b[0m\u001b[0mn_bytes\u001b[0m\u001b[0;34m)\u001b[0m\u001b[0;34m\u001b[0m\u001b[0;34m\u001b[0m\u001b[0m\n\u001b[0;32m--> 522\u001b[0;31m         \u001b[0mn_read\u001b[0m \u001b[0;34m=\u001b[0m \u001b[0minfile\u001b[0m\u001b[0;34m.\u001b[0m\u001b[0mreadinto\u001b[0m\u001b[0;34m(\u001b[0m\u001b[0mdata_bytes\u001b[0m\u001b[0;34m)\u001b[0m\u001b[0;34m\u001b[0m\u001b[0;34m\u001b[0m\u001b[0m\n\u001b[0m\u001b[1;32m    523\u001b[0m         \u001b[0mneeds_copy\u001b[0m \u001b[0;34m=\u001b[0m \u001b[0;32mFalse\u001b[0m\u001b[0;34m\u001b[0m\u001b[0;34m\u001b[0m\u001b[0m\n\u001b[1;32m    524\u001b[0m     \u001b[0;32melse\u001b[0m\u001b[0;34m:\u001b[0m\u001b[0;34m\u001b[0m\u001b[0;34m\u001b[0m\u001b[0m\n",
      "\u001b[0;32mindexed_gzip/indexed_gzip.pyx\u001b[0m in \u001b[0;36mindexed_gzip.indexed_gzip._IndexedGzipFile.readinto\u001b[0;34m()\u001b[0m\n",
      "\u001b[0;32m/usr/lib/python3.6/contextlib.py\u001b[0m in \u001b[0;36m__exit__\u001b[0;34m(self, type, value, traceback)\u001b[0m\n\u001b[1;32m     83\u001b[0m             \u001b[0;32mraise\u001b[0m \u001b[0mRuntimeError\u001b[0m\u001b[0;34m(\u001b[0m\u001b[0;34m\"generator didn't yield\"\u001b[0m\u001b[0;34m)\u001b[0m \u001b[0;32mfrom\u001b[0m \u001b[0;32mNone\u001b[0m\u001b[0;34m\u001b[0m\u001b[0;34m\u001b[0m\u001b[0m\n\u001b[1;32m     84\u001b[0m \u001b[0;34m\u001b[0m\u001b[0m\n\u001b[0;32m---> 85\u001b[0;31m     \u001b[0;32mdef\u001b[0m \u001b[0m__exit__\u001b[0m\u001b[0;34m(\u001b[0m\u001b[0mself\u001b[0m\u001b[0;34m,\u001b[0m \u001b[0mtype\u001b[0m\u001b[0;34m,\u001b[0m \u001b[0mvalue\u001b[0m\u001b[0;34m,\u001b[0m \u001b[0mtraceback\u001b[0m\u001b[0;34m)\u001b[0m\u001b[0;34m:\u001b[0m\u001b[0;34m\u001b[0m\u001b[0;34m\u001b[0m\u001b[0m\n\u001b[0m\u001b[1;32m     86\u001b[0m         \u001b[0;32mif\u001b[0m \u001b[0mtype\u001b[0m \u001b[0;32mis\u001b[0m \u001b[0;32mNone\u001b[0m\u001b[0;34m:\u001b[0m\u001b[0;34m\u001b[0m\u001b[0;34m\u001b[0m\u001b[0m\n\u001b[1;32m     87\u001b[0m             \u001b[0;32mtry\u001b[0m\u001b[0;34m:\u001b[0m\u001b[0;34m\u001b[0m\u001b[0;34m\u001b[0m\u001b[0m\n",
      "\u001b[0;31mKeyboardInterrupt\u001b[0m: "
     ]
    }
   ],
   "source": [
    "# Run\n",
    "calculate_features(bidsdata_dir)"
   ]
  },
  {
   "cell_type": "code",
   "execution_count": 10,
   "id": "ee92ca41",
   "metadata": {},
   "outputs": [
    {
     "ename": "NameError",
     "evalue": "name 'results_dicts' is not defined",
     "output_type": "error",
     "traceback": [
      "\u001b[0;31m---------------------------------------------------------------\u001b[0m",
      "\u001b[0;31mNameError\u001b[0m                     Traceback (most recent call last)",
      "\u001b[0;32m<ipython-input-10-1d1eaa2730c0>\u001b[0m in \u001b[0;36m<module>\u001b[0;34m\u001b[0m\n\u001b[0;32m----> 1\u001b[0;31m \u001b[0mresults_dicts\u001b[0m\u001b[0;34m\u001b[0m\u001b[0;34m\u001b[0m\u001b[0m\n\u001b[0m",
      "\u001b[0;31mNameError\u001b[0m: name 'results_dicts' is not defined"
     ]
    }
   ],
   "source": []
  },
  {
   "cell_type": "code",
   "execution_count": 8,
   "id": "2df905e6",
   "metadata": {
    "scrolled": true
   },
   "outputs": [],
   "source": [
    "# Main function\n",
    "def calculate_features(bidsdata_dir):\n",
    "    \"\"\"Get dict with calculated features for each melodic run.\"\"\"\n",
    "    melodic_base_dir = join(bidsdata_dir, 'derivatives', 'melodic')\n",
    "    print(\"creating BIDS layout ...\")\n",
    "    ds_layout = BIDSLayout(bidsdata_dir, derivatives=True)\n",
    "    # TODO: 'melodic' needs dataset_description.json or melodic_entities is empty\n",
    "    print(\"get melodic directory names ...\")\n",
    "    melodic_entities = ds_layout.get(scope='melodic', return_type='filename', suffix='IC', extension='nii.gz')\n",
    "    # Sanity check\n",
    "    print(\"[Sanity check] melodic_entities length: \", len(melodic_entities))\n",
    "    results_dicts = []\n",
    "    #i = 1 # iteration counter\n",
    "    for entity in tqdm(melodic_entities, desc=f'iterating over runs'):\n",
    "        # Cumbersome workaround to get correct filenames (TODO: better filenaming with DataSink!)\n",
    "        #print(\"**ITERATION** \", i)\n",
    "        #j = 1 # iteration counter\n",
    "        melodic_dir_split = entity.split('/')\n",
    "        dir_name = melodic_dir_split[-2]\n",
    "        metainfo_split = dir_name.split('_')\n",
    "        # Get substring if present\n",
    "        subject = [s[4:] for s in metainfo_split if \"sub-\" in s]\n",
    "        session = [s[4:] for s in metainfo_split if \"ses-\" in s]\n",
    "        task = [s[5:] for s in metainfo_split if \"task-\" in s]\n",
    "        run = [s[4:] for s in metainfo_split if \"run-\" in s]\n",
    "        space = [s[6:] for s in metainfo_split if \"space-\" in s]\n",
    "        # Put substring in dict\n",
    "        metainfo_dict = {\n",
    "            'subject': None if subject in ([], ['None']) else subject[0],\n",
    "            'session': None if session in ([], ['None']) else session[0],\n",
    "            'task': None if task in ([], ['None']) else task[0],\n",
    "            'run': None if run in ([], ['None']) else run[0],\n",
    "            'space': None if space in ([], ['None']) else space[0],\n",
    "            'directory': dir_name,\n",
    "            'fullpath':'/'.join(melodic_dir_split[:-1])\n",
    "        }\n",
    "        #print(\"metainfo_dict\", metainfo_dict)\n",
    "        #sys.exit()\n",
    "        #i += 1\n",
    "        #print(\"metainfo_dict\", metainfo_dict)\n",
    "        #print(\"metainfo_dict_type\", type(metainfo_dict[\"run\"]))\n",
    "        #sys.exit()\n",
    "        #if metainfo_dict['subject'] in ['01', '02', '03', '04', '05', '06', '07', '08']:\n",
    "        #    continue    \n",
    "        #else:\n",
    "        mixmat, comps_arr = get_comps(metainfo_dict)\n",
    "        edgemask, brainmask = get_edge_mask(metainfo_dict, ds_layout)\n",
    "            \n",
    "        for comp_i in range(mixmat.shape[-1]):\n",
    "            #print(\"***INSIDE ITERATION*** \", j)\n",
    "            #results_dict = {'subject': metainfo_dict['subject'], # obsolete? same as metainfo_dict\n",
    "            #                'session': metainfo_dict['session'],\n",
    "            #                'run': metainfo_dict['run'],\n",
    "            #                'task': metainfo_dict['task'],\n",
    "            #                'space': metainfo_dict['space'],\n",
    "            #                'directory': metainfo_dict['directory'],\n",
    "            #                'fullpath': metainfo_dict['fullpath']}\n",
    "            #print(\"results_dict\", results_dict)\n",
    "            #sys.exit()\n",
    "            #print(results_dict)\n",
    "            comp_arr = comps_arr[:, :, :, comp_i]\n",
    "            comp_ts = mixmat[:, comp_i]\n",
    "            #print(\"comp_arr: \", comp_arr.shape)\n",
    "            #print(\"edgemask: \", edgemask.shape)\n",
    "            #print(\"brainmask: \", brainmask.shape)\n",
    "            # Calculate edge fraction\n",
    "            metainfo_dict['edgefrac'] = calc_edgefrac(comp_arr, edgemask, brainmask)\n",
    "            # Calculate high frequency content\n",
    "            metainfo_dict['hfc'] = calc_hfc(comp_ts)\n",
    "            results_dicts.append(metainfo_dict)\n",
    "            #j += 1\n",
    "    return results_dicts\n",
    "    "
   ]
  },
  {
   "cell_type": "code",
   "execution_count": null,
   "id": "3686f1ac",
   "metadata": {
    "scrolled": true
   },
   "outputs": [],
   "source": [
    "# Put results in dataframe\n",
    "# sort after sapces (T1w, MNI)\n",
    "results_df_all = pd.DataFrame(results_dicts)\n",
    "# exclude resting from dataset\n",
    "results_df = results_df_all[results_df_all['task'] != 'rest']\n",
    "results_df"
   ]
  },
  {
   "cell_type": "code",
   "execution_count": null,
   "id": "ea161f77",
   "metadata": {},
   "outputs": [],
   "source": [
    "results_df_all.to_csv('/LOCAL/jzerbe/code/ICA-fMRI/results/df_features_faces-vs-houses.csv')"
   ]
  },
  {
   "cell_type": "code",
   "execution_count": null,
   "id": "7897fbc7",
   "metadata": {},
   "outputs": [],
   "source": [
    "df_test = pd.read_csv(r'/LOCAL/jzerbe/code/ICA-fMRI/results/df_features_faces-vs-houses.csv')\n",
    "df_test"
   ]
  },
  {
   "cell_type": "code",
   "execution_count": null,
   "id": "af40433e",
   "metadata": {
    "scrolled": true
   },
   "outputs": [],
   "source": [
    "results_df['space'].unique()"
   ]
  },
  {
   "cell_type": "code",
   "execution_count": null,
   "id": "64f0c61b",
   "metadata": {},
   "outputs": [],
   "source": [
    "# Hardcoded paths 2/2\n",
    "fig_path = '/LOCAL/jzerbe/code/ICA-fMRI/figures/'\n",
    "fig_ds = 'faces-vs-houses' #'emotion-category' # 'faces-vs-houses'\n",
    "fig_space = 'T1w'\n",
    "subplot_spaces = results_df[results_df['space'] == fig_space]"
   ]
  },
  {
   "cell_type": "code",
   "execution_count": null,
   "id": "ab465188",
   "metadata": {},
   "outputs": [],
   "source": [
    "# Visualize hfc\n",
    "hfc_plt = plt.hist(subplot_spaces['hfc'], bins=70)\n",
    "plt.title(f'HFC | {fig_ds} | {fig_space}')\n",
    "plt.savefig(fig_path + f'{fig_ds}_hfc_{fig_space}' + '.jpg')"
   ]
  },
  {
   "cell_type": "code",
   "execution_count": null,
   "id": "bc2faedd",
   "metadata": {},
   "outputs": [],
   "source": [
    "# Seaborn density plot\n",
    "sb.kdeplot(subplot_spaces['hfc'], color='skyblue', fill=True, alpha=.5, linewidth=1.5)\n",
    "plt.title(f'HFC | {fig_ds} | {fig_space}')\n",
    "plt.savefig(fig_path + f'{fig_ds}_hfc_{fig_space}_density' + '.jpg')"
   ]
  },
  {
   "cell_type": "code",
   "execution_count": null,
   "id": "9807e812",
   "metadata": {},
   "outputs": [],
   "source": [
    "# Visualize edge fraction\n",
    "edgefrac_plt = plt.hist(subplot_spaces['edgefrac'], bins=100)\n",
    "plt.title(f'Edge Fraction | {fig_ds} | {fig_space}')\n",
    "plt.savefig(fig_path + f'{fig_ds}_edgefrac_{fig_space}' + '.jpg')"
   ]
  },
  {
   "cell_type": "code",
   "execution_count": null,
   "id": "c65b83c6",
   "metadata": {},
   "outputs": [],
   "source": [
    "# Seaborn density plot\n",
    "sb.kdeplot(subplot_spaces['edgefrac'], color='skyblue', fill=True, alpha=.5, linewidth=1.5)\n",
    "plt.title(f'Edge Fraction | {fig_ds} | {fig_space}')\n",
    "plt.savefig(fig_path + f'{fig_ds}_edgefrac_{fig_space}_density' + '.jpg')"
   ]
  },
  {
   "cell_type": "markdown",
   "id": "6757b8d3",
   "metadata": {},
   "source": [
    "# Oli explores calculating ALT features"
   ]
  },
  {
   "cell_type": "code",
   "execution_count": null,
   "id": "10363e6f",
   "metadata": {},
   "outputs": [],
   "source": []
  },
  {
   "cell_type": "code",
   "execution_count": null,
   "id": "a7226af5",
   "metadata": {},
   "outputs": [],
   "source": [
    "comp_f = \"/LOCAL/jzerbe/faces_vs_houses/ds002938/derivatives/melodic/sub-03/sub-03_ses-None_task-effort_run-None_space-T1w-melodic/stats/thresh_zstat100.nii.gz\"\n",
    "aseg_f = '/LOCAL/jzerbe/faces_vs_houses/ds002938/derivatives/fmriprep/sub-03/func/sub-03_task-effort_space-T1w_desc-aseg_dseg.nii.gz'\n",
    "bmask_f = '/LOCAL/jzerbe/faces_vs_houses/ds002938/derivatives/fmriprep/sub-03/func/sub-03_task-effort_space-T1w_desc-brain_mask.nii.gz'"
   ]
  },
  {
   "cell_type": "code",
   "execution_count": null,
   "id": "92539000",
   "metadata": {},
   "outputs": [],
   "source": [
    "def aseg2gm(aseg_f):\n",
    "    gm_left = math_img('img == 3', img=aseg_f)\n",
    "    gm_right = math_img('img == 42', img=aseg_f)\n",
    "    gm = intersect_masks([gm_left, gm_right], threshold=0, connected=False)\n",
    "    return gm\n",
    "gm = aseg2gm(aseg_f)"
   ]
  },
  {
   "cell_type": "code",
   "execution_count": null,
   "id": "299fa841",
   "metadata": {},
   "outputs": [],
   "source": [
    "def calc_gm_prop(comp_f, aseg_f, bmask_f):\n",
    "    # get gm mask\n",
    "    gm = aseg2gm(aseg_f)\n",
    "    # count significant voxels in grey matter\n",
    "    comp_gm = apply_mask(comp_f, gm)\n",
    "    nsig_gm = np.sum(comp_gm > 0.)\n",
    "    # counts ignificant voxels in whole brain\n",
    "    comp_brain = apply_mask(comp_f, bmask_f)\n",
    "    nsig_brain = np.sum(comp_brain > 0.)\n",
    "    #return ratio\n",
    "    gm_prop = nsig_gm / nsig_brain\n",
    "    return gm_prop"
   ]
  },
  {
   "cell_type": "code",
   "execution_count": null,
   "id": "bd9c921c",
   "metadata": {},
   "outputs": [],
   "source": []
  },
  {
   "cell_type": "code",
   "execution_count": null,
   "id": "58994e0f",
   "metadata": {},
   "outputs": [],
   "source": []
  },
  {
   "cell_type": "code",
   "execution_count": null,
   "id": "d2882eb7",
   "metadata": {},
   "outputs": [],
   "source": []
  },
  {
   "cell_type": "code",
   "execution_count": null,
   "id": "a8cd2445",
   "metadata": {},
   "outputs": [],
   "source": [
    "gm_prop"
   ]
  },
  {
   "cell_type": "code",
   "execution_count": null,
   "id": "8ea7a97e",
   "metadata": {},
   "outputs": [],
   "source": [
    "# "
   ]
  }
 ],
 "metadata": {
  "kernelspec": {
   "display_name": "Python 3",
   "language": "python",
   "name": "python3"
  },
  "language_info": {
   "codemirror_mode": {
    "name": "ipython",
    "version": 3
   },
   "file_extension": ".py",
   "mimetype": "text/x-python",
   "name": "python",
   "nbconvert_exporter": "python",
   "pygments_lexer": "ipython3",
   "version": "3.6.9"
  }
 },
 "nbformat": 4,
 "nbformat_minor": 5
}
