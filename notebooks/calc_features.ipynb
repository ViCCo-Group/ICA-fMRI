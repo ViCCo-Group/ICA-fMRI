{
 "cells": [
  {
   "cell_type": "markdown",
   "id": "660c0fd6",
   "metadata": {},
   "source": [
    "## Calculate features from ICs\n",
    "\n",
    "- Edge fraction\n",
    "- High frequency content\n",
    "- ...\n",
    "- (features from paper)"
   ]
  },
  {
   "cell_type": "code",
   "execution_count": 135,
   "id": "c41704d0",
   "metadata": {},
   "outputs": [
    {
     "name": "stderr",
     "output_type": "stream",
     "text": [
      "/LOCAL/jzerbe/testenv/lib/python3.6/site-packages/nilearn/__init__.py:69: FutureWarning: Python 3.6 support is deprecated and will be removed in release 0.10 of Nilearn. Consider switching to Python 3.8 or 3.9.\n",
      "  _python_deprecation_warnings()\n"
     ]
    }
   ],
   "source": [
    "import os\n",
    "import sys\n",
    "import numpy as np\n",
    "from nilearn.image import load_img, threshold_img, math_img, resample_to_img\n",
    "from os.path import join, pardir\n",
    "sys.path.append(pardir)\n",
    "from bids import BIDSLayout\n",
    "#from tqdm import tqdm"
   ]
  },
  {
   "cell_type": "code",
   "execution_count": 130,
   "id": "04209b46",
   "metadata": {},
   "outputs": [],
   "source": [
    "# Helper functions\n",
    "def get_comps(melodic_base_dir, sub_nr, melodic_run): # runinfo = bids layout?? think it's only needed to retrieve files\n",
    "    \"\"\"\n",
    "    ...\n",
    "    \"\"\"\n",
    "    # retrieve file\n",
    "    mixmat = np.loadtxt(join(melodic_base_dir, sub_nr, melodic_run, 'melodic_mix'))\n",
    "    ica_nii_f = join(melodic_base_dir, sub_nr, melodic_run, 'melodic_IC.nii.gz')\n",
    "    comps_arr = load_img(ica_nii_f).get_fdata()\n",
    "    return mixmat, comps_arr\n",
    "\n",
    "def get_edge_mask(runinfo): # runinfo = bids layout?? think it's only needed to retrieve files\n",
    "    \"\"\"\n",
    "    ...\n",
    "    \"\"\"\n",
    "    # TODO: retrieve files with pybids\n",
    "    brainmask_f = pjoin(\n",
    "        self.bidsroot, 'derivatives', 'fmriprep', f\"sub-{runinfo['subject']}\", f\"ses-{runinfo['session']}\", 'func',\n",
    "        f\"sub-{runinfo['subject']}_ses-{runinfo['session']}_task-{runinfo['task']}_run-{runinfo['run']}{self.space_str}_desc-brain_mask.nii.gz\"\n",
    "    )\n",
    "    csf_anat_f = pjoin(\n",
    "        self.bidsroot, 'derivatives', 'fmriprep', f\"sub-{runinfo['subject']}\", 'anat',\n",
    "        f\"sub-{runinfo['subject']}_acq-prescannormalized_rec-pydeface_label-CSF_probseg.nii.gz\"\n",
    "    )\n",
    "    csf_func = threshold_img(\n",
    "        resample_to_img(csf_anat_f, brainmask_f, interpolation='linear'),\n",
    "        threshold=1.\n",
    "    )\n",
    "    # load image?\n",
    "    brainmask = load_img(brainmask_f).get_fdata()\n",
    "    mask_img = math_img('img1 - img2', img1=brainmask_f, img2=csf_func)\n",
    "    mask_arr = mask_img.get_fdata()\n",
    "    # worked okayish with erosion iterations=2\n",
    "    # what is ero mask?\n",
    "    ero_mask = binary_erosion(mask_arr, iterations=self.edgefrac_thickness).astype(int)\n",
    "    edgemask = mask_arr - ero_mask\n",
    "    return edgemask.astype(bool), brainmask.astype(bool)\n"
   ]
  },
  {
   "cell_type": "code",
   "execution_count": null,
   "id": "4047389e",
   "metadata": {},
   "outputs": [],
   "source": [
    "# Edge fraction\n",
    "def calc_edgefrac(comp_arr, edgemask, brainmask):\n",
    "    return np.absolute(comp_arr[edgemask]).sum() / np.absolute(comp_arr[brainmask]).sum()"
   ]
  },
  {
   "cell_type": "code",
   "execution_count": null,
   "id": "30839a22",
   "metadata": {},
   "outputs": [],
   "source": [
    "# High frequency content\n",
    "def calc_hfc(timeseries, tr=1.5):\n",
    "    \"\"\"Calculate high frequency content for time series data. Tr can generally mean sampling rate in seconds.\"\"\"\n",
    "    nf = (1. / tr) * .5  # nyquist\n",
    "    freqs, power = periodogram(timeseries, fs=1. / tr)\n",
    "    relcumsum = np.cumsum(power) / power.sum()\n",
    "    freqind = np.argmin(np.absolute(relcumsum - .5))\n",
    "    hfc = freqs[freqind] / nf\n",
    "    return hfc"
   ]
  },
  {
   "cell_type": "code",
   "execution_count": 131,
   "id": "d32d5ead",
   "metadata": {},
   "outputs": [],
   "source": [
    "# paths\n",
    "bidsdata_dir = '/LOCAL/jzerbe/faces_vs_houses/ds002938'\n",
    "base_dir = '/LOCAL/jzerbe/temp_results'\n",
    "melodic_base_dir = join(bidsdata_dir, 'derivatives', 'melodic')"
   ]
  },
  {
   "cell_type": "code",
   "execution_count": 103,
   "id": "107a6216",
   "metadata": {},
   "outputs": [],
   "source": [
    "ds_layout = BIDSLayout(bidsdata_dir, derivatives=True)"
   ]
  },
  {
   "cell_type": "code",
   "execution_count": 137,
   "id": "441cd559",
   "metadata": {},
   "outputs": [],
   "source": [
    "results_dicts = []\n",
    "melodic_entities = ds_layout.get(scope='melodic', return_type='filename', suffix='IC', extension='nii.gz')\n",
    "\n",
    "for entity in melodic_entities:\n",
    "    melodic_dir_split = entity.split('/')\n",
    "    melodic_run = melodic_dir_split[-2]\n",
    "    sub_nr = melodic_dir_split[-3]\n",
    "    \n",
    "    mixmat, comps_arr = get_comps(melodic_base_dir, sub_nr, melodic_run)\n",
    "    edgemask, brainmask = self.get_edge_mask(runinfo)\n",
    "    "
   ]
  },
  {
   "cell_type": "code",
   "execution_count": null,
   "id": "b97edc52",
   "metadata": {},
   "outputs": [],
   "source": [
    "edgemask, brainmask = self.get_edge_mask(runinfo)\n",
    "\n",
    "for bo in tqdm(bidsobs, desc='iterating over runs'): # what if there are no runs i.e. run = ''?\n",
    "    # get_entities() rint all the entities associated with this file, and their values\n",
    "    # ex: {'datatype': 'func',\n",
    "    #      'extension': 'nii.gz',\n",
    "    #      'session': 'test',\n",
    "    #      'subject': '01',\n",
    "    #      'suffix': 'bold',\n",
    "    #      'task': 'fingerfootlips'}\n",
    "    runinfo = bo.get_entities() # gives back names of files?\n",
    "    \n",
    "    for comp_i in range(mixmat.shape[-1]):\n",
    "        results_dict = {'subject': runinfo['subject'], 'session': runinfo['session'], 'task': runinfo['task'],\n",
    "                                'run': runinfo['run']}\n",
    "        comp_arr = comps_arr[:, :, :, comp_i]\n",
    "        comp_ts = mixmat[:, comp_i]\n",
    "        # Calculate edge fraction\n",
    "        results_dict['edgefrac'] = calc_edgefrac(comp_arr, edgemask, brainmask)\n",
    "        # Calculate high frequency content\n",
    "        results_dict['hfc'] = calc_hfc(comp_ts)\n",
    "        results_dicts.append(results_dict)\n",
    "\n"
   ]
  }
 ],
 "metadata": {
  "kernelspec": {
   "display_name": "Python 3",
   "language": "python",
   "name": "python3"
  },
  "language_info": {
   "codemirror_mode": {
    "name": "ipython",
    "version": 3
   },
   "file_extension": ".py",
   "mimetype": "text/x-python",
   "name": "python",
   "nbconvert_exporter": "python",
   "pygments_lexer": "ipython3",
   "version": "3.6.9"
  }
 },
 "nbformat": 4,
 "nbformat_minor": 5
}
