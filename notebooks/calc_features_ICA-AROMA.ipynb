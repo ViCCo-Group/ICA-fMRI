{
 "cells": [
  {
   "cell_type": "markdown",
   "id": "097d749e",
   "metadata": {},
   "source": [
    "## Check how AROMA edge fraction feature is calculated"
   ]
  },
  {
   "cell_type": "code",
   "execution_count": 13,
   "id": "5b4ddb65",
   "metadata": {},
   "outputs": [],
   "source": [
    "import numpy as np\n",
    "import os\n",
    "import sys\n",
    "import subprocess\n",
    "from past.utils import old_div\n",
    "\n",
    "# hardcoded paths\n",
    "tempDir = '/LOCAL/jzerbe/auditory_vs_visual'\n",
    "#'/LOCAL/jzerbe/faces_vs_houses'\n",
    "melDir = '/LOCAL/jzerbe/auditory_vs_visual/ds003717/derivatives/melodic/sub-06/sub-06_task-SESS01_space-MNI152NLin2009cAsym_melodic'\n",
    "#'/LOCAL/jzerbe/faces_vs_houses/ds002938/derivatives/melodic/sub-01/sub-01_task-1back_space-MNI152NLin2009cAsym_melodic'\n",
    "\n",
    "melIC = os.path.join(melDir, 'melodic_IC.nii.gz')\n",
    "fslDir = os.path.join(os.environ[\"FSLDIR\"], 'bin', '')\n",
    "\n",
    "# Get the number of ICs\n",
    "numICs = int(subprocess.getoutput('%sfslinfo %s | grep dim4 | head -n1 | awk \\'{print $2}\\'' % (fslDir, melIC) ))\n",
    "# Loop over ICs\n",
    "edgeFract = np.zeros(numICs)\n",
    "csfFract = np.zeros(numICs)"
   ]
  },
  {
   "cell_type": "code",
   "execution_count": 15,
   "id": "c94121c8",
   "metadata": {},
   "outputs": [],
   "source": [
    "for i in range(0, numICs):\n",
    "    # Define temporary IC-file\n",
    "    tempIC = os.path.join(tempDir, 'temp_IC.nii.gz')\n",
    "    # Extract IC from the merged melodic_IC_thr2MNI2mm file\n",
    "    os.system(' '.join([os.path.join(fslDir, 'fslroi'),\n",
    "              melIC,\n",
    "              tempIC,\n",
    "              str(i),\n",
    "              '1']))\n",
    "    # Change to absolute Z-values\n",
    "    os.system(' '.join([os.path.join(fslDir, 'fslmaths'),\n",
    "              tempIC,\n",
    "              '-abs',\n",
    "              tempIC]))\n",
    "    # Get sum of Z-values within the total Z-map (calculate via the mean and number of non-zero voxels)\n",
    "    totVox = int(subprocess.getoutput(' '.join([os.path.join(fslDir, 'fslstats'),\n",
    "                                                tempIC,\n",
    "                                                '-V | awk \\'{print $1}\\''])))\n",
    "    totMean = float(subprocess.getoutput(' '.join([os.path.join(fslDir, 'fslstats'),\n",
    "                                                           tempIC,\n",
    "                                                           '-M'])))\n",
    "    totSum = totMean * totVox\n",
    "    \n",
    "    # Get sum of Z-values of the voxels located within the CSF (calculate via the mean & number of non-zero voxels)\n",
    "    csfVox = int(subprocess.getoutput(' '.join([os.path.join(fslDir, 'fslstats'),\n",
    "                                                #tempIC,\n",
    "                                                os.path.join('/LOCAL/jzerbe/faces_vs_houses', 'mask_csf.nii.gz'),\n",
    "                                                #'-k mask_csf.nii.gz',\n",
    "                                                '-V | awk \\'{print $1}\\''])))\n",
    "    csfMean = float(subprocess.getoutput(' '.join([os.path.join(fslDir, 'fslstats'),\n",
    "                                                     #tempIC,\n",
    "                                                     os.path.join('/LOCAL/jzerbe/faces_vs_houses', 'mask_csf.nii.gz'),\n",
    "                                                     #'-k mask_csf.nii.gz',\n",
    "                                                     '-M'])))\n",
    "    csfSum = csfMean * csfVox\n",
    "    \n",
    "    # Get sum of Z-values of the voxels located within the Edge (calculate via the mean & number of non-zero voxels)\n",
    "    edgeVox = int(subprocess.getoutput(' '.join([os.path.join(fslDir, 'fslstats'),\n",
    "                                                     #tempIC,\n",
    "                                                     os.path.join('/LOCAL/jzerbe/faces_vs_houses', 'mask_edge.nii.gz'),\n",
    "                                                     #'-k mask_edge.nii.gz',\n",
    "                                                         '-V | awk \\'{print $1}\\''])))\n",
    "                  \n",
    "    edgeMean = float(subprocess.getoutput(' '.join([os.path.join(fslDir, 'fslstats'),\n",
    "                                                    #tempIC,\n",
    "                                                    os.path.join('/LOCAL/jzerbe/faces_vs_houses', 'mask_edge.nii.gz'),\n",
    "                                                    #'-k mask_edge.nii.gz',\n",
    "                                                    '-M'])))\n",
    "    \n",
    "    edgeSum = edgeMean * edgeVox\n",
    "    \n",
    "    # Get sum of Z-values of voxels located outside the brain (calculate via the mean & number of non-zero voxels)\n",
    "    outVox = int(subprocess.getoutput(' '.join([os.path.join(fslDir, 'fslstats'),\n",
    "                                                #tempIC,\n",
    "                                                os.path.join('/LOCAL/jzerbe/faces_vs_houses', 'mask_out.nii.gz'),\n",
    "                                                #'-k mask_out.nii.gz',\n",
    "                                                '-V | awk \\'{print $1}\\''])))\n",
    "    outMean = float(subprocess.getoutput(' '.join([os.path.join(fslDir, 'fslstats'),\n",
    "                                                #tempIC,\n",
    "                                               os.path.join('/LOCAL/jzerbe/faces_vs_houses', 'mask_out.nii.gz'),\n",
    "                                               #'-k mask_out.nii.gz',\n",
    "                                               '-M'])))\n",
    "    outSum = outMean * outVox\n",
    "    \n",
    "    # Determine edge and CSF fraction\n",
    "    if not (totSum == 0):\n",
    "        edgeFract[i] = old_div((outSum + edgeSum), (totSum - csfSum))\n",
    "        csfFract[i] = old_div(csfSum, totSum)\n",
    "    else:\n",
    "        edgeFract[i] = 0\n",
    "        csfFract[i] = 0\n",
    "    \n",
    "    # Remove the temporary IC-file\n",
    "    os.remove(tempIC)\n",
    "    "
   ]
  },
  {
   "cell_type": "code",
   "execution_count": 16,
   "id": "272d8465",
   "metadata": {},
   "outputs": [
    {
     "name": "stdout",
     "output_type": "stream",
     "text": [
      "[2.82959133 3.0127958  3.12710619 3.12447829 3.08461726 3.11819121\n",
      " 3.07502932 3.27055593 2.81412357 3.1861663  3.27442102 3.25365598\n",
      " 3.31595471 3.3405092  3.064529   3.47356807 3.56380204 3.30866938\n",
      " 3.2283777  3.22353154 3.44981852 3.28857326 3.50255916 3.20177469\n",
      " 3.43008522 3.16485991 3.26496965 3.52271785 3.45918102 3.17091407\n",
      " 3.68168486 3.51455763 3.26195827 3.35611249 3.25984906 3.45539699\n",
      " 3.48847889 3.4237872  3.43001181 3.3492944  3.33583966]\n"
     ]
    }
   ],
   "source": [
    "# auditory\n",
    "print(edgeFract)"
   ]
  },
  {
   "cell_type": "code",
   "execution_count": 12,
   "id": "b20a0b2c",
   "metadata": {},
   "outputs": [
    {
     "name": "stdout",
     "output_type": "stream",
     "text": [
      "[18.20465255 18.32353867 19.61630835 18.57597024 15.53556241 17.16348447\n",
      " 20.25773009 20.26236912 20.28871268 22.13152232 23.17118447 18.61446352\n",
      " 21.54797971 20.16233771 21.18556271 20.09112431 22.92011181 20.91887455\n",
      " 21.65445202 22.06856774 18.64111113 18.96909265 20.53690474 22.40196567\n",
      " 21.42811314 21.5305456  22.09052383 23.24822989 22.21180272 19.27785952\n",
      " 23.03848393 19.79576238 22.99038531 23.18682002 21.07896942 21.50320606\n",
      " 21.33523855 20.29650806 21.8839725  20.28341059 22.25694748 19.82836805\n",
      " 20.82216645 22.65970161 22.22399272 21.98409995 21.25551517 23.34064919\n",
      " 21.9884159  22.1387764  20.41366721 19.40339499 23.48829976 21.99754507\n",
      " 25.09984394 21.53547148 22.36465094]\n"
     ]
    }
   ],
   "source": [
    "# faces vs houses\n",
    "print(edgeFract)"
   ]
  }
 ],
 "metadata": {
  "kernelspec": {
   "display_name": "Python 3",
   "language": "python",
   "name": "python3"
  },
  "language_info": {
   "codemirror_mode": {
    "name": "ipython",
    "version": 3
   },
   "file_extension": ".py",
   "mimetype": "text/x-python",
   "name": "python",
   "nbconvert_exporter": "python",
   "pygments_lexer": "ipython3",
   "version": "3.6.9"
  }
 },
 "nbformat": 4,
 "nbformat_minor": 5
}
