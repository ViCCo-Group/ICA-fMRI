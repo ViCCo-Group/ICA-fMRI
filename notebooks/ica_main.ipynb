{
 "cells": [
  {
   "cell_type": "code",
   "execution_count": 1,
   "id": "7df143b1",
   "metadata": {},
   "outputs": [
    {
     "name": "stdout",
     "output_type": "stream",
     "text": [
      "220517-15:52:49,37 nipype.utils WARNING:\n",
      "\t A newer version (1.8.1) of nipy/nipype is available. You are using 1.7.1\n"
     ]
    }
   ],
   "source": [
    "import os\n",
    "import sys\n",
    "import getopt\n",
    "from os.path import pardir\n",
    "sys.path.append(pardir)\n",
    "from run_ica_wf import make_dataset_ica"
   ]
  },
  {
   "cell_type": "code",
   "execution_count": 4,
   "id": "cb0d6a8c",
   "metadata": {},
   "outputs": [],
   "source": [
    "def parse_and_start_ica(argv):\n",
    "    arg_dataset = \"\"\n",
    "    arg_base = \"\"\n",
    "    arg_output = \"\"\n",
    "    arg_help = \"{0} -d <dataset> -b <base> -o <output>\".format(argv[0])\n",
    "    \n",
    "    try:\n",
    "        opts, args = getopt.getopt(argv[1:], \"hd:u:o:\", [\"help\", \"dataset=\", \"base=\", \"output=\"])\n",
    "    except:\n",
    "        print(arg_help)\n",
    "        sys.exit(2)\n",
    "    \n",
    "    for opt, arg in opts:\n",
    "        if opt in (\"-h\", \"--help\"):\n",
    "            print(arg_help)  # print the help message\n",
    "            sys.exit(2)\n",
    "        elif opt in (\"-d\", \"--dataset\"):\n",
    "            arg_dataset = arg\n",
    "        elif opt in (\"-b\", \"--base\"):\n",
    "            arg_base = arg\n",
    "        elif opt in (\"-o\", \"--output\"):\n",
    "            arg_output = arg\n",
    "\n",
    "    make_dataset_ica(arg_dataset, arg_base, arg_output)\n",
    "    #print('input:', arg_input)\n",
    "    #print('user:', arg_user)\n",
    "    #print('output:', arg_output)"
   ]
  },
  {
   "cell_type": "code",
   "execution_count": null,
   "id": "f2d441a9",
   "metadata": {},
   "outputs": [],
   "source": [
    "if __name__ == \"__main__\":\n",
    "    parse_and_start_ica(sys.argv)"
   ]
  }
 ],
 "metadata": {
  "kernelspec": {
   "display_name": "Python 3",
   "language": "python",
   "name": "python3"
  },
  "language_info": {
   "codemirror_mode": {
    "name": "ipython",
    "version": 3
   },
   "file_extension": ".py",
   "mimetype": "text/x-python",
   "name": "python",
   "nbconvert_exporter": "python",
   "pygments_lexer": "ipython3",
   "version": "3.6.9"
  }
 },
 "nbformat": 4,
 "nbformat_minor": 5
}
