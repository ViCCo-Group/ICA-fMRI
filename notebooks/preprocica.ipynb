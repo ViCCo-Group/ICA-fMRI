{
 "cells": [
  {
   "cell_type": "code",
   "execution_count": null,
   "id": "00ef137c",
   "metadata": {},
   "outputs": [],
   "source": [
    "import os\n",
    "import sys\n",
    "\n",
    "import numpy as np\n",
    "from nipype import config\n",
    "import matplotlib.pyplot as plt # plotting\n",
    "from matplotlib import pyplot # plotting\n",
    "from pandas import read_csv # plotting\n",
    "from nilearn import image, plotting # plotting\n",
    "#from tqdm.notebook import tqdm\n",
    "\n",
    "from os.path import pardir\n",
    "sys.path.append(pardir)\n",
    "from ica_wf import make_subject_ica_wf"
   ]
  },
  {
   "cell_type": "code",
   "execution_count": null,
   "id": "145878e9",
   "metadata": {
    "ExecuteTime": {
     "end_time": "2022-04-14T08:08:48.517747Z",
     "start_time": "2022-04-14T08:08:48.513092Z"
    }
   },
   "outputs": [],
   "source": [
    "config.enable_debug_mode()"
   ]
  },
  {
   "cell_type": "markdown",
   "id": "4b65ad15",
   "metadata": {},
   "source": [
    "### Run preproc + ICA workflow"
   ]
  },
  {
   "cell_type": "code",
   "execution_count": null,
   "id": "86aec5c1",
   "metadata": {},
   "outputs": [],
   "source": [
    "# create workflow\n",
    "melodicwf = make_subject_ica_wf()"
   ]
  },
  {
   "cell_type": "code",
   "execution_count": null,
   "id": "a8c59c0d",
   "metadata": {},
   "outputs": [],
   "source": [
    "# hardcoded paths\n",
    "bold_file = \"/LOCAL/jzerbe/faces_vs_houses/ds002938/derivatives/fmriprep/sub-08/func/sub-08_task-effort_space-T1w_desc-preproc_bold.nii.gz\"\n",
    "mask_file = \"/LOCAL/jzerbe/faces_vs_houses/ds002938/derivatives/fmriprep/sub-08/func/sub-08_task-effort_space-T1w_desc-brain_mask.nii.gz\"\n",
    "out_dir = \"/LOCAL/jzerbe/temp_results/melodic/sub-08_task-effort_space-T1w_melodic\"\n",
    "\n",
    "# parameter\n",
    "p_tr = 1.5\n",
    "p_hpf_sec =120.0\n",
    "p_hpf = float(p_hpf_sec/p_tr)\n",
    "p_fwhm = 4.0\n",
    "base_dir = \"/LOCAL/jzerbe/temp_results\""
   ]
  },
  {
   "cell_type": "code",
   "execution_count": null,
   "id": "f285ac31",
   "metadata": {},
   "outputs": [],
   "source": [
    "# feed input to workflow & run\n",
    "melodicwf.inputs.inputspec.bold_file = bold_file\n",
    "melodicwf.inputs.inputspec.mask_file = mask_file\n",
    "melodicwf.inputs.inputspec.hpf = p_hpf\n",
    "melodicwf.inputs.inputspec.tr = p_tr\n",
    "melodicwf.inputs.inputspec.fwhm = p_fwhm\n",
    "melodicwf.inputs.inputspec.out_dir = out_dir\n",
    "melodicwf.base_dir = base_dir\n",
    "\n",
    "melodicwf.run()"
   ]
  },
  {
   "cell_type": "markdown",
   "id": "ae4a850b",
   "metadata": {},
   "source": [
    "### Plotting results"
   ]
  },
  {
   "cell_type": "code",
   "execution_count": null,
   "id": "2b94004e",
   "metadata": {},
   "outputs": [],
   "source": [
    "# hardcoded paths\n",
    "melodicimg = '/LOCAL/jzerbe/temp_results/melodic/sub-08_task-effort_space-T1w_melodic/melodic_IC.nii.gz'\n",
    "anatimg = '/LOCAL/jzerbe/faces_vs_houses/derivatives/fmriprep/sub-08/anat/sub-08_desc-preproc_T1w.nii.gz'\n",
    "ic_file = '/LOCAL/jzerbe/temp_results/melodic/sub-08_task-effort_space-T1w_melodic/melodic_ICstats.txt'"
   ]
  },
  {
   "cell_type": "code",
   "execution_count": null,
   "id": "9683db89",
   "metadata": {
    "scrolled": false
   },
   "outputs": [],
   "source": [
    "# coronal, horizontal & sagital\n",
    "print('# Volumes: ', image.load_img(melodicimg).shape[3]) # nr of volumes\n",
    "volume = image.index_img(melodicimg, 0)\n",
    "img_ortho = plotting.plot_stat_map(volume, bg_img=anatimg, display_mode='ortho')\n",
    "plt.show()\n",
    "\n",
    "# multiple horizontal\n",
    "img_z = plotting.plot_stat_map(volume, bg_img=anatimg, display_mode='z')\n",
    "plt.show()\n",
    "\n",
    "# IC signal shape\n",
    "ic_file = '/LOCAL/jzerbe/temp_results/melodic/sub-08_task-effort_space-T1w_melodic/melodic_mix'\n",
    "ic = np.loadtxt(ic_file)\n",
    "plt.plot(ic[:,0])"
   ]
  },
  {
   "cell_type": "code",
   "execution_count": null,
   "id": "443b1121",
   "metadata": {},
   "outputs": [],
   "source": [
    "# interactive\n",
    "plotting.view_img(volume, bg_img=anatimg, threshold=2, vmax=4, cut_coords=[-42, -16, 52], title=\"\")"
   ]
  }
 ],
 "metadata": {
  "kernelspec": {
   "display_name": "Python 3",
   "language": "python",
   "name": "python3"
  },
  "language_info": {
   "codemirror_mode": {
    "name": "ipython",
    "version": 3
   },
   "file_extension": ".py",
   "mimetype": "text/x-python",
   "name": "python",
   "nbconvert_exporter": "python",
   "pygments_lexer": "ipython3",
   "version": "3.6.9"
  }
 },
 "nbformat": 4,
 "nbformat_minor": 5
}
