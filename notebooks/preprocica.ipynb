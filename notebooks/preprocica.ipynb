{
 "cells": [
  {
   "cell_type": "code",
   "execution_count": 1,
   "id": "1cd0f0a7",
   "metadata": {
    "ExecuteTime": {
     "end_time": "2022-04-14T08:08:38.770601Z",
     "start_time": "2022-04-14T08:08:36.216220Z"
    },
    "scrolled": true
   },
   "outputs": [
    {
     "name": "stdout",
     "output_type": "stream",
     "text": [
      "220422-17:33:39,842 nipype.utils WARNING:\n",
      "\t A newer version (1.7.1) of nipy/nipype is available. You are using 1.7.0\n"
     ]
    }
   ],
   "source": [
    "#from os.path import join as pjoin\n",
    "#import numpy as np\n",
    "#import nibabel as nb # plotting remove later\n",
    "#import matplotlib.pyplot as plt # plotting remove later\n",
    "#from nilearn import image, plotting # plotting, removable?\n",
    "#from nilearn.masking import intersect_masks\n",
    "from nipype import config\n",
    "from nipype.interfaces.fsl.maths import TemporalFilter\n",
    "from nipype.interfaces.fsl.model import MELODIC\n",
    "from nipype.interfaces.fsl.preprocess import SUSAN\n",
    "from nipype.interfaces.utility import Function, IdentityInterface\n",
    "from nipype.pipeline.engine import Workflow, Node # MapNode, \n",
    "#from tqdm.notebook import tqdm"
   ]
  },
  {
   "cell_type": "code",
   "execution_count": 2,
   "id": "145878e9",
   "metadata": {
    "ExecuteTime": {
     "end_time": "2022-04-14T08:08:48.517747Z",
     "start_time": "2022-04-14T08:08:48.513092Z"
    }
   },
   "outputs": [],
   "source": [
    "config.enable_debug_mode()"
   ]
  },
  {
   "cell_type": "code",
   "execution_count": 3,
   "id": "26e7935e",
   "metadata": {
    "ExecuteTime": {
     "end_time": "2022-04-14T08:18:18.788340Z",
     "start_time": "2022-04-14T08:18:18.781607Z"
    }
   },
   "outputs": [],
   "source": [
    "def calc_susan_thresh(boldfile, maskfile, timeax=0, median_factor=.75):\n",
    "    \"\"\"\n",
    "    Calculate the median value within brainmask and multiply with fixed factor to get an estimate of the contrast\n",
    "    between background and brain for FSL's SUSAN.\n",
    "    \"\"\"\n",
    "    from nilearn.masking import apply_mask\n",
    "    import numpy as np\n",
    "    data = apply_mask(boldfile, maskfile)\n",
    "    med = np.median(data.mean(axis=timeax))\n",
    "    del data  # suspect memory leak\n",
    "    return med * median_factor"
   ]
  },
  {
   "cell_type": "code",
   "execution_count": null,
   "id": "a0bfc24a",
   "metadata": {
    "ExecuteTime": {
     "end_time": "2022-04-14T08:12:48.897204Z",
     "start_time": "2022-04-14T08:12:48.892183Z"
    }
   },
   "outputs": [],
   "source": [
    "# TODO: Do preprocessing and ICA\n",
    "\n",
    "# Required inputs:\n",
    "# - functional run (bold file)\n",
    "# - brain mask\n",
    "\n",
    "# Desired outputs:\n",
    "# - A nipype workflow that combines precessing (smoothing/temporal filtering) \n",
    "# and ICA for one functional run"
   ]
  },
  {
   "cell_type": "code",
   "execution_count": 8,
   "id": "2fc8b0d3",
   "metadata": {},
   "outputs": [],
   "source": [
    "def make_subject_ica_wf():\n",
    "    \"\"\"\n",
    "    TODO: give TR as input (to this function) or infer from data?\n",
    "    \n",
    "    Example Inputs:\n",
    "        wf.inputs.inputspec.bold_file = '/../preproc_bold.nii.gz'\n",
    "        wf.inputs.inputspec.mask_file = '/../brain_mask.nii.gz'\n",
    "        wf.inputs.inputspec.hpf_sec = 120.0\n",
    "        wf.inputs.inputspec.tr = 1.5\n",
    "        wf.inputs.inputspec.fwhm = 4.0\n",
    "        wf.inputs.inputspec.out_dir = '/results/melodic'\n",
    "\n",
    "        wf.base_dir = '/..'\n",
    "    \n",
    "    Output:\n",
    "        nipype workflow = combining precessing (smoothing/temporal filtering)\n",
    "        and ICA for one functional run\n",
    "    \"\"\"\n",
    "    # create input spec\n",
    "    inputspec = Node(\n",
    "        IdentityInterface(\n",
    "            fields=['bold_file',\n",
    "                    'mask_file',\n",
    "                    'hpf_sec',\n",
    "                    'tr',\n",
    "                    'fwhm',\n",
    "                    'out_dir']\n",
    "                    ),\n",
    "            name=\"inputspec\")\n",
    "    \n",
    "    # create node for smoothing\n",
    "    calcthresh = Node(\n",
    "        Function(\n",
    "            function=calc_susan_thresh, input_names=['boldfile', 'maskfile'], \n",
    "            output_names=['smooth_thresh']),\n",
    "            name='calcthresh'\n",
    "    )\n",
    "    susan = Node(SUSAN(fwhm=fwhm), name='susan') # requires \n",
    "    # ... temporal filtering\n",
    "    tfilt = Node(TemporalFilter(highpass_sigma=float(hpf_sec/tr)), name='tfilt')\n",
    "    # ... ICA\n",
    "    melodic = Node(MELODIC(tr_sec=tr, out_all=True, no_bet=True, report=True), name='melodic')\n",
    "    \n",
    "    # connect nodes in workflow\n",
    "    wf = Workflow(name='melodicwf')\n",
    "    wf.connect([\n",
    "        (inputspec, calcthresh, [('bold_file', 'boldfile'),\n",
    "                                 ('mask_file', 'maskfile')]),\n",
    "        (inputspec, susan, [('bold_file', 'in_file')]),\n",
    "        (inputspec, melodic, [('mask_file', 'mask'),\n",
    "                              ('out_dir', 'out_dir')]), \n",
    "        (calcthresh, susan, [('smooth_thresh', 'brightness_threshold')]),\n",
    "        (susan, tfilt, [('smoothed_file', 'in_file')]),\n",
    "        (tfilt, melodic, [('out_file', 'in_files')])\n",
    "    ])\n",
    "    return wf"
   ]
  },
  {
   "cell_type": "markdown",
   "id": "6a1bd0b7",
   "metadata": {},
   "source": [
    "# Tasks\n",
    "\n",
    "- Add inputspec and outputspec to our workflow!\n",
    "- execute for a bunch of runs/subjects/datasets!\n",
    "- Put the code we wrote today in a python file in our repo for future happy uses!!!"
   ]
  },
  {
   "cell_type": "markdown",
   "id": "ca0b4220",
   "metadata": {},
   "source": [
    "### Paths and workflow execution"
   ]
  },
  {
   "cell_type": "code",
   "execution_count": 5,
   "id": "a8c59c0d",
   "metadata": {},
   "outputs": [],
   "source": [
    "# hardcoded paths\n",
    "bold_file = '/LOCAL/jzerbe/faces_vs_houses/derivatives/fmriprep/sub-08/func/sub-08_task-effort_space-T1w_desc-preproc_bold.nii.gz'\n",
    "mask_file = '/LOCAL/jzerbe/faces_vs_houses/derivatives/fmriprep/sub-08/func/sub-08_task-effort_space-T1w_desc-brain_mask.nii.gz'\n",
    "out_dir = '/LOCAL/jzerbe/temp_results/melodic/sub-08_task-effort_space-T1w_melodic'\n",
    "\n",
    "# parameter\n",
    "hpf_sec =120.0\n",
    "tr = 1.5\n",
    "fwhm = 4.0\n",
    "base_dir = '/LOCAL/jzerbe/temp_results'"
   ]
  },
  {
   "cell_type": "code",
   "execution_count": 9,
   "id": "f285ac31",
   "metadata": {},
   "outputs": [
    {
     "name": "stdout",
     "output_type": "stream",
     "text": [
      "220422-17:34:55,513 nipype.workflow DEBUG:\n",
      "\t (melodicwf.inputspec, melodicwf.calcthresh): No edge data\n",
      "220422-17:34:55,514 nipype.workflow DEBUG:\n",
      "\t (melodicwf.inputspec, melodicwf.calcthresh): new edge data: {'connect': [('bold_file', 'boldfile'), ('mask_file', 'maskfile')]}\n",
      "220422-17:34:55,515 nipype.workflow DEBUG:\n",
      "\t (melodicwf.inputspec, melodicwf.susan): No edge data\n",
      "220422-17:34:55,515 nipype.workflow DEBUG:\n",
      "\t (melodicwf.inputspec, melodicwf.susan): new edge data: {'connect': [('bold_file', 'in_file')]}\n",
      "220422-17:34:55,516 nipype.workflow DEBUG:\n",
      "\t (melodicwf.inputspec, melodicwf.melodic): No edge data\n",
      "220422-17:34:55,516 nipype.workflow DEBUG:\n",
      "\t (melodicwf.inputspec, melodicwf.melodic): new edge data: {'connect': [('mask_file', 'mask'), ('out_dir', 'out_dir')]}\n",
      "220422-17:34:55,516 nipype.workflow DEBUG:\n",
      "\t (melodicwf.calcthresh, melodicwf.susan): No edge data\n",
      "220422-17:34:55,517 nipype.workflow DEBUG:\n",
      "\t (melodicwf.calcthresh, melodicwf.susan): new edge data: {'connect': [('smooth_thresh', 'brightness_threshold')]}\n",
      "220422-17:34:55,517 nipype.workflow DEBUG:\n",
      "\t (melodicwf.susan, melodicwf.tfilt): No edge data\n",
      "220422-17:34:55,517 nipype.workflow DEBUG:\n",
      "\t (melodicwf.susan, melodicwf.tfilt): new edge data: {'connect': [('smoothed_file', 'in_file')]}\n",
      "220422-17:34:55,518 nipype.workflow DEBUG:\n",
      "\t (melodicwf.tfilt, melodicwf.melodic): No edge data\n",
      "220422-17:34:55,518 nipype.workflow DEBUG:\n",
      "\t (melodicwf.tfilt, melodicwf.melodic): new edge data: {'connect': [('out_file', 'in_files')]}\n",
      "220422-17:34:55,521 nipype.workflow DEBUG:\n",
      "\t [Node] inputspec - setting input bold_file = /LOCAL/jzerbe/faces_vs_houses/derivatives/fmriprep/sub-08/func/sub-08_task-effort_space-T1w_desc-preproc_bold.nii.gz\n",
      "220422-17:34:55,524 nipype.workflow DEBUG:\n",
      "\t [Node] inputspec - setting input mask_file = /LOCAL/jzerbe/faces_vs_houses/derivatives/fmriprep/sub-08/func/sub-08_task-effort_space-T1w_desc-brain_mask.nii.gz\n",
      "220422-17:34:55,527 nipype.workflow DEBUG:\n",
      "\t [Node] inputspec - setting input hpf_sec = 120.0\n",
      "220422-17:34:55,531 nipype.workflow DEBUG:\n",
      "\t [Node] inputspec - setting input tr = 1.5\n",
      "220422-17:34:55,535 nipype.workflow DEBUG:\n",
      "\t [Node] inputspec - setting input fwhm = 4.0\n",
      "220422-17:34:55,538 nipype.workflow DEBUG:\n",
      "\t [Node] inputspec - setting input out_dir = /LOCAL/jzerbe/temp_results/melodic/sub-08_task-effort_space-T1w_melodic\n"
     ]
    }
   ],
   "source": [
    "melodicwf = make_subject_ica_wf()\n",
    "\n",
    "# input to workflow\n",
    "melodicwf.inputs.inputspec.bold_file = bold_file\n",
    "melodicwf.inputs.inputspec.mask_file = mask_file\n",
    "melodicwf.inputs.inputspec.hpf_sec = hpf_sec\n",
    "melodicwf.inputs.inputspec.tr = tr\n",
    "melodicwf.inputs.inputspec.fwhm = fwhm\n",
    "melodicwf.inputs.inputspec.out_dir = out_dir\n",
    "\n",
    "melodicwf.base_dir = base_dir"
   ]
  },
  {
   "cell_type": "code",
   "execution_count": 10,
   "id": "02b14b99",
   "metadata": {
    "scrolled": true
   },
   "outputs": [
    {
     "name": "stdout",
     "output_type": "stream",
     "text": [
      "220422-17:34:59,491 nipype.workflow DEBUG:\n",
      "\t Creating flat graph for workflow: melodicwf\n",
      "220422-17:34:59,494 nipype.workflow DEBUG:\n",
      "\t expanding workflow: melodicwf\n",
      "220422-17:34:59,496 nipype.workflow DEBUG:\n",
      "\t processing node: melodicwf.inputspec\n",
      "220422-17:34:59,497 nipype.workflow DEBUG:\n",
      "\t processing node: melodicwf.calcthresh\n",
      "220422-17:34:59,497 nipype.workflow DEBUG:\n",
      "\t processing node: melodicwf.susan\n",
      "220422-17:34:59,498 nipype.workflow DEBUG:\n",
      "\t processing node: melodicwf.melodic\n",
      "220422-17:34:59,498 nipype.workflow DEBUG:\n",
      "\t processing node: melodicwf.tfilt\n",
      "220422-17:34:59,499 nipype.workflow DEBUG:\n",
      "\t finished expanding workflow: melodicwf\n",
      "220422-17:34:59,500 nipype.workflow INFO:\n",
      "\t Workflow melodicwf settings: ['check', 'execution', 'logging', 'monitoring']\n",
      "220422-17:34:59,502 nipype.workflow DEBUG:\n",
      "\t PE: expanding iterables\n",
      "220422-17:34:59,502 nipype.workflow DEBUG:\n",
      "\t [Node] calcthresh - setting input boldfile = /LOCAL/jzerbe/faces_vs_houses/derivatives/fmriprep/sub-08/func/sub-08_task-effort_space-T1w_desc-preproc_bold.nii.gz\n",
      "220422-17:34:59,503 nipype.workflow DEBUG:\n",
      "\t [Node] susan - setting input in_file = /LOCAL/jzerbe/faces_vs_houses/derivatives/fmriprep/sub-08/func/sub-08_task-effort_space-T1w_desc-preproc_bold.nii.gz\n",
      "220422-17:34:59,504 nipype.workflow DEBUG:\n",
      "\t [Node] calcthresh - setting input maskfile = /LOCAL/jzerbe/faces_vs_houses/derivatives/fmriprep/sub-08/func/sub-08_task-effort_space-T1w_desc-brain_mask.nii.gz\n",
      "220422-17:34:59,505 nipype.workflow DEBUG:\n",
      "\t [Node] melodic - setting input mask = /LOCAL/jzerbe/faces_vs_houses/derivatives/fmriprep/sub-08/func/sub-08_task-effort_space-T1w_desc-brain_mask.nii.gz\n",
      "220422-17:34:59,505 nipype.workflow DEBUG:\n",
      "\t [Node] melodic - setting input out_dir = /LOCAL/jzerbe/temp_results/melodic/sub-08_task-effort_space-T1w_melodic\n",
      "220422-17:34:59,506 nipype.workflow DEBUG:\n",
      "\t Removed the identity node melodicwf.inputspec from the graph.\n",
      "220422-17:34:59,506 nipype.workflow DEBUG:\n",
      "\t Detected iterable nodes []\n",
      "220422-17:34:59,507 nipype.workflow DEBUG:\n",
      "\t PE: expanding iterables ... done\n",
      "220422-17:34:59,513 nipype.workflow DEBUG:\n",
      "\t Performing depth first search\n",
      "220422-17:34:59,516 nipype.workflow INFO:\n",
      "\t Running serially.\n",
      "220422-17:34:59,517 nipype.workflow INFO:\n",
      "\t [Node] Setting-up \"melodicwf.calcthresh\" in \"/LOCAL/jzerbe/temp_results/melodicwf/calcthresh\".\n",
      "220422-17:34:59,519 nipype.workflow DEBUG:\n",
      "\t [Node] Hashes: [('boldfile', ('/LOCAL/jzerbe/faces_vs_houses/derivatives/fmriprep/sub-08/func/sub-08_task-effort_space-T1w_desc-preproc_bold.nii.gz', 'db7094a3c59b708dfebe68055beb06c6')), ('function_str', 'def calc_susan_thresh(boldfile, maskfile, timeax=0, median_factor=.75):\\n    \"\"\"\\n    Calculate the median value within brainmask and multiply with fixed factor to get an estimate of the contrast\\n    between background and brain for FSL\\'s SUSAN.\\n    \"\"\"\\n    from nilearn.masking import apply_mask\\n    import numpy as np\\n    data = apply_mask(boldfile, maskfile)\\n    med = np.median(data.mean(axis=timeax))\\n    del data  # suspect memory leak\\n    return med * median_factor\\n'), ('maskfile', ('/LOCAL/jzerbe/faces_vs_houses/derivatives/fmriprep/sub-08/func/sub-08_task-effort_space-T1w_desc-brain_mask.nii.gz', 'a83ffdb9e86682275b9907e54f66bd7f'))], 11b016865e385d4b82d7e4ae9c873c70, /LOCAL/jzerbe/temp_results/melodicwf/calcthresh/_0x11b016865e385d4b82d7e4ae9c873c70.json, ['/LOCAL/jzerbe/temp_results/melodicwf/calcthresh/_0x11b016865e385d4b82d7e4ae9c873c70.json']\n",
      "220422-17:34:59,520 nipype.workflow DEBUG:\n",
      "\t [Node] Up-to-date cache found for \"melodicwf.calcthresh\".\n",
      "220422-17:34:59,520 nipype.workflow DEBUG:\n",
      "\t Only updating node hashes or skipping execution\n",
      "220422-17:34:59,521 nipype.utils DEBUG:\n",
      "\t Loading pkl: /LOCAL/jzerbe/temp_results/melodicwf/calcthresh/result_calcthresh.pklz\n",
      "220422-17:34:59,523 nipype.workflow DEBUG:\n",
      "\t Resolving paths in outputs loaded from results file.\n",
      "220422-17:34:59,524 nipype.workflow INFO:\n",
      "\t [Node] Cached \"melodicwf.calcthresh\" - collecting precomputed outputs\n",
      "220422-17:34:59,524 nipype.workflow INFO:\n",
      "\t [Node] \"melodicwf.calcthresh\" found cached.\n",
      "220422-17:34:59,525 nipype.workflow INFO:\n",
      "\t [Node] Setting-up \"melodicwf.susan\" in \"/LOCAL/jzerbe/temp_results/melodicwf/susan\".\n",
      "220422-17:34:59,526 nipype.workflow DEBUG:\n",
      "\t [Node] Setting 1 connected inputs of node \"susan\" from 1 previous nodes.\n",
      "220422-17:34:59,527 nipype.utils DEBUG:\n",
      "\t Loading pkl: /LOCAL/jzerbe/temp_results/melodicwf/calcthresh/result_calcthresh.pklz\n",
      "220422-17:34:59,528 nipype.workflow DEBUG:\n",
      "\t Resolving paths in outputs loaded from results file.\n",
      "220422-17:34:59,529 nipype.workflow DEBUG:\n",
      "\t output: smooth_thresh\n",
      "220422-17:34:59,529 nipype.workflow DEBUG:\n",
      "\t [Node] susan - setting input brightness_threshold = 600.0530544629046\n",
      "220422-17:34:59,530 nipype.workflow DEBUG:\n",
      "\t [Node] Hashes: [('brightness_threshold', '600.0530544629'), ('dimension', 3), ('fwhm', '4.0000000000'), ('in_file', ('/LOCAL/jzerbe/faces_vs_houses/derivatives/fmriprep/sub-08/func/sub-08_task-effort_space-T1w_desc-preproc_bold.nii.gz', 'db7094a3c59b708dfebe68055beb06c6')), ('output_type', 'NIFTI_GZ'), ('usans', []), ('use_median', 1)], 6c1d8bd8274ea1b66e4f483026ad6bd3, /LOCAL/jzerbe/temp_results/melodicwf/susan/_0x6c1d8bd8274ea1b66e4f483026ad6bd3.json, ['/LOCAL/jzerbe/temp_results/melodicwf/susan/_0x6c1d8bd8274ea1b66e4f483026ad6bd3.json']\n",
      "220422-17:34:59,531 nipype.workflow DEBUG:\n",
      "\t [Node] Up-to-date cache found for \"melodicwf.susan\".\n",
      "220422-17:34:59,531 nipype.workflow DEBUG:\n",
      "\t Only updating node hashes or skipping execution\n",
      "220422-17:34:59,532 nipype.utils DEBUG:\n",
      "\t Loading pkl: /LOCAL/jzerbe/temp_results/melodicwf/susan/result_susan.pklz\n",
      "220422-17:34:59,534 nipype.workflow DEBUG:\n",
      "\t Resolving paths in outputs loaded from results file.\n",
      "220422-17:34:59,535 nipype.workflow INFO:\n",
      "\t [Node] Cached \"melodicwf.susan\" - collecting precomputed outputs\n",
      "220422-17:34:59,536 nipype.workflow INFO:\n",
      "\t [Node] \"melodicwf.susan\" found cached.\n",
      "220422-17:34:59,536 nipype.workflow INFO:\n",
      "\t [Node] Setting-up \"melodicwf.tfilt\" in \"/LOCAL/jzerbe/temp_results/melodicwf/tfilt\".\n",
      "220422-17:34:59,537 nipype.workflow DEBUG:\n",
      "\t [Node] Setting 1 connected inputs of node \"tfilt\" from 1 previous nodes.\n",
      "220422-17:34:59,538 nipype.utils DEBUG:\n",
      "\t Loading pkl: /LOCAL/jzerbe/temp_results/melodicwf/susan/result_susan.pklz\n",
      "220422-17:34:59,539 nipype.workflow DEBUG:\n",
      "\t Resolving paths in outputs loaded from results file.\n",
      "220422-17:34:59,540 nipype.workflow DEBUG:\n",
      "\t output: smoothed_file\n",
      "220422-17:34:59,541 nipype.workflow DEBUG:\n",
      "\t [Node] tfilt - setting input in_file = /LOCAL/jzerbe/temp_results/melodicwf/susan/sub-08_task-effort_space-T1w_desc-preproc_bold_smooth.nii.gz\n",
      "220422-17:34:59,542 nipype.workflow DEBUG:\n",
      "\t [Node] Hashes: [('highpass_sigma', '80.0000000000'), ('in_file', ('/LOCAL/jzerbe/temp_results/melodicwf/susan/sub-08_task-effort_space-T1w_desc-preproc_bold_smooth.nii.gz', '8b2ddfd6d323e0978fb3c5f686ebf2ce')), ('lowpass_sigma', '-1.0000000000'), ('output_type', 'NIFTI_GZ')], b12782c57679db3644bf228b9b726495, /LOCAL/jzerbe/temp_results/melodicwf/tfilt/_0xb12782c57679db3644bf228b9b726495.json, ['/LOCAL/jzerbe/temp_results/melodicwf/tfilt/_0xb12782c57679db3644bf228b9b726495.json']\n",
      "220422-17:34:59,542 nipype.workflow DEBUG:\n",
      "\t [Node] Up-to-date cache found for \"melodicwf.tfilt\".\n",
      "220422-17:34:59,543 nipype.workflow DEBUG:\n",
      "\t Only updating node hashes or skipping execution\n",
      "220422-17:34:59,544 nipype.utils DEBUG:\n",
      "\t Loading pkl: /LOCAL/jzerbe/temp_results/melodicwf/tfilt/result_tfilt.pklz\n",
      "220422-17:34:59,545 nipype.workflow DEBUG:\n",
      "\t Resolving paths in outputs loaded from results file.\n",
      "220422-17:34:59,546 nipype.workflow INFO:\n",
      "\t [Node] Cached \"melodicwf.tfilt\" - collecting precomputed outputs\n",
      "220422-17:34:59,546 nipype.workflow INFO:\n",
      "\t [Node] \"melodicwf.tfilt\" found cached.\n",
      "220422-17:34:59,547 nipype.workflow INFO:\n",
      "\t [Node] Setting-up \"melodicwf.melodic\" in \"/LOCAL/jzerbe/temp_results/melodicwf/melodic\".\n",
      "220422-17:34:59,548 nipype.workflow DEBUG:\n",
      "\t [Node] Setting 1 connected inputs of node \"melodic\" from 1 previous nodes.\n",
      "220422-17:34:59,549 nipype.utils DEBUG:\n",
      "\t Loading pkl: /LOCAL/jzerbe/temp_results/melodicwf/tfilt/result_tfilt.pklz\n",
      "220422-17:34:59,550 nipype.workflow DEBUG:\n",
      "\t Resolving paths in outputs loaded from results file.\n"
     ]
    },
    {
     "name": "stdout",
     "output_type": "stream",
     "text": [
      "220422-17:34:59,551 nipype.workflow DEBUG:\n",
      "\t output: out_file\n",
      "220422-17:34:59,551 nipype.workflow DEBUG:\n",
      "\t [Node] melodic - setting input in_files = /LOCAL/jzerbe/temp_results/melodicwf/tfilt/sub-08_task-effort_space-T1w_desc-preproc_bold_smooth_filt.nii.gz\n",
      "220422-17:34:59,553 nipype.workflow DEBUG:\n",
      "\t [Node] Hashes: [('in_files', [('/LOCAL/jzerbe/temp_results/melodicwf/tfilt/sub-08_task-effort_space-T1w_desc-preproc_bold_smooth_filt.nii.gz', 'fc35d53c72bb0ccb929af3980233959c')]), ('mask', ('/LOCAL/jzerbe/faces_vs_houses/derivatives/fmriprep/sub-08/func/sub-08_task-effort_space-T1w_desc-brain_mask.nii.gz', 'a83ffdb9e86682275b9907e54f66bd7f')), ('no_bet', True), ('out_all', True), ('out_dir', '/LOCAL/jzerbe/temp_results/melodic/sub-08_task-effort_space-T1w_melodic'), ('output_type', 'NIFTI_GZ'), ('report', True), ('tr_sec', '1.5000000000')], a7c8ae8e9b01e2a814be1edb84cd74b1, /LOCAL/jzerbe/temp_results/melodicwf/melodic/_0xa7c8ae8e9b01e2a814be1edb84cd74b1.json, ['/LOCAL/jzerbe/temp_results/melodicwf/melodic/_0xa7c8ae8e9b01e2a814be1edb84cd74b1.json']\n",
      "220422-17:34:59,553 nipype.workflow DEBUG:\n",
      "\t [Node] Up-to-date cache found for \"melodicwf.melodic\".\n",
      "220422-17:34:59,554 nipype.workflow DEBUG:\n",
      "\t Only updating node hashes or skipping execution\n",
      "220422-17:34:59,554 nipype.utils DEBUG:\n",
      "\t Loading pkl: /LOCAL/jzerbe/temp_results/melodicwf/melodic/result_melodic.pklz\n",
      "220422-17:34:59,556 nipype.workflow DEBUG:\n",
      "\t Resolving paths in outputs loaded from results file.\n",
      "220422-17:34:59,557 nipype.workflow INFO:\n",
      "\t [Node] Cached \"melodicwf.melodic\" - collecting precomputed outputs\n",
      "220422-17:34:59,558 nipype.workflow INFO:\n",
      "\t [Node] \"melodicwf.melodic\" found cached.\n"
     ]
    },
    {
     "data": {
      "text/plain": [
       "<networkx.classes.digraph.DiGraph at 0x7f0ffdd06978>"
      ]
     },
     "execution_count": 10,
     "metadata": {},
     "output_type": "execute_result"
    }
   ],
   "source": [
    "melodicwf.run()"
   ]
  },
  {
   "cell_type": "markdown",
   "id": "ae4a850b",
   "metadata": {},
   "source": [
    "### Plotting"
   ]
  },
  {
   "cell_type": "code",
   "execution_count": null,
   "id": "9683db89",
   "metadata": {
    "scrolled": true
   },
   "outputs": [],
   "source": [
    "melodicimg = '/LOCAL/jzerbe/temp_results/melodic/sub-08_task-effort_space-T1w_melodic/melodic_IC.nii.gz'\n",
    "#view_img(img)\n",
    "anatimg = '/LOCAL/jzerbe/faces_vs_houses/derivatives/fmriprep/sub-08/anat/sub-08_desc-preproc_T1w.nii.gz'\n",
    "def plot_slice(fname):\n",
    "\n",
    "    # Load the image\n",
    "    img = nb.load(fname)\n",
    "    data = img.get_data()\n",
    "\n",
    "    # Cut in the middle of the brain\n",
    "    cut = int(data.shape[-1]/2) + 10\n",
    "\n",
    "    # Plot the data\n",
    "    plt.imshow(np.rot90(data[..., cut]), cmap=\"gray\")\n",
    "    plt.gca().set_axis_off()\n",
    "\n",
    "#plotting.plot_epi(\n",
    "#    anatimg,\n",
    "#    title=\"T1\", display_mode='ortho', annotate=False, draw_cross=False, cmap='gray');\n",
    "\n",
    "print(image.load_img(melodicimg).shape)\n",
    "first_melodic = image.index_img(melodicimg, 0)\n",
    "plt.figure(figsize=(20,40))\n",
    "plotting.plot_stat_map(first_melodic, bg_img=anatimg)\n"
   ]
  },
  {
   "cell_type": "code",
   "execution_count": null,
   "id": "bc7eb11f",
   "metadata": {},
   "outputs": [],
   "source": [
    "# long plot with brain slices from bottom to top\n",
    "\n",
    "\n",
    "# frequency of the IC\n",
    "\n"
   ]
  },
  {
   "cell_type": "code",
   "execution_count": null,
   "id": "c64dfdec",
   "metadata": {},
   "outputs": [],
   "source": [
    "nilearn.plotting.displays._slicers.OrthoSlicer?"
   ]
  },
  {
   "cell_type": "code",
   "execution_count": null,
   "id": "31a7f355",
   "metadata": {},
   "outputs": [],
   "source": [
    "selected_volumes = image.index_img(melodicimg, slice(3, 5))\n",
    "\n",
    "for img in image.iter_img(selected_volumes):\n",
    "    # img is now an in-memory 3D img\n",
    "    plotting.plot_stat_map(img, threshold=3, display_mode=\"z\", cut_coords=1,\n",
    "                           colorbar=False, bg_img=anatimg)"
   ]
  }
 ],
 "metadata": {
  "kernelspec": {
   "display_name": "Python 3",
   "language": "python",
   "name": "python3"
  },
  "language_info": {
   "codemirror_mode": {
    "name": "ipython",
    "version": 3
   },
   "file_extension": ".py",
   "mimetype": "text/x-python",
   "name": "python",
   "nbconvert_exporter": "python",
   "pygments_lexer": "ipython3",
   "version": "3.6.9"
  }
 },
 "nbformat": 4,
 "nbformat_minor": 5
}
