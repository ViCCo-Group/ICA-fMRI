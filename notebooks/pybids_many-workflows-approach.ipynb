{
 "cells": [
  {
   "cell_type": "code",
   "execution_count": 1,
   "id": "d814f2cf",
   "metadata": {},
   "outputs": [
    {
     "name": "stdout",
     "output_type": "stream",
     "text": [
      "220519-10:24:38,395 nipype.utils WARNING:\n",
      "\t A newer version (1.8.1) of nipy/nipype is available. You are using 1.7.1\n"
     ]
    }
   ],
   "source": [
    "import os\n",
    "import sys\n",
    "from os.path import join, pardir\n",
    "sys.path.append(pardir)\n",
    "from bids import BIDSLayout\n",
    "from itertools import product, chain\n",
    "from nipype.pipeline.engine import Workflow\n",
    "from ica_wf import make_subject_ica_wf"
   ]
  },
  {
   "cell_type": "code",
   "execution_count": 2,
   "id": "12d5f48d",
   "metadata": {},
   "outputs": [],
   "source": [
    "def get_datapaths(bids_layout, subject, session, run, task, space, outdir):\n",
    "    \"\"\"\n",
    "    Extract mask and bold file paths for one subject for one task\n",
    "    of one run for one type of space etc.\n",
    "    \n",
    "    Input: BIDSlayout, subject, ...  \n",
    "    Output: bold filepath, mask filepath and output directory (each as string)\n",
    "    \"\"\"\n",
    "    # check if run and session are present\n",
    "    run = None if run in ('0','00', '') else run\n",
    "    session = None if session in ('0','00', '') else session\n",
    "    # get paths\n",
    "    bold_file = bids_layout.get(\n",
    "                        subject=subject,\n",
    "                        run=run,\n",
    "                        session=session,\n",
    "                        task=task,\n",
    "                        space=space,\n",
    "                        extension='nii.gz',\n",
    "                        suffix='bold',\n",
    "                        return_type='filename'\n",
    "                        )\n",
    "    # check if AROMA was used - if yes, exclude this file\n",
    "    bold_file = [i for i in bold_file if \"AROMA\" not in i]\n",
    "    \n",
    "    mask_file = bids_layout.get(\n",
    "                        subject=subject,\n",
    "                        run=run,\n",
    "                        session=session,\n",
    "                        task=task,\n",
    "                        space=space,\n",
    "                        extension='nii.gz',\n",
    "                        suffix='mask',\n",
    "                        return_type='filename'\n",
    "                        )\n",
    "    out_dir = join(outdir,\n",
    "                   f'sub-{subject}',\n",
    "                   f'sub-{subject}_ses-{session}_task-{task}_run-{run}_space-{space}-melodic')\n",
    "    return bold_file, mask_file, out_dir"
   ]
  },
  {
   "cell_type": "code",
   "execution_count": 3,
   "id": "394030ca",
   "metadata": {},
   "outputs": [],
   "source": [
    "def return_datapaths(bids_layout, outdir, subject=\"all\", session=\"all\", run=\"all\",\n",
    "               task=\"all\", space=\"all\"):\n",
    "    \"\"\"\n",
    "    Check if all data paths or only specific paths are asked for and return full paths.\n",
    "    \n",
    "    Input: BIDSlayout\n",
    "    Optional Input: subject, session, run, task, space\n",
    "    Output: one file with all bold and mask file paths as tuples\n",
    "    \"\"\"\n",
    "    if all([param == \"all\" for param in (subject, session, run, task, space)]):\n",
    "        subject = bids_layout.get(return_type='id', target='subject', desc='preproc')\n",
    "        session = bids_layout.get(return_type='id', target='session', desc='preproc')\n",
    "        run = bids_layout.get(return_type='id', target='session', desc='preproc')\n",
    "        task = bids_layout.get(return_type='id', target='task', desc='preproc')\n",
    "        space = bids_layout.get(return_type='id', target='space', desc='preproc')\n",
    "    else:\n",
    "        subject = subject\n",
    "        session = session # TODO: for many runs/sessions, check if pybids gives just a number or a full list\n",
    "        run = run\n",
    "        task = task\n",
    "        space = space\n",
    "    \n",
    "    # check if run and session are present\n",
    "    session = '0' if session == [] else session\n",
    "    run = '0' if run == [] else run\n",
    "    \n",
    "    # create all parameter combinations and get their paths\n",
    "    combinations = list(product(subject, session, run, task, space))\n",
    "    boldfiles_nested, maskfiles_nested, outdirs_nested = zip(*[\n",
    "        get_datapaths(bids_layout, *params, outdir) for params in combinations\n",
    "    ])\n",
    "    outdirs = list(outdirs_nested)\n",
    "    boldfiles = [val for sublist in boldfiles_nested for val in sublist]\n",
    "    maskfiles = [val for sublist in maskfiles_nested for val in sublist]\n",
    "    \n",
    "    # create output folders\n",
    "    for d in outdirs:\n",
    "        if not os.path.exists(d):\n",
    "            os.makedirs(d)\n",
    "    \n",
    "    return boldfiles, maskfiles, outdirs "
   ]
  },
  {
   "cell_type": "code",
   "execution_count": 7,
   "id": "12231c43",
   "metadata": {},
   "outputs": [],
   "source": [
    "def make_dataset_ica(bidsdata_dir, base_dir, tr=1.5, hpf=80., fwhm=4.):\n",
    "    \"\"\"\n",
    "    From a BIDS dataset, search for all bold and mask files and\n",
    "    then calculate ICs.\n",
    "    \n",
    "    Input:\n",
    "        bidsdata_dir = '/LOCAL/jzerbe/faces_vs_houses/ds002938'\n",
    "        base_dir = '/LOCAL/jzerbe/temp_results'\n",
    "        out_dir = '/LOCAL/jzerbe/temp_results/melodic'  # change to bidsdata_dir + /melodic?\n",
    "    Optional input:\n",
    "        tr = 1.5\n",
    "        hpf = 80. # 120./TR\n",
    "        fwhm = 4.0\n",
    "    Output:\n",
    "        calculated ICs\n",
    "    \"\"\"\n",
    "    # The 'layout' function can throw error if derivatives are not saved inside\n",
    "    # the BIDS dataset as a folder called 'derivatives', and also if the\n",
    "    # json description file does not include ... [to-be-added]\n",
    "    out_dir = join(bidsdata_dir, 'derivatives', 'melodic')\n",
    "    layout = BIDSLayout(bidsdata_dir, derivatives=True) \n",
    "    boldlist, masklist, outdirlist = return_datapaths(layout, out_dir)\n",
    "    \n",
    "    runwfs = []\n",
    "    runwftest = make_subject_ica_wf()\n",
    "    runwftest.inputs.inputspec.hpf = hpf\n",
    "    runwftest.inputs.inputspec.tr = tr\n",
    "    runwftest.inputs.inputspec.fwhm = fwhm\n",
    "    runwftest.base_dir = base_dir\n",
    "    i = 1 # iterator to rename workflow\n",
    "\n",
    "    for boldfile, maskfile, outdir in zip(boldlist, masklist, outdirlist):       \n",
    "        runwftest.inputs.inputspec.bold_file = boldfile\n",
    "        runwftest.inputs.inputspec.mask_file = maskfile\n",
    "        runwftest.inputs.inputspec.out_dir = outdir\n",
    "        runwftest.name = join(f'node_{i}')\n",
    "        \n",
    "        wf_name = join(f'melodicwf_{i}')\n",
    "        wf_cloned = runwftest.clone(wf_name) # clone workflow with new name\n",
    "        runwfs.append(wf_cloned)\n",
    "        i += 1\n",
    "    \n",
    "    dataset_wf = Workflow(name='dataset_wf')\n",
    "    dataset_wf.base_dir = base_dir\n",
    "    dataset_wf.add_nodes(runwfs)\n",
    "    \n",
    "    dataset_wf.run('MultiProc', plugin_args={'n_procs': 30}) "
   ]
  },
  {
   "cell_type": "code",
   "execution_count": 8,
   "id": "8b1e541b",
   "metadata": {},
   "outputs": [
    {
     "name": "stdout",
     "output_type": "stream",
     "text": [
      "220519-10:30:18,518 nipype.workflow INFO:\n",
      "\t Generated workflow graph: /LOCAL/jzerbe/code/ICA-fMRI/notebooks/datasetwf_graph_orig.png (graph2use=exec, simple_form=True).\n"
     ]
    }
   ],
   "source": [
    "# Define dataset, base, and output path\n",
    "test_bidsdata_dir = '/LOCAL/jzerbe/faces_vs_houses/ds002938'\n",
    "test_base_dir = '/LOCAL/jzerbe/temp_results'\n",
    "# Start calculating ICs fo all subjects\n",
    "make_dataset_ica(test_bidsdata_dir, test_base_dir)"
   ]
  },
  {
   "cell_type": "code",
   "execution_count": null,
   "id": "79962901",
   "metadata": {},
   "outputs": [],
   "source": [
    "## TODO: Calculate ICs for defined parameter (single subject)\n",
    "#subjects = ['03', '08', '13'] \n",
    "#sessions = ['0'] # per subject\n",
    "#runs = ['0']\n",
    "#tasks = ['effort']\n",
    "#spaces = ['T1w']\n",
    "#\n",
    "#boldlist, masklist, outdirlist = read_paths(layout, subjects, sessions, runs, tasks, spaces, OUT_DIR)"
   ]
  }
 ],
 "metadata": {
  "kernelspec": {
   "display_name": "Python 3",
   "language": "python",
   "name": "python3"
  },
  "language_info": {
   "codemirror_mode": {
    "name": "ipython",
    "version": 3
   },
   "file_extension": ".py",
   "mimetype": "text/x-python",
   "name": "python",
   "nbconvert_exporter": "python",
   "pygments_lexer": "ipython3",
   "version": "3.6.9"
  }
 },
 "nbformat": 4,
 "nbformat_minor": 5
}
