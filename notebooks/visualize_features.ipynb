{
 "cells": [
  {
   "cell_type": "markdown",
   "id": "dd33fa9a",
   "metadata": {},
   "source": [
    "## Visualize features"
   ]
  },
  {
   "cell_type": "code",
   "execution_count": null,
   "id": "03a49cf1",
   "metadata": {},
   "outputs": [],
   "source": [
    "import os\n",
    "import sys\n",
    "import numpy as np\n",
    "import pandas as pd\n",
    "#from nilearn.image import load_img, threshold_img, math_img, resample_to_img\n",
    "#from scipy.ndimage.morphology import binary_erosion\n",
    "#from scipy.signal import periodogram\n",
    "#from os.path import join, pardir\n",
    "#sys.path.append(pardir)\n",
    "#from bids import BIDSLayout\n",
    "#from tqdm import tqdm\n",
    "\n",
    "# plotting\n",
    "import matplotlib.pyplot as plt\n",
    "import seaborn as sb\n",
    "from nilearn.plotting import plot_img\n",
    "from nilearn.masking import intersect_masks, apply_mask"
   ]
  },
  {
   "cell_type": "markdown",
   "id": "bb8c5907",
   "metadata": {},
   "source": [
    "### Multiple plots"
   ]
  },
  {
   "cell_type": "code",
   "execution_count": null,
   "id": "b77ae0a8",
   "metadata": {},
   "outputs": [],
   "source": [
    "# Paths\n",
    "df_faces = pd.read_csv(r'/LOCAL/jzerbe/code/ICA-fMRI/results/df_features_faces-vs-houses.csv')\n",
    "df_emotion = pd.read_csv(r'/LOCAL/jzerbe/code/ICA-fMRI/results/df_features_emotion-category.csv')\n",
    "df_auditory = pd.read_csv(r'/LOCAL/jzerbe/code/ICA-fMRI/results/df_features_auditory-vs-visual.csv')"
   ]
  },
  {
   "cell_type": "code",
   "execution_count": null,
   "id": "a63cc61c",
   "metadata": {},
   "outputs": [],
   "source": [
    "# define plotting region (2 rows, 2 columns)\n",
    "fig, axes = plt.subplots(1, 3)\n",
    "\n",
    "#create density plot in each subplot\n",
    "df_faces_MNI6 = df_faces[df_faces['space'] == 'MNI152NLin6Asym']\n",
    "sb.kdeplot(df_faces_MNI6['hfc'], color='skyblue', fill=True, alpha=.5, linewidth=1.5, ax=axes[0])\n",
    "#ax[0].set_title('MNI152NLin6Asym')\n",
    "\n",
    "\n",
    "#sns.boxplot(data=df, x='team', y='points', ax=axes[0,0])\n",
    "#sns.boxplot(data=df, x='team', y='assists', ax=axes[0,1])\n",
    "#sns.boxplot(data=df, x='team', y='rebounds', ax=axes[1,0])\n",
    "#sns.boxplot(data=df, x='team', y='blocks', ax=axes[1,1])"
   ]
  },
  {
   "cell_type": "code",
   "execution_count": null,
   "id": "7cdf67e3",
   "metadata": {},
   "outputs": [],
   "source": [
    "# Single plot per dataset\n",
    "sb.kdeplot(subplot_spaces['hfc'], color='skyblue', fill=True, alpha=.5, linewidth=1.5)\n",
    "plt.title(f'HFC | {fig_name} | {fig_space}')\n",
    "plt.savefig(fig_path + f'{fig_name}_hfc_{fig_space}_density' + '.jpg')"
   ]
  },
  {
   "cell_type": "markdown",
   "id": "dd638eb0",
   "metadata": {},
   "source": [
    "### Single plots"
   ]
  },
  {
   "cell_type": "code",
   "execution_count": null,
   "id": "fe85a226",
   "metadata": {},
   "outputs": [],
   "source": [
    "# Paths 1/2\n",
    "# '/LOCAL/jzerbe/code/ICA-fMRI/results/df_features_faces_vs_houses.csv\n",
    "# '/LOCAL/jzerbe/code/ICA-fMRI/results/df_features_emotion_category.csv\n",
    "results_dir = '/LOCAL/jzerbe/code/ICA-fMRI/results/df_features_faces_vs_houses.csv'\n",
    "fig_path = '/LOCAL/jzerbe/code/ICA-fMRI/figures/'\n",
    "fig_name = 'faces-vs-houses' #'emotion-category' # 'faces-vs-houses'"
   ]
  },
  {
   "cell_type": "code",
   "execution_count": null,
   "id": "ba058eda",
   "metadata": {},
   "outputs": [],
   "source": [
    "df_raw = pd.read_csv(results_dir)\n",
    "df_raw"
   ]
  },
  {
   "cell_type": "code",
   "execution_count": null,
   "id": "b0360ba1",
   "metadata": {
    "scrolled": true
   },
   "outputs": [],
   "source": [
    "# Which spaces?\n",
    "df_raw['space'].unique()"
   ]
  },
  {
   "cell_type": "code",
   "execution_count": null,
   "id": "c2ccc1dc",
   "metadata": {},
   "outputs": [],
   "source": [
    "# Paths 2/2\n",
    "fig_space = 'T1w'\n",
    "subplot_spaces = df_raw[df_raw['space'] == fig_space]"
   ]
  },
  {
   "cell_type": "code",
   "execution_count": null,
   "id": "ab465188",
   "metadata": {},
   "outputs": [],
   "source": [
    "# Visualize hfc\n",
    "hfc_plt = plt.hist(subplot_spaces['hfc'], bins=70)\n",
    "plt.title(f'HFC | {fig_name} | {fig_space}')\n",
    "plt.savefig(fig_path + f'{fig_name}_hfc_{fig_space}' + '.jpg')"
   ]
  },
  {
   "cell_type": "code",
   "execution_count": null,
   "id": "6eb65077",
   "metadata": {},
   "outputs": [],
   "source": [
    "# Seaborn density plot\n",
    "sb.kdeplot(subplot_spaces['hfc'], color='skyblue', fill=True, alpha=.5, linewidth=1.5)\n",
    "plt.title(f'HFC | {fig_name} | {fig_space}')\n",
    "plt.savefig(fig_path + f'{fig_name}_hfc_{fig_space}_density' + '.jpg')"
   ]
  },
  {
   "cell_type": "code",
   "execution_count": null,
   "id": "9807e812",
   "metadata": {},
   "outputs": [],
   "source": [
    "# Visualize edge fraction\n",
    "edgefrac_plt = plt.hist(subplot_spaces['edgefrac'], bins=100)\n",
    "plt.title(f'Edge Fraction | {fig_name} | {fig_space}')\n",
    "plt.savefig(fig_path + f'{fig_name}_edgefrac_{fig_space}' + '.jpg')"
   ]
  },
  {
   "cell_type": "code",
   "execution_count": null,
   "id": "436f351d",
   "metadata": {},
   "outputs": [],
   "source": [
    "# Seaborn density plot\n",
    "sb.kdeplot(subplot_spaces['edgefrac'], color='skyblue', fill=True, alpha=.5, linewidth=1.5)\n",
    "plt.title(f'Edge Fraction | {fig_name} | {fig_space}')\n",
    "plt.savefig(fig_path + f'{fig_name}_edgefrac_{fig_space}_density' + '.jpg')"
   ]
  },
  {
   "cell_type": "markdown",
   "id": "6757b8d3",
   "metadata": {},
   "source": [
    "# Oli explores calculating ALT features"
   ]
  },
  {
   "cell_type": "code",
   "execution_count": null,
   "id": "10363e6f",
   "metadata": {},
   "outputs": [],
   "source": []
  },
  {
   "cell_type": "code",
   "execution_count": null,
   "id": "a7226af5",
   "metadata": {},
   "outputs": [],
   "source": [
    "comp_f = \"/LOCAL/jzerbe/faces_vs_houses/ds002938/derivatives/melodic/sub-03/sub-03_ses-None_task-effort_run-None_space-T1w-melodic/stats/thresh_zstat100.nii.gz\"\n",
    "aseg_f = '/LOCAL/jzerbe/faces_vs_houses/ds002938/derivatives/fmriprep/sub-03/func/sub-03_task-effort_space-T1w_desc-aseg_dseg.nii.gz'\n",
    "bmask_f = '/LOCAL/jzerbe/faces_vs_houses/ds002938/derivatives/fmriprep/sub-03/func/sub-03_task-effort_space-T1w_desc-brain_mask.nii.gz'"
   ]
  },
  {
   "cell_type": "code",
   "execution_count": null,
   "id": "92539000",
   "metadata": {},
   "outputs": [],
   "source": [
    "def aseg2gm(aseg_f):\n",
    "    gm_left = math_img('img == 3', img=aseg_f)\n",
    "    gm_right = math_img('img == 42', img=aseg_f)\n",
    "    gm = intersect_masks([gm_left, gm_right], threshold=0, connected=False)\n",
    "    return gm\n",
    "gm = aseg2gm(aseg_f)"
   ]
  },
  {
   "cell_type": "code",
   "execution_count": null,
   "id": "299fa841",
   "metadata": {},
   "outputs": [],
   "source": [
    "def calc_gm_prop(comp_f, aseg_f, bmask_f):\n",
    "    # get gm mask\n",
    "    gm = aseg2gm(aseg_f)\n",
    "    # count significant voxels in grey matter\n",
    "    comp_gm = apply_mask(comp_f, gm)\n",
    "    nsig_gm = np.sum(comp_gm > 0.)\n",
    "    # counts ignificant voxels in whole brain\n",
    "    comp_brain = apply_mask(comp_f, bmask_f)\n",
    "    nsig_brain = np.sum(comp_brain > 0.)\n",
    "    #return ratio\n",
    "    gm_prop = nsig_gm / nsig_brain\n",
    "    return gm_prop"
   ]
  },
  {
   "cell_type": "code",
   "execution_count": null,
   "id": "bd9c921c",
   "metadata": {},
   "outputs": [],
   "source": []
  },
  {
   "cell_type": "code",
   "execution_count": null,
   "id": "58994e0f",
   "metadata": {},
   "outputs": [],
   "source": []
  },
  {
   "cell_type": "code",
   "execution_count": null,
   "id": "d2882eb7",
   "metadata": {},
   "outputs": [],
   "source": []
  },
  {
   "cell_type": "code",
   "execution_count": null,
   "id": "a8cd2445",
   "metadata": {},
   "outputs": [],
   "source": [
    "gm_prop"
   ]
  },
  {
   "cell_type": "code",
   "execution_count": null,
   "id": "8ea7a97e",
   "metadata": {},
   "outputs": [],
   "source": [
    "# "
   ]
  }
 ],
 "metadata": {
  "kernelspec": {
   "display_name": "Python 3",
   "language": "python",
   "name": "python3"
  },
  "language_info": {
   "codemirror_mode": {
    "name": "ipython",
    "version": 3
   },
   "file_extension": ".py",
   "mimetype": "text/x-python",
   "name": "python",
   "nbconvert_exporter": "python",
   "pygments_lexer": "ipython3",
   "version": "3.6.9"
  }
 },
 "nbformat": 4,
 "nbformat_minor": 5
}
