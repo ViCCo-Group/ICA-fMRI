{
 "cells": [
  {
   "cell_type": "markdown",
   "id": "dd33fa9a",
   "metadata": {},
   "source": [
    "## Visualize features"
   ]
  },
  {
   "cell_type": "code",
   "execution_count": 1,
   "id": "03a49cf1",
   "metadata": {},
   "outputs": [
    {
     "name": "stderr",
     "output_type": "stream",
     "text": [
      "/LOCAL/jzerbe/testenv/lib/python3.6/site-packages/nilearn/__init__.py:69: FutureWarning: Python 3.6 support is deprecated and will be removed in release 0.10 of Nilearn. Consider switching to Python 3.8 or 3.9.\n",
      "  _python_deprecation_warnings()\n"
     ]
    }
   ],
   "source": [
    "import os\n",
    "import sys\n",
    "import numpy as np\n",
    "import pandas as pd\n",
    "#from nilearn.image import load_img, threshold_img, math_img, resample_to_img\n",
    "#from scipy.ndimage.morphology import binary_erosion\n",
    "#from scipy.signal import periodogram\n",
    "#from os.path import join, pardir\n",
    "#sys.path.append(pardir)\n",
    "#from bids import BIDSLayout\n",
    "#from tqdm import tqdm\n",
    "\n",
    "# plotting\n",
    "import matplotlib.pyplot as plt\n",
    "import seaborn as sb\n",
    "from nilearn.plotting import plot_img\n",
    "from nilearn.masking import intersect_masks, apply_mask"
   ]
  },
  {
   "cell_type": "markdown",
   "id": "fa8eb989",
   "metadata": {},
   "source": [
    "### Multiple plots"
   ]
  },
  {
   "cell_type": "code",
   "execution_count": 30,
   "id": "6546e14f",
   "metadata": {},
   "outputs": [],
   "source": [
    "# Paths\n",
    "df_faces = pd.read_csv(r'/LOCAL/jzerbe/code/ICA-fMRI/results/df_features_faces-vs-houses.csv')\n",
    "df_emotion = pd.read_csv(r'/LOCAL/jzerbe/code/ICA-fMRI/results/df_features_emotion-category.csv')\n",
    "df_auditory = pd.read_csv(r'/LOCAL/jzerbe/code/ICA-fMRI/results/df_features_auditory-vs-visual.csv')"
   ]
  },
  {
   "cell_type": "code",
   "execution_count": 43,
   "id": "62c3de79",
   "metadata": {},
   "outputs": [
    {
     "data": {
      "text/plain": [
       "<AxesSubplot:xlabel='hfc', ylabel='Density'>"
      ]
     },
     "execution_count": 43,
     "metadata": {},
     "output_type": "execute_result"
    },
    {
     "data": {
      "image/png": "[encoded data removed]",
      "text/plain": [
       "<Figure size 432x288 with 3 Axes>"
      ]
     },
     "metadata": {
      "needs_background": "light"
     },
     "output_type": "display_data"
    }
   ],
   "source": [
    "# define plotting region (2 rows, 2 columns)\n",
    "fig, axes = plt.subplots(1, 3)\n",
    "\n",
    "#create density plot in each subplot\n",
    "df_faces_MNI6 = df_faces[df_faces['space'] == 'MNI152NLin6Asym']\n",
    "sb.kdeplot(df_faces_MNI6['hfc'], color='skyblue', fill=True, alpha=.5, linewidth=1.5, ax=axes[0])\n",
    "#ax[0].set_title('MNI152NLin6Asym')\n",
    "\n",
    "\n",
    "#sns.boxplot(data=df, x='team', y='points', ax=axes[0,0])\n",
    "#sns.boxplot(data=df, x='team', y='assists', ax=axes[0,1])\n",
    "#sns.boxplot(data=df, x='team', y='rebounds', ax=axes[1,0])\n",
    "#sns.boxplot(data=df, x='team', y='blocks', ax=axes[1,1])"
   ]
  },
  {
   "cell_type": "code",
   "execution_count": null,
   "id": "f10bc81b",
   "metadata": {},
   "outputs": [],
   "source": [
    "# Single plot per dataset\n",
    "sb.kdeplot(subplot_spaces['hfc'], color='skyblue', fill=True, alpha=.5, linewidth=1.5)\n",
    "plt.title(f'HFC | {fig_name} | {fig_space}')\n",
    "plt.savefig(fig_path + f'{fig_name}_hfc_{fig_space}_density' + '.jpg')"
   ]
  },
  {
   "cell_type": "markdown",
   "id": "b6b81f3c",
   "metadata": {},
   "source": [
    "### Single plots"
   ]
  },
  {
   "cell_type": "code",
   "execution_count": 10,
   "id": "d536bbb8",
   "metadata": {},
   "outputs": [],
   "source": [
    "# Paths 1/2\n",
    "# '/LOCAL/jzerbe/code/ICA-fMRI/results/df_features_faces_vs_houses.csv\n",
    "# '/LOCAL/jzerbe/code/ICA-fMRI/results/df_features_emotion_category.csv\n",
    "results_dir = '/LOCAL/jzerbe/code/ICA-fMRI/results/df_features_auditory_vs_visual.csv'\n",
    "fig_path = '/LOCAL/jzerbe/code/ICA-fMRI/figures/'\n",
    "fig_name = 'auditory-vs-visual' #'emotion-category' # 'faces-vs-houses'"
   ]
  },
  {
   "cell_type": "code",
   "execution_count": 3,
   "id": "3d04a0d3",
   "metadata": {},
   "outputs": [
    {
     "data": {
      "text/html": [
       "<div>\n",
       "<style scoped>\n",
       "    .dataframe tbody tr th:only-of-type {\n",
       "        vertical-align: middle;\n",
       "    }\n",
       "\n",
       "    .dataframe tbody tr th {\n",
       "        vertical-align: top;\n",
       "    }\n",
       "\n",
       "    .dataframe thead th {\n",
       "        text-align: right;\n",
       "    }\n",
       "</style>\n",
       "<table border=\"1\" class=\"dataframe\">\n",
       "  <thead>\n",
       "    <tr style=\"text-align: right;\">\n",
       "      <th></th>\n",
       "      <th>Unnamed: 0</th>\n",
       "      <th>subject</th>\n",
       "      <th>session</th>\n",
       "      <th>task</th>\n",
       "      <th>run</th>\n",
       "      <th>space</th>\n",
       "      <th>directory</th>\n",
       "      <th>fullpath</th>\n",
       "      <th>edgefrac</th>\n",
       "      <th>hfc</th>\n",
       "    </tr>\n",
       "  </thead>\n",
       "  <tbody>\n",
       "    <tr>\n",
       "      <th>0</th>\n",
       "      <td>0</td>\n",
       "      <td>1</td>\n",
       "      <td>NaN</td>\n",
       "      <td>SESS01</td>\n",
       "      <td>NaN</td>\n",
       "      <td>MNI152NLin6Asym</td>\n",
       "      <td>sub-01_task-SESS01_space-MNI152NLin6Asym_melodic</td>\n",
       "      <td>/LOCAL/jzerbe/auditory_vs_visual/ds003717/deri...</td>\n",
       "      <td>0.189497</td>\n",
       "      <td>0.191176</td>\n",
       "    </tr>\n",
       "    <tr>\n",
       "      <th>1</th>\n",
       "      <td>1</td>\n",
       "      <td>1</td>\n",
       "      <td>NaN</td>\n",
       "      <td>SESS01</td>\n",
       "      <td>NaN</td>\n",
       "      <td>MNI152NLin6Asym</td>\n",
       "      <td>sub-01_task-SESS01_space-MNI152NLin6Asym_melodic</td>\n",
       "      <td>/LOCAL/jzerbe/auditory_vs_visual/ds003717/deri...</td>\n",
       "      <td>0.189497</td>\n",
       "      <td>0.191176</td>\n",
       "    </tr>\n",
       "    <tr>\n",
       "      <th>2</th>\n",
       "      <td>2</td>\n",
       "      <td>1</td>\n",
       "      <td>NaN</td>\n",
       "      <td>SESS01</td>\n",
       "      <td>NaN</td>\n",
       "      <td>MNI152NLin6Asym</td>\n",
       "      <td>sub-01_task-SESS01_space-MNI152NLin6Asym_melodic</td>\n",
       "      <td>/LOCAL/jzerbe/auditory_vs_visual/ds003717/deri...</td>\n",
       "      <td>0.189497</td>\n",
       "      <td>0.191176</td>\n",
       "    </tr>\n",
       "    <tr>\n",
       "      <th>3</th>\n",
       "      <td>3</td>\n",
       "      <td>1</td>\n",
       "      <td>NaN</td>\n",
       "      <td>SESS01</td>\n",
       "      <td>NaN</td>\n",
       "      <td>MNI152NLin6Asym</td>\n",
       "      <td>sub-01_task-SESS01_space-MNI152NLin6Asym_melodic</td>\n",
       "      <td>/LOCAL/jzerbe/auditory_vs_visual/ds003717/deri...</td>\n",
       "      <td>0.189497</td>\n",
       "      <td>0.191176</td>\n",
       "    </tr>\n",
       "    <tr>\n",
       "      <th>4</th>\n",
       "      <td>4</td>\n",
       "      <td>1</td>\n",
       "      <td>NaN</td>\n",
       "      <td>SESS01</td>\n",
       "      <td>NaN</td>\n",
       "      <td>MNI152NLin6Asym</td>\n",
       "      <td>sub-01_task-SESS01_space-MNI152NLin6Asym_melodic</td>\n",
       "      <td>/LOCAL/jzerbe/auditory_vs_visual/ds003717/deri...</td>\n",
       "      <td>0.189497</td>\n",
       "      <td>0.191176</td>\n",
       "    </tr>\n",
       "    <tr>\n",
       "      <th>...</th>\n",
       "      <td>...</td>\n",
       "      <td>...</td>\n",
       "      <td>...</td>\n",
       "      <td>...</td>\n",
       "      <td>...</td>\n",
       "      <td>...</td>\n",
       "      <td>...</td>\n",
       "      <td>...</td>\n",
       "      <td>...</td>\n",
       "      <td>...</td>\n",
       "    </tr>\n",
       "    <tr>\n",
       "      <th>12163</th>\n",
       "      <td>12163</td>\n",
       "      <td>56</td>\n",
       "      <td>NaN</td>\n",
       "      <td>SESS06</td>\n",
       "      <td>NaN</td>\n",
       "      <td>T1w</td>\n",
       "      <td>sub-56_task-SESS06_space-T1w_melodic</td>\n",
       "      <td>/LOCAL/jzerbe/auditory_vs_visual/ds003717/deri...</td>\n",
       "      <td>0.284397</td>\n",
       "      <td>0.222222</td>\n",
       "    </tr>\n",
       "    <tr>\n",
       "      <th>12164</th>\n",
       "      <td>12164</td>\n",
       "      <td>56</td>\n",
       "      <td>NaN</td>\n",
       "      <td>SESS06</td>\n",
       "      <td>NaN</td>\n",
       "      <td>T1w</td>\n",
       "      <td>sub-56_task-SESS06_space-T1w_melodic</td>\n",
       "      <td>/LOCAL/jzerbe/auditory_vs_visual/ds003717/deri...</td>\n",
       "      <td>0.284397</td>\n",
       "      <td>0.222222</td>\n",
       "    </tr>\n",
       "    <tr>\n",
       "      <th>12165</th>\n",
       "      <td>12165</td>\n",
       "      <td>56</td>\n",
       "      <td>NaN</td>\n",
       "      <td>SESS06</td>\n",
       "      <td>NaN</td>\n",
       "      <td>T1w</td>\n",
       "      <td>sub-56_task-SESS06_space-T1w_melodic</td>\n",
       "      <td>/LOCAL/jzerbe/auditory_vs_visual/ds003717/deri...</td>\n",
       "      <td>0.284397</td>\n",
       "      <td>0.222222</td>\n",
       "    </tr>\n",
       "    <tr>\n",
       "      <th>12166</th>\n",
       "      <td>12166</td>\n",
       "      <td>56</td>\n",
       "      <td>NaN</td>\n",
       "      <td>SESS06</td>\n",
       "      <td>NaN</td>\n",
       "      <td>T1w</td>\n",
       "      <td>sub-56_task-SESS06_space-T1w_melodic</td>\n",
       "      <td>/LOCAL/jzerbe/auditory_vs_visual/ds003717/deri...</td>\n",
       "      <td>0.284397</td>\n",
       "      <td>0.222222</td>\n",
       "    </tr>\n",
       "    <tr>\n",
       "      <th>12167</th>\n",
       "      <td>12167</td>\n",
       "      <td>56</td>\n",
       "      <td>NaN</td>\n",
       "      <td>SESS06</td>\n",
       "      <td>NaN</td>\n",
       "      <td>T1w</td>\n",
       "      <td>sub-56_task-SESS06_space-T1w_melodic</td>\n",
       "      <td>/LOCAL/jzerbe/auditory_vs_visual/ds003717/deri...</td>\n",
       "      <td>0.284397</td>\n",
       "      <td>0.222222</td>\n",
       "    </tr>\n",
       "  </tbody>\n",
       "</table>\n",
       "<p>12168 rows × 10 columns</p>\n",
       "</div>"
      ],
      "text/plain": [
       "       Unnamed: 0  subject  session    task  run            space  \\\n",
       "0               0        1      NaN  SESS01  NaN  MNI152NLin6Asym   \n",
       "1               1        1      NaN  SESS01  NaN  MNI152NLin6Asym   \n",
       "2               2        1      NaN  SESS01  NaN  MNI152NLin6Asym   \n",
       "3               3        1      NaN  SESS01  NaN  MNI152NLin6Asym   \n",
       "4               4        1      NaN  SESS01  NaN  MNI152NLin6Asym   \n",
       "...           ...      ...      ...     ...  ...              ...   \n",
       "12163       12163       56      NaN  SESS06  NaN              T1w   \n",
       "12164       12164       56      NaN  SESS06  NaN              T1w   \n",
       "12165       12165       56      NaN  SESS06  NaN              T1w   \n",
       "12166       12166       56      NaN  SESS06  NaN              T1w   \n",
       "12167       12167       56      NaN  SESS06  NaN              T1w   \n",
       "\n",
       "                                              directory  \\\n",
       "0      sub-01_task-SESS01_space-MNI152NLin6Asym_melodic   \n",
       "1      sub-01_task-SESS01_space-MNI152NLin6Asym_melodic   \n",
       "2      sub-01_task-SESS01_space-MNI152NLin6Asym_melodic   \n",
       "3      sub-01_task-SESS01_space-MNI152NLin6Asym_melodic   \n",
       "4      sub-01_task-SESS01_space-MNI152NLin6Asym_melodic   \n",
       "...                                                 ...   \n",
       "12163              sub-56_task-SESS06_space-T1w_melodic   \n",
       "12164              sub-56_task-SESS06_space-T1w_melodic   \n",
       "12165              sub-56_task-SESS06_space-T1w_melodic   \n",
       "12166              sub-56_task-SESS06_space-T1w_melodic   \n",
       "12167              sub-56_task-SESS06_space-T1w_melodic   \n",
       "\n",
       "                                                fullpath  edgefrac       hfc  \n",
       "0      /LOCAL/jzerbe/auditory_vs_visual/ds003717/deri...  0.189497  0.191176  \n",
       "1      /LOCAL/jzerbe/auditory_vs_visual/ds003717/deri...  0.189497  0.191176  \n",
       "2      /LOCAL/jzerbe/auditory_vs_visual/ds003717/deri...  0.189497  0.191176  \n",
       "3      /LOCAL/jzerbe/auditory_vs_visual/ds003717/deri...  0.189497  0.191176  \n",
       "4      /LOCAL/jzerbe/auditory_vs_visual/ds003717/deri...  0.189497  0.191176  \n",
       "...                                                  ...       ...       ...  \n",
       "12163  /LOCAL/jzerbe/auditory_vs_visual/ds003717/deri...  0.284397  0.222222  \n",
       "12164  /LOCAL/jzerbe/auditory_vs_visual/ds003717/deri...  0.284397  0.222222  \n",
       "12165  /LOCAL/jzerbe/auditory_vs_visual/ds003717/deri...  0.284397  0.222222  \n",
       "12166  /LOCAL/jzerbe/auditory_vs_visual/ds003717/deri...  0.284397  0.222222  \n",
       "12167  /LOCAL/jzerbe/auditory_vs_visual/ds003717/deri...  0.284397  0.222222  \n",
       "\n",
       "[12168 rows x 10 columns]"
      ]
     },
     "execution_count": 3,
     "metadata": {},
     "output_type": "execute_result"
    }
   ],
   "source": [
    "df_raw = pd.read_csv(results_dir)\n",
    "df_raw"
   ]
  },
  {
   "cell_type": "code",
   "execution_count": 5,
   "id": "acabf5d3",
   "metadata": {
    "scrolled": true
   },
   "outputs": [
    {
     "data": {
      "text/plain": [
       "array(['MNI152NLin6Asym', 'MNI152NLin2009cAsym', 'T1w'], dtype=object)"
      ]
     },
     "execution_count": 5,
     "metadata": {},
     "output_type": "execute_result"
    }
   ],
   "source": [
    "# Which spaces?\n",
    "df_raw['space'].unique()"
   ]
  },
  {
   "cell_type": "code",
   "execution_count": 23,
   "id": "2a22cd72",
   "metadata": {},
   "outputs": [],
   "source": [
    "# Paths 2/2\n",
    "fig_space = 'T1w'\n",
    "subplot_spaces = df_raw[df_raw['space'] == fig_space]"
   ]
  },
  {
   "cell_type": "code",
   "execution_count": 24,
   "id": "ab465188",
   "metadata": {},
   "outputs": [
    {
     "data": {
      "image/png": "[encoded data removed]",
      "text/plain": [
       "<Figure size 432x288 with 1 Axes>"
      ]
     },
     "metadata": {
      "needs_background": "light"
     },
     "output_type": "display_data"
    }
   ],
   "source": [
    "# Visualize hfc\n",
    "hfc_plt = plt.hist(subplot_spaces['hfc'], bins=70)\n",
    "plt.title(f'HFC | {fig_name} | {fig_space}')\n",
    "plt.savefig(fig_path + f'{fig_name}_hfc_{fig_space}' + '.jpg')"
   ]
  },
  {
   "cell_type": "code",
   "execution_count": 25,
   "id": "6eb65077",
   "metadata": {},
   "outputs": [
    {
     "data": {
      "image/png": "[encoded data removed]",
      "text/plain": [
       "<Figure size 432x288 with 1 Axes>"
      ]
     },
     "metadata": {
      "needs_background": "light"
     },
     "output_type": "display_data"
    }
   ],
   "source": [
    "# Seaborn density plot\n",
    "sb.kdeplot(subplot_spaces['hfc'], color='skyblue', fill=True, alpha=.5, linewidth=1.5)\n",
    "plt.title(f'HFC | {fig_name} | {fig_space}')\n",
    "plt.savefig(fig_path + f'{fig_name}_hfc_{fig_space}_density' + '.jpg')"
   ]
  },
  {
   "cell_type": "code",
   "execution_count": 26,
   "id": "9807e812",
   "metadata": {},
   "outputs": [
    {
     "data": {
      "image/png": "[encoded data removed]",
      "text/plain": [
       "<Figure size 432x288 with 1 Axes>"
      ]
     },
     "metadata": {
      "needs_background": "light"
     },
     "output_type": "display_data"
    }
   ],
   "source": [
    "# Visualize edge fraction\n",
    "edgefrac_plt = plt.hist(subplot_spaces['edgefrac'], bins=100)\n",
    "plt.title(f'Edge Fraction | {fig_name} | {fig_space}')\n",
    "plt.savefig(fig_path + f'{fig_name}_edgefrac_{fig_space}' + '.jpg')"
   ]
  },
  {
   "cell_type": "code",
   "execution_count": 27,
   "id": "436f351d",
   "metadata": {},
   "outputs": [
    {
     "data": {
      "image/png": "[encoded data removed]",
      "text/plain": [
       "<Figure size 432x288 with 1 Axes>"
      ]
     },
     "metadata": {
      "needs_background": "light"
     },
     "output_type": "display_data"
    }
   ],
   "source": [
    "# Seaborn density plot\n",
    "sb.kdeplot(subplot_spaces['edgefrac'], color='skyblue', fill=True, alpha=.5, linewidth=1.5)\n",
    "plt.title(f'Edge Fraction | {fig_name} | {fig_space}')\n",
    "plt.savefig(fig_path + f'{fig_name}_edgefrac_{fig_space}_density' + '.jpg')"
   ]
  },
  {
   "cell_type": "markdown",
   "id": "6757b8d3",
   "metadata": {},
   "source": [
    "# Oli explores calculating ALT features"
   ]
  },
  {
   "cell_type": "code",
   "execution_count": null,
   "id": "10363e6f",
   "metadata": {},
   "outputs": [],
   "source": []
  },
  {
   "cell_type": "code",
   "execution_count": null,
   "id": "a7226af5",
   "metadata": {},
   "outputs": [],
   "source": [
    "comp_f = \"/LOCAL/jzerbe/faces_vs_houses/ds002938/derivatives/melodic/sub-03/sub-03_ses-None_task-effort_run-None_space-T1w-melodic/stats/thresh_zstat100.nii.gz\"\n",
    "aseg_f = '/LOCAL/jzerbe/faces_vs_houses/ds002938/derivatives/fmriprep/sub-03/func/sub-03_task-effort_space-T1w_desc-aseg_dseg.nii.gz'\n",
    "bmask_f = '/LOCAL/jzerbe/faces_vs_houses/ds002938/derivatives/fmriprep/sub-03/func/sub-03_task-effort_space-T1w_desc-brain_mask.nii.gz'"
   ]
  },
  {
   "cell_type": "code",
   "execution_count": null,
   "id": "92539000",
   "metadata": {},
   "outputs": [],
   "source": [
    "def aseg2gm(aseg_f):\n",
    "    gm_left = math_img('img == 3', img=aseg_f)\n",
    "    gm_right = math_img('img == 42', img=aseg_f)\n",
    "    gm = intersect_masks([gm_left, gm_right], threshold=0, connected=False)\n",
    "    return gm\n",
    "gm = aseg2gm(aseg_f)"
   ]
  },
  {
   "cell_type": "code",
   "execution_count": null,
   "id": "299fa841",
   "metadata": {},
   "outputs": [],
   "source": [
    "def calc_gm_prop(comp_f, aseg_f, bmask_f):\n",
    "    # get gm mask\n",
    "    gm = aseg2gm(aseg_f)\n",
    "    # count significant voxels in grey matter\n",
    "    comp_gm = apply_mask(comp_f, gm)\n",
    "    nsig_gm = np.sum(comp_gm > 0.)\n",
    "    # counts ignificant voxels in whole brain\n",
    "    comp_brain = apply_mask(comp_f, bmask_f)\n",
    "    nsig_brain = np.sum(comp_brain > 0.)\n",
    "    #return ratio\n",
    "    gm_prop = nsig_gm / nsig_brain\n",
    "    return gm_prop"
   ]
  },
  {
   "cell_type": "code",
   "execution_count": null,
   "id": "bd9c921c",
   "metadata": {},
   "outputs": [],
   "source": []
  },
  {
   "cell_type": "code",
   "execution_count": null,
   "id": "58994e0f",
   "metadata": {},
   "outputs": [],
   "source": []
  },
  {
   "cell_type": "code",
   "execution_count": null,
   "id": "d2882eb7",
   "metadata": {},
   "outputs": [],
   "source": []
  },
  {
   "cell_type": "code",
   "execution_count": null,
   "id": "a8cd2445",
   "metadata": {},
   "outputs": [],
   "source": [
    "gm_prop"
   ]
  },
  {
   "cell_type": "code",
   "execution_count": null,
   "id": "8ea7a97e",
   "metadata": {},
   "outputs": [],
   "source": [
    "# "
   ]
  }
 ],
 "metadata": {
  "kernelspec": {
   "display_name": "Python 3",
   "language": "python",
   "name": "python3"
  },
  "language_info": {
   "codemirror_mode": {
    "name": "ipython",
    "version": 3
   },
   "file_extension": ".py",
   "mimetype": "text/x-python",
   "name": "python",
   "nbconvert_exporter": "python",
   "pygments_lexer": "ipython3",
   "version": "3.6.9"
  }
 },
 "nbformat": 4,
 "nbformat_minor": 5
}
