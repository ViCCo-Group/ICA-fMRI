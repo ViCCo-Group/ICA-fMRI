{
 "cells": [
  {
   "cell_type": "code",
   "execution_count": 1,
   "id": "1cd0f0a7",
   "metadata": {
    "ExecuteTime": {
     "end_time": "2022-04-14T08:08:38.770601Z",
     "start_time": "2022-04-14T08:08:36.216220Z"
    }
   },
   "outputs": [
    {
     "name": "stdout",
     "output_type": "stream",
     "text": [
      "220414-10:08:38,648 nipype.utils WARNING:\n",
      "\t A newer version (1.7.1) of nipy/nipype is available. You are using 1.5.1\n"
     ]
    }
   ],
   "source": [
    "from os.path import join as pjoin\n",
    "import numpy as np\n",
    "from nilearn.image import load_img\n",
    "from nilearn.masking import intersect_masks\n",
    "from nipype import config\n",
    "from nipype.interfaces.fsl.maths import TemporalFilter\n",
    "from nipype.interfaces.fsl.model import MELODIC\n",
    "from nipype.interfaces.fsl.preprocess import SUSAN\n",
    "from nipype.interfaces.utility import Function\n",
    "from nipype.pipeline.engine import MapNode, Workflow, Node\n",
    "from tqdm.notebook import tqdm"
   ]
  },
  {
   "cell_type": "code",
   "execution_count": 2,
   "id": "145878e9",
   "metadata": {
    "ExecuteTime": {
     "end_time": "2022-04-14T08:08:48.517747Z",
     "start_time": "2022-04-14T08:08:48.513092Z"
    }
   },
   "outputs": [],
   "source": [
    "config.enable_debug_mode()"
   ]
  },
  {
   "cell_type": "code",
   "execution_count": 4,
   "id": "26e7935e",
   "metadata": {
    "ExecuteTime": {
     "end_time": "2022-04-14T08:18:18.788340Z",
     "start_time": "2022-04-14T08:18:18.781607Z"
    }
   },
   "outputs": [],
   "source": [
    "def calc_susan_thresh(boldfile, maskfile, timeax=0, median_factor=.75):\n",
    "    \"\"\"\n",
    "    Calculate the median value within brainmask and multiply with fixed factor to get an estimate of the contrast\n",
    "    between background and brain for FSL's SUSAN.\n",
    "    \"\"\"\n",
    "    from nilearn.masking import apply_mask\n",
    "    import numpy as np\n",
    "    data = apply_mask(boldfile, maskfile)\n",
    "    med = np.median(data.mean(axis=timeax))\n",
    "    del data  # suspect memory leak\n",
    "    return med * median_factor"
   ]
  },
  {
   "cell_type": "code",
   "execution_count": 3,
   "id": "a0bfc24a",
   "metadata": {
    "ExecuteTime": {
     "end_time": "2022-04-14T08:12:48.897204Z",
     "start_time": "2022-04-14T08:12:48.892183Z"
    }
   },
   "outputs": [],
   "source": [
    "# TODO: Do preprocessing and ICA\n",
    "\n",
    "# Required inputs:\n",
    "# - functional run (bold file)\n",
    "# - brain mask\n",
    "\n",
    "# Desired outputs:\n",
    "# - A nipype workflow that combines precessing (smoothing/temporal filtering) \n",
    "# and ICA for one functional run"
   ]
  },
  {
   "cell_type": "code",
   "execution_count": null,
   "id": "2fc8b0d3",
   "metadata": {},
   "outputs": [],
   "source": [
    "def make_subject_ica_wf(bold_file, mask_file, hpf_sec, tr):\n",
    "    \"\"\"\n",
    "    TODO: give TR as input (to this function) or infer from data?\n",
    "    \"\"\"\n",
    "    ### TODO: create input spec ##\n",
    "    \n",
    "    # create node for smoothing\n",
    "    calcthresh = Node(\n",
    "        Function(\n",
    "            function=calc_susan_thresh, input_names=['boldfile', 'maskfile'], \n",
    "            output_names=['smooth_thresh'], \n",
    "            name='calcthresh')\n",
    "    )\n",
    "    susan = Node(SUSAN(fwhm=fwhm), name='susan') # requires \n",
    "    # ... temporal filtering\n",
    "    tfilt = Node(TemporalFilter(highpass_sigma=float(hpf_sec/tr)), name='tfilt')\n",
    "    # ... ICA\n",
    "    # inputs: out_dir, no_bet=???, num_ICs???, \n",
    "    melodic = Node(MELODIC(tr_sec=tr, out_all=True, no_bet=True, report=True), name='melodic')\n",
    "\n",
    "    ### TODO: create output spec ##\n",
    "    \n",
    "    # connect nodes in workflow\n",
    "    wf = Workflow(name='melodicwf', base_dir='/home/ocontier/scratch'\n",
    "    wf.connect([\n",
    "    #   (inputspec, ..., ...)\n",
    "        (calcthresh, susan, [('smooth_thresh', 'brightness_threshold')]),\n",
    "        (susan, tfilt, [('smoothed_file', 'in_file')]),\n",
    "        (tfilt, melodic, [('out_file', 'in_files')]),\n",
    "    #   (..., outputspec, ...)\n",
    "    ])\n",
    "    return wf"
   ]
  },
  {
   "cell_type": "markdown",
   "id": "6a1bd0b7",
   "metadata": {},
   "source": [
    "# Tasks\n",
    "\n",
    "- Add inputspec and outputspec to our workflow!\n",
    "- execute for a bunch of runs/subjects/datasets!\n",
    "- Put the code we wrote today in a python file in our repo for future happy uses!!!"
   ]
  },
  {
   "cell_type": "code",
   "execution_count": null,
   "id": "a8c59c0d",
   "metadata": {},
   "outputs": [],
   "source": []
  }
 ],
 "metadata": {
  "kernelspec": {
   "display_name": "Python 3 (ipykernel)",
   "language": "python",
   "name": "python3"
  },
  "language_info": {
   "codemirror_mode": {
    "name": "ipython",
    "version": 3
   },
   "file_extension": ".py",
   "mimetype": "text/x-python",
   "name": "python",
   "nbconvert_exporter": "python",
   "pygments_lexer": "ipython3",
   "version": "3.8.12"
  }
 },
 "nbformat": 4,
 "nbformat_minor": 5
}
